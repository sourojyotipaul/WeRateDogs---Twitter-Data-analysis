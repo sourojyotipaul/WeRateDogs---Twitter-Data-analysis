{
 "cells": [
  {
   "cell_type": "markdown",
   "metadata": {
    "extensions": {
     "jupyter_dashboards": {
      "version": 1,
      "views": {
       "grid_default": {
        "col": 0,
        "height": 4,
        "hidden": false,
        "row": 0,
        "width": 4
       },
       "report_default": {
        "hidden": false
       }
      }
     }
    }
   },
   "source": [
    "# Project: Wrangling and Analyze Data"
   ]
  },
  {
   "cell_type": "markdown",
   "metadata": {},
   "source": [
    "## Importing libraries"
   ]
  },
  {
   "cell_type": "code",
   "execution_count": 92,
   "metadata": {},
   "outputs": [],
   "source": [
    "# Importing Library.\n",
    "\n",
    "# Importing pandas to work with DataFrames.\n",
    "import pandas as pd\n",
    "pd.set_option('mode.chained_assignment','raise')\n",
    "\n",
    "# Importing numpy to general methods.\n",
    "import numpy as np\n",
    "\n",
    "# Importing OS package to write and open files.\n",
    "import os\n",
    "\n",
    "# Importing the requests to create a object from a given URL.\n",
    "import requests\n",
    "\n",
    "# Importing the Client Code to use the Twitter API.\n",
    "import tweepy\n",
    "\n",
    "# Importing the json package to easy my task with json files\n",
    "import json\n",
    "\n",
    "# Importing the time package to calculate the elapse time to access the Twitter API\n",
    "import time\n",
    "\n",
    "# Importing the re package to use the regular expressions.\n",
    "import re\n",
    "\n",
    "# Importing the matplotlib to create graphics\n",
    "import matplotlib.pyplot as plt\n",
    "%matplotlib inline\n",
    "\n",
    "# Import seaborn to better the visualization\n",
    "import seaborn as sns"
   ]
  },
  {
   "cell_type": "markdown",
   "metadata": {},
   "source": [
    "## Data Gathering\n",
    "In the cell below, gather **all** three pieces of data for this project and load them in the notebook. **Note:** the methods required to gather each data are different.\n",
    "1. Directly download the WeRateDogs Twitter archive data (twitter_archive_enhanced.csv)"
   ]
  },
  {
   "cell_type": "code",
   "execution_count": 93,
   "metadata": {
    "extensions": {
     "jupyter_dashboards": {
      "version": 1,
      "views": {
       "grid_default": {
        "hidden": true
       },
       "report_default": {
        "hidden": true
       }
      }
     }
    }
   },
   "outputs": [],
   "source": [
    "# Creating a folder to store the files.\n",
    "folder = \"resources\" # Folder's name.\n",
    "\n",
    "# Checking if the folder already exist.\n",
    "if not folder in os.listdir():\n",
    "    os.mkdir(folder)  # Creating the folder when 01-Dataset do not exist.\n",
    "\n",
    "# List of files.\n",
    "list_url = ['https://d17h27t6h515a5.cloudfront.net/topher/2017/August/59a4e958_twitter-archive-enhanced/twitter-archive-enhanced.csv',\n",
    "            'https://d17h27t6h515a5.cloudfront.net/topher/2017/August/599fd2ad_image-predictions/image-predictions.tsv']\n",
    "\n",
    "# Loop to download the two files hosted in Udacity website.\n",
    "for url in list_url:\n",
    "    if not url.split('/')[-1].replace('-','_') in os.listdir(folder):                              # Check if the files already exist.\n",
    "        response = requests.get(url)                                                               # Creating an object of the given URL.\n",
    "        with open(os.path.join(folder,url.split('/')[-1].replace('-','_')), mode = 'wb') as file:  # Defining the file name.\n",
    "            file.write(response.content)       "
   ]
  },
  {
   "cell_type": "markdown",
   "metadata": {},
   "source": [
    "2. Use the Requests library to download the tweet image prediction (image_predictions.tsv)"
   ]
  },
  {
   "cell_type": "code",
   "execution_count": 94,
   "metadata": {},
   "outputs": [],
   "source": [
    "# Loading the image precictions\n",
    "df_img = pd.read_csv('resources/image_predictions.tsv', sep = '\\t') # tsv file need to configure the sep as tabular.\n",
    "\n",
    "# Loading the archive of WeRateDogs.\n",
    "df_ach = pd.read_csv('resources/twitter_archive_enhanced.csv') # regular csv file."
   ]
  },
  {
   "cell_type": "code",
   "execution_count": 95,
   "metadata": {},
   "outputs": [
    {
     "data": {
      "text/html": [
       "<div>\n",
       "<style scoped>\n",
       "    .dataframe tbody tr th:only-of-type {\n",
       "        vertical-align: middle;\n",
       "    }\n",
       "\n",
       "    .dataframe tbody tr th {\n",
       "        vertical-align: top;\n",
       "    }\n",
       "\n",
       "    .dataframe thead th {\n",
       "        text-align: right;\n",
       "    }\n",
       "</style>\n",
       "<table border=\"1\" class=\"dataframe\">\n",
       "  <thead>\n",
       "    <tr style=\"text-align: right;\">\n",
       "      <th></th>\n",
       "      <th>tweet_id</th>\n",
       "      <th>jpg_url</th>\n",
       "      <th>img_num</th>\n",
       "      <th>p1</th>\n",
       "      <th>p1_conf</th>\n",
       "      <th>p1_dog</th>\n",
       "      <th>p2</th>\n",
       "      <th>p2_conf</th>\n",
       "      <th>p2_dog</th>\n",
       "      <th>p3</th>\n",
       "      <th>p3_conf</th>\n",
       "      <th>p3_dog</th>\n",
       "    </tr>\n",
       "  </thead>\n",
       "  <tbody>\n",
       "    <tr>\n",
       "      <th>0</th>\n",
       "      <td>666020888022790149</td>\n",
       "      <td>https://pbs.twimg.com/media/CT4udn0WwAA0aMy.jpg</td>\n",
       "      <td>1</td>\n",
       "      <td>Welsh_springer_spaniel</td>\n",
       "      <td>0.465074</td>\n",
       "      <td>True</td>\n",
       "      <td>collie</td>\n",
       "      <td>0.156665</td>\n",
       "      <td>True</td>\n",
       "      <td>Shetland_sheepdog</td>\n",
       "      <td>0.061428</td>\n",
       "      <td>True</td>\n",
       "    </tr>\n",
       "    <tr>\n",
       "      <th>1</th>\n",
       "      <td>666029285002620928</td>\n",
       "      <td>https://pbs.twimg.com/media/CT42GRgUYAA5iDo.jpg</td>\n",
       "      <td>1</td>\n",
       "      <td>redbone</td>\n",
       "      <td>0.506826</td>\n",
       "      <td>True</td>\n",
       "      <td>miniature_pinscher</td>\n",
       "      <td>0.074192</td>\n",
       "      <td>True</td>\n",
       "      <td>Rhodesian_ridgeback</td>\n",
       "      <td>0.072010</td>\n",
       "      <td>True</td>\n",
       "    </tr>\n",
       "    <tr>\n",
       "      <th>2</th>\n",
       "      <td>666033412701032449</td>\n",
       "      <td>https://pbs.twimg.com/media/CT4521TWwAEvMyu.jpg</td>\n",
       "      <td>1</td>\n",
       "      <td>German_shepherd</td>\n",
       "      <td>0.596461</td>\n",
       "      <td>True</td>\n",
       "      <td>malinois</td>\n",
       "      <td>0.138584</td>\n",
       "      <td>True</td>\n",
       "      <td>bloodhound</td>\n",
       "      <td>0.116197</td>\n",
       "      <td>True</td>\n",
       "    </tr>\n",
       "    <tr>\n",
       "      <th>3</th>\n",
       "      <td>666044226329800704</td>\n",
       "      <td>https://pbs.twimg.com/media/CT5Dr8HUEAA-lEu.jpg</td>\n",
       "      <td>1</td>\n",
       "      <td>Rhodesian_ridgeback</td>\n",
       "      <td>0.408143</td>\n",
       "      <td>True</td>\n",
       "      <td>redbone</td>\n",
       "      <td>0.360687</td>\n",
       "      <td>True</td>\n",
       "      <td>miniature_pinscher</td>\n",
       "      <td>0.222752</td>\n",
       "      <td>True</td>\n",
       "    </tr>\n",
       "    <tr>\n",
       "      <th>4</th>\n",
       "      <td>666049248165822465</td>\n",
       "      <td>https://pbs.twimg.com/media/CT5IQmsXIAAKY4A.jpg</td>\n",
       "      <td>1</td>\n",
       "      <td>miniature_pinscher</td>\n",
       "      <td>0.560311</td>\n",
       "      <td>True</td>\n",
       "      <td>Rottweiler</td>\n",
       "      <td>0.243682</td>\n",
       "      <td>True</td>\n",
       "      <td>Doberman</td>\n",
       "      <td>0.154629</td>\n",
       "      <td>True</td>\n",
       "    </tr>\n",
       "  </tbody>\n",
       "</table>\n",
       "</div>"
      ],
      "text/plain": [
       "             tweet_id                                          jpg_url  \\\n",
       "0  666020888022790149  https://pbs.twimg.com/media/CT4udn0WwAA0aMy.jpg   \n",
       "1  666029285002620928  https://pbs.twimg.com/media/CT42GRgUYAA5iDo.jpg   \n",
       "2  666033412701032449  https://pbs.twimg.com/media/CT4521TWwAEvMyu.jpg   \n",
       "3  666044226329800704  https://pbs.twimg.com/media/CT5Dr8HUEAA-lEu.jpg   \n",
       "4  666049248165822465  https://pbs.twimg.com/media/CT5IQmsXIAAKY4A.jpg   \n",
       "\n",
       "   img_num                      p1   p1_conf  p1_dog                  p2  \\\n",
       "0        1  Welsh_springer_spaniel  0.465074    True              collie   \n",
       "1        1                 redbone  0.506826    True  miniature_pinscher   \n",
       "2        1         German_shepherd  0.596461    True            malinois   \n",
       "3        1     Rhodesian_ridgeback  0.408143    True             redbone   \n",
       "4        1      miniature_pinscher  0.560311    True          Rottweiler   \n",
       "\n",
       "    p2_conf  p2_dog                   p3   p3_conf  p3_dog  \n",
       "0  0.156665    True    Shetland_sheepdog  0.061428    True  \n",
       "1  0.074192    True  Rhodesian_ridgeback  0.072010    True  \n",
       "2  0.138584    True           bloodhound  0.116197    True  \n",
       "3  0.360687    True   miniature_pinscher  0.222752    True  \n",
       "4  0.243682    True             Doberman  0.154629    True  "
      ]
     },
     "execution_count": 95,
     "metadata": {},
     "output_type": "execute_result"
    }
   ],
   "source": [
    "df_img.head()"
   ]
  },
  {
   "cell_type": "code",
   "execution_count": 96,
   "metadata": {},
   "outputs": [
    {
     "data": {
      "text/html": [
       "<div>\n",
       "<style scoped>\n",
       "    .dataframe tbody tr th:only-of-type {\n",
       "        vertical-align: middle;\n",
       "    }\n",
       "\n",
       "    .dataframe tbody tr th {\n",
       "        vertical-align: top;\n",
       "    }\n",
       "\n",
       "    .dataframe thead th {\n",
       "        text-align: right;\n",
       "    }\n",
       "</style>\n",
       "<table border=\"1\" class=\"dataframe\">\n",
       "  <thead>\n",
       "    <tr style=\"text-align: right;\">\n",
       "      <th></th>\n",
       "      <th>tweet_id</th>\n",
       "      <th>in_reply_to_status_id</th>\n",
       "      <th>in_reply_to_user_id</th>\n",
       "      <th>timestamp</th>\n",
       "      <th>source</th>\n",
       "      <th>text</th>\n",
       "      <th>retweeted_status_id</th>\n",
       "      <th>retweeted_status_user_id</th>\n",
       "      <th>retweeted_status_timestamp</th>\n",
       "      <th>expanded_urls</th>\n",
       "      <th>rating_numerator</th>\n",
       "      <th>rating_denominator</th>\n",
       "      <th>name</th>\n",
       "      <th>doggo</th>\n",
       "      <th>floofer</th>\n",
       "      <th>pupper</th>\n",
       "      <th>puppo</th>\n",
       "    </tr>\n",
       "  </thead>\n",
       "  <tbody>\n",
       "    <tr>\n",
       "      <th>0</th>\n",
       "      <td>892420643555336193</td>\n",
       "      <td>NaN</td>\n",
       "      <td>NaN</td>\n",
       "      <td>2017-08-01 16:23:56 +0000</td>\n",
       "      <td>&lt;a href=\"http://twitter.com/download/iphone\" r...</td>\n",
       "      <td>This is Phineas. He's a mystical boy. Only eve...</td>\n",
       "      <td>NaN</td>\n",
       "      <td>NaN</td>\n",
       "      <td>NaN</td>\n",
       "      <td>https://twitter.com/dog_rates/status/892420643...</td>\n",
       "      <td>13</td>\n",
       "      <td>10</td>\n",
       "      <td>Phineas</td>\n",
       "      <td>None</td>\n",
       "      <td>None</td>\n",
       "      <td>None</td>\n",
       "      <td>None</td>\n",
       "    </tr>\n",
       "    <tr>\n",
       "      <th>1</th>\n",
       "      <td>892177421306343426</td>\n",
       "      <td>NaN</td>\n",
       "      <td>NaN</td>\n",
       "      <td>2017-08-01 00:17:27 +0000</td>\n",
       "      <td>&lt;a href=\"http://twitter.com/download/iphone\" r...</td>\n",
       "      <td>This is Tilly. She's just checking pup on you....</td>\n",
       "      <td>NaN</td>\n",
       "      <td>NaN</td>\n",
       "      <td>NaN</td>\n",
       "      <td>https://twitter.com/dog_rates/status/892177421...</td>\n",
       "      <td>13</td>\n",
       "      <td>10</td>\n",
       "      <td>Tilly</td>\n",
       "      <td>None</td>\n",
       "      <td>None</td>\n",
       "      <td>None</td>\n",
       "      <td>None</td>\n",
       "    </tr>\n",
       "    <tr>\n",
       "      <th>2</th>\n",
       "      <td>891815181378084864</td>\n",
       "      <td>NaN</td>\n",
       "      <td>NaN</td>\n",
       "      <td>2017-07-31 00:18:03 +0000</td>\n",
       "      <td>&lt;a href=\"http://twitter.com/download/iphone\" r...</td>\n",
       "      <td>This is Archie. He is a rare Norwegian Pouncin...</td>\n",
       "      <td>NaN</td>\n",
       "      <td>NaN</td>\n",
       "      <td>NaN</td>\n",
       "      <td>https://twitter.com/dog_rates/status/891815181...</td>\n",
       "      <td>12</td>\n",
       "      <td>10</td>\n",
       "      <td>Archie</td>\n",
       "      <td>None</td>\n",
       "      <td>None</td>\n",
       "      <td>None</td>\n",
       "      <td>None</td>\n",
       "    </tr>\n",
       "    <tr>\n",
       "      <th>3</th>\n",
       "      <td>891689557279858688</td>\n",
       "      <td>NaN</td>\n",
       "      <td>NaN</td>\n",
       "      <td>2017-07-30 15:58:51 +0000</td>\n",
       "      <td>&lt;a href=\"http://twitter.com/download/iphone\" r...</td>\n",
       "      <td>This is Darla. She commenced a snooze mid meal...</td>\n",
       "      <td>NaN</td>\n",
       "      <td>NaN</td>\n",
       "      <td>NaN</td>\n",
       "      <td>https://twitter.com/dog_rates/status/891689557...</td>\n",
       "      <td>13</td>\n",
       "      <td>10</td>\n",
       "      <td>Darla</td>\n",
       "      <td>None</td>\n",
       "      <td>None</td>\n",
       "      <td>None</td>\n",
       "      <td>None</td>\n",
       "    </tr>\n",
       "    <tr>\n",
       "      <th>4</th>\n",
       "      <td>891327558926688256</td>\n",
       "      <td>NaN</td>\n",
       "      <td>NaN</td>\n",
       "      <td>2017-07-29 16:00:24 +0000</td>\n",
       "      <td>&lt;a href=\"http://twitter.com/download/iphone\" r...</td>\n",
       "      <td>This is Franklin. He would like you to stop ca...</td>\n",
       "      <td>NaN</td>\n",
       "      <td>NaN</td>\n",
       "      <td>NaN</td>\n",
       "      <td>https://twitter.com/dog_rates/status/891327558...</td>\n",
       "      <td>12</td>\n",
       "      <td>10</td>\n",
       "      <td>Franklin</td>\n",
       "      <td>None</td>\n",
       "      <td>None</td>\n",
       "      <td>None</td>\n",
       "      <td>None</td>\n",
       "    </tr>\n",
       "  </tbody>\n",
       "</table>\n",
       "</div>"
      ],
      "text/plain": [
       "             tweet_id  in_reply_to_status_id  in_reply_to_user_id  \\\n",
       "0  892420643555336193                    NaN                  NaN   \n",
       "1  892177421306343426                    NaN                  NaN   \n",
       "2  891815181378084864                    NaN                  NaN   \n",
       "3  891689557279858688                    NaN                  NaN   \n",
       "4  891327558926688256                    NaN                  NaN   \n",
       "\n",
       "                   timestamp  \\\n",
       "0  2017-08-01 16:23:56 +0000   \n",
       "1  2017-08-01 00:17:27 +0000   \n",
       "2  2017-07-31 00:18:03 +0000   \n",
       "3  2017-07-30 15:58:51 +0000   \n",
       "4  2017-07-29 16:00:24 +0000   \n",
       "\n",
       "                                              source  \\\n",
       "0  <a href=\"http://twitter.com/download/iphone\" r...   \n",
       "1  <a href=\"http://twitter.com/download/iphone\" r...   \n",
       "2  <a href=\"http://twitter.com/download/iphone\" r...   \n",
       "3  <a href=\"http://twitter.com/download/iphone\" r...   \n",
       "4  <a href=\"http://twitter.com/download/iphone\" r...   \n",
       "\n",
       "                                                text  retweeted_status_id  \\\n",
       "0  This is Phineas. He's a mystical boy. Only eve...                  NaN   \n",
       "1  This is Tilly. She's just checking pup on you....                  NaN   \n",
       "2  This is Archie. He is a rare Norwegian Pouncin...                  NaN   \n",
       "3  This is Darla. She commenced a snooze mid meal...                  NaN   \n",
       "4  This is Franklin. He would like you to stop ca...                  NaN   \n",
       "\n",
       "   retweeted_status_user_id retweeted_status_timestamp  \\\n",
       "0                       NaN                        NaN   \n",
       "1                       NaN                        NaN   \n",
       "2                       NaN                        NaN   \n",
       "3                       NaN                        NaN   \n",
       "4                       NaN                        NaN   \n",
       "\n",
       "                                       expanded_urls  rating_numerator  \\\n",
       "0  https://twitter.com/dog_rates/status/892420643...                13   \n",
       "1  https://twitter.com/dog_rates/status/892177421...                13   \n",
       "2  https://twitter.com/dog_rates/status/891815181...                12   \n",
       "3  https://twitter.com/dog_rates/status/891689557...                13   \n",
       "4  https://twitter.com/dog_rates/status/891327558...                12   \n",
       "\n",
       "   rating_denominator      name doggo floofer pupper puppo  \n",
       "0                  10   Phineas  None    None   None  None  \n",
       "1                  10     Tilly  None    None   None  None  \n",
       "2                  10    Archie  None    None   None  None  \n",
       "3                  10     Darla  None    None   None  None  \n",
       "4                  10  Franklin  None    None   None  None  "
      ]
     },
     "execution_count": 96,
     "metadata": {},
     "output_type": "execute_result"
    }
   ],
   "source": [
    "df_ach.head()"
   ]
  },
  {
   "cell_type": "markdown",
   "metadata": {},
   "source": [
    "3. Use the Tweepy library to query additional data via the Twitter API (tweet_json.txt)"
   ]
  },
  {
   "cell_type": "code",
   "execution_count": 97,
   "metadata": {},
   "outputs": [],
   "source": [
    "#I am having difficulties with my twitter account. Hence using the tweet_json.txt file provided"
   ]
  },
  {
   "cell_type": "code",
   "execution_count": 98,
   "metadata": {},
   "outputs": [
    {
     "data": {
      "text/html": [
       "<div>\n",
       "<style scoped>\n",
       "    .dataframe tbody tr th:only-of-type {\n",
       "        vertical-align: middle;\n",
       "    }\n",
       "\n",
       "    .dataframe tbody tr th {\n",
       "        vertical-align: top;\n",
       "    }\n",
       "\n",
       "    .dataframe thead th {\n",
       "        text-align: right;\n",
       "    }\n",
       "</style>\n",
       "<table border=\"1\" class=\"dataframe\">\n",
       "  <thead>\n",
       "    <tr style=\"text-align: right;\">\n",
       "      <th></th>\n",
       "      <th>contributors</th>\n",
       "      <th>coordinates</th>\n",
       "      <th>created_at</th>\n",
       "      <th>display_text_range</th>\n",
       "      <th>entities</th>\n",
       "      <th>extended_entities</th>\n",
       "      <th>favorite_count</th>\n",
       "      <th>favorited</th>\n",
       "      <th>full_text</th>\n",
       "      <th>geo</th>\n",
       "      <th>...</th>\n",
       "      <th>quoted_status</th>\n",
       "      <th>quoted_status_id</th>\n",
       "      <th>quoted_status_id_str</th>\n",
       "      <th>quoted_status_permalink</th>\n",
       "      <th>retweet_count</th>\n",
       "      <th>retweeted</th>\n",
       "      <th>retweeted_status</th>\n",
       "      <th>source</th>\n",
       "      <th>truncated</th>\n",
       "      <th>user</th>\n",
       "    </tr>\n",
       "  </thead>\n",
       "  <tbody>\n",
       "    <tr>\n",
       "      <th>1998-04-12 22:37:23.555336193</th>\n",
       "      <td>NaN</td>\n",
       "      <td>NaN</td>\n",
       "      <td>2017-08-01 16:23:56</td>\n",
       "      <td>[0, 85]</td>\n",
       "      <td>{'hashtags': [], 'symbols': [], 'user_mentions...</td>\n",
       "      <td>{'media': [{'id': 892420639486877696, 'id_str'...</td>\n",
       "      <td>38075</td>\n",
       "      <td>0</td>\n",
       "      <td>This is Phineas. He's a mystical boy. Only eve...</td>\n",
       "      <td>NaN</td>\n",
       "      <td>...</td>\n",
       "      <td>NaN</td>\n",
       "      <td>NaN</td>\n",
       "      <td>NaN</td>\n",
       "      <td>NaN</td>\n",
       "      <td>8328</td>\n",
       "      <td>0</td>\n",
       "      <td>NaN</td>\n",
       "      <td>&lt;a href=\"http://twitter.com/download/iphone\" r...</td>\n",
       "      <td>0</td>\n",
       "      <td>{'id': 4196983835, 'id_str': '4196983835', 'na...</td>\n",
       "    </tr>\n",
       "    <tr>\n",
       "      <th>1998-04-10 03:03:41.306343426</th>\n",
       "      <td>NaN</td>\n",
       "      <td>NaN</td>\n",
       "      <td>2017-08-01 00:17:27</td>\n",
       "      <td>[0, 138]</td>\n",
       "      <td>{'hashtags': [], 'symbols': [], 'user_mentions...</td>\n",
       "      <td>{'media': [{'id': 892177413194625024, 'id_str'...</td>\n",
       "      <td>32680</td>\n",
       "      <td>0</td>\n",
       "      <td>This is Tilly. She's just checking pup on you....</td>\n",
       "      <td>NaN</td>\n",
       "      <td>...</td>\n",
       "      <td>NaN</td>\n",
       "      <td>NaN</td>\n",
       "      <td>NaN</td>\n",
       "      <td>NaN</td>\n",
       "      <td>6151</td>\n",
       "      <td>0</td>\n",
       "      <td>NaN</td>\n",
       "      <td>&lt;a href=\"http://twitter.com/download/iphone\" r...</td>\n",
       "      <td>0</td>\n",
       "      <td>{'id': 4196983835, 'id_str': '4196983835', 'na...</td>\n",
       "    </tr>\n",
       "    <tr>\n",
       "      <th>1998-04-05 22:26:21.378084864</th>\n",
       "      <td>NaN</td>\n",
       "      <td>NaN</td>\n",
       "      <td>2017-07-31 00:18:03</td>\n",
       "      <td>[0, 121]</td>\n",
       "      <td>{'hashtags': [], 'symbols': [], 'user_mentions...</td>\n",
       "      <td>{'media': [{'id': 891815175371796480, 'id_str'...</td>\n",
       "      <td>24593</td>\n",
       "      <td>0</td>\n",
       "      <td>This is Archie. He is a rare Norwegian Pouncin...</td>\n",
       "      <td>NaN</td>\n",
       "      <td>...</td>\n",
       "      <td>NaN</td>\n",
       "      <td>NaN</td>\n",
       "      <td>NaN</td>\n",
       "      <td>NaN</td>\n",
       "      <td>4070</td>\n",
       "      <td>0</td>\n",
       "      <td>NaN</td>\n",
       "      <td>&lt;a href=\"http://twitter.com/download/iphone\" r...</td>\n",
       "      <td>0</td>\n",
       "      <td>{'id': 4196983835, 'id_str': '4196983835', 'na...</td>\n",
       "    </tr>\n",
       "    <tr>\n",
       "      <th>1998-04-04 11:32:37.279858688</th>\n",
       "      <td>NaN</td>\n",
       "      <td>NaN</td>\n",
       "      <td>2017-07-30 15:58:51</td>\n",
       "      <td>[0, 79]</td>\n",
       "      <td>{'hashtags': [], 'symbols': [], 'user_mentions...</td>\n",
       "      <td>{'media': [{'id': 891689552724799489, 'id_str'...</td>\n",
       "      <td>41433</td>\n",
       "      <td>0</td>\n",
       "      <td>This is Darla. She commenced a snooze mid meal...</td>\n",
       "      <td>NaN</td>\n",
       "      <td>...</td>\n",
       "      <td>NaN</td>\n",
       "      <td>NaN</td>\n",
       "      <td>NaN</td>\n",
       "      <td>NaN</td>\n",
       "      <td>8471</td>\n",
       "      <td>0</td>\n",
       "      <td>NaN</td>\n",
       "      <td>&lt;a href=\"http://twitter.com/download/iphone\" r...</td>\n",
       "      <td>0</td>\n",
       "      <td>{'id': 4196983835, 'id_str': '4196983835', 'na...</td>\n",
       "    </tr>\n",
       "    <tr>\n",
       "      <th>1998-03-31 06:59:18.926688256</th>\n",
       "      <td>NaN</td>\n",
       "      <td>NaN</td>\n",
       "      <td>2017-07-29 16:00:24</td>\n",
       "      <td>[0, 138]</td>\n",
       "      <td>{'hashtags': [{'text': 'BarkWeek', 'indices': ...</td>\n",
       "      <td>{'media': [{'id': 891327551943041024, 'id_str'...</td>\n",
       "      <td>39613</td>\n",
       "      <td>0</td>\n",
       "      <td>This is Franklin. He would like you to stop ca...</td>\n",
       "      <td>NaN</td>\n",
       "      <td>...</td>\n",
       "      <td>NaN</td>\n",
       "      <td>NaN</td>\n",
       "      <td>NaN</td>\n",
       "      <td>NaN</td>\n",
       "      <td>9166</td>\n",
       "      <td>0</td>\n",
       "      <td>NaN</td>\n",
       "      <td>&lt;a href=\"http://twitter.com/download/iphone\" r...</td>\n",
       "      <td>0</td>\n",
       "      <td>{'id': 4196983835, 'id_str': '4196983835', 'na...</td>\n",
       "    </tr>\n",
       "  </tbody>\n",
       "</table>\n",
       "<p>5 rows × 32 columns</p>\n",
       "</div>"
      ],
      "text/plain": [
       "                               contributors  coordinates          created_at  \\\n",
       "1998-04-12 22:37:23.555336193           NaN          NaN 2017-08-01 16:23:56   \n",
       "1998-04-10 03:03:41.306343426           NaN          NaN 2017-08-01 00:17:27   \n",
       "1998-04-05 22:26:21.378084864           NaN          NaN 2017-07-31 00:18:03   \n",
       "1998-04-04 11:32:37.279858688           NaN          NaN 2017-07-30 15:58:51   \n",
       "1998-03-31 06:59:18.926688256           NaN          NaN 2017-07-29 16:00:24   \n",
       "\n",
       "                              display_text_range  \\\n",
       "1998-04-12 22:37:23.555336193            [0, 85]   \n",
       "1998-04-10 03:03:41.306343426           [0, 138]   \n",
       "1998-04-05 22:26:21.378084864           [0, 121]   \n",
       "1998-04-04 11:32:37.279858688            [0, 79]   \n",
       "1998-03-31 06:59:18.926688256           [0, 138]   \n",
       "\n",
       "                                                                        entities  \\\n",
       "1998-04-12 22:37:23.555336193  {'hashtags': [], 'symbols': [], 'user_mentions...   \n",
       "1998-04-10 03:03:41.306343426  {'hashtags': [], 'symbols': [], 'user_mentions...   \n",
       "1998-04-05 22:26:21.378084864  {'hashtags': [], 'symbols': [], 'user_mentions...   \n",
       "1998-04-04 11:32:37.279858688  {'hashtags': [], 'symbols': [], 'user_mentions...   \n",
       "1998-03-31 06:59:18.926688256  {'hashtags': [{'text': 'BarkWeek', 'indices': ...   \n",
       "\n",
       "                                                               extended_entities  \\\n",
       "1998-04-12 22:37:23.555336193  {'media': [{'id': 892420639486877696, 'id_str'...   \n",
       "1998-04-10 03:03:41.306343426  {'media': [{'id': 892177413194625024, 'id_str'...   \n",
       "1998-04-05 22:26:21.378084864  {'media': [{'id': 891815175371796480, 'id_str'...   \n",
       "1998-04-04 11:32:37.279858688  {'media': [{'id': 891689552724799489, 'id_str'...   \n",
       "1998-03-31 06:59:18.926688256  {'media': [{'id': 891327551943041024, 'id_str'...   \n",
       "\n",
       "                               favorite_count  favorited  \\\n",
       "1998-04-12 22:37:23.555336193           38075          0   \n",
       "1998-04-10 03:03:41.306343426           32680          0   \n",
       "1998-04-05 22:26:21.378084864           24593          0   \n",
       "1998-04-04 11:32:37.279858688           41433          0   \n",
       "1998-03-31 06:59:18.926688256           39613          0   \n",
       "\n",
       "                                                                       full_text  \\\n",
       "1998-04-12 22:37:23.555336193  This is Phineas. He's a mystical boy. Only eve...   \n",
       "1998-04-10 03:03:41.306343426  This is Tilly. She's just checking pup on you....   \n",
       "1998-04-05 22:26:21.378084864  This is Archie. He is a rare Norwegian Pouncin...   \n",
       "1998-04-04 11:32:37.279858688  This is Darla. She commenced a snooze mid meal...   \n",
       "1998-03-31 06:59:18.926688256  This is Franklin. He would like you to stop ca...   \n",
       "\n",
       "                               geo  \\\n",
       "1998-04-12 22:37:23.555336193  NaN   \n",
       "1998-04-10 03:03:41.306343426  NaN   \n",
       "1998-04-05 22:26:21.378084864  NaN   \n",
       "1998-04-04 11:32:37.279858688  NaN   \n",
       "1998-03-31 06:59:18.926688256  NaN   \n",
       "\n",
       "                                                     ...                          \\\n",
       "1998-04-12 22:37:23.555336193                        ...                           \n",
       "1998-04-10 03:03:41.306343426                        ...                           \n",
       "1998-04-05 22:26:21.378084864                        ...                           \n",
       "1998-04-04 11:32:37.279858688                        ...                           \n",
       "1998-03-31 06:59:18.926688256                        ...                           \n",
       "\n",
       "                               quoted_status  quoted_status_id  \\\n",
       "1998-04-12 22:37:23.555336193            NaN               NaN   \n",
       "1998-04-10 03:03:41.306343426            NaN               NaN   \n",
       "1998-04-05 22:26:21.378084864            NaN               NaN   \n",
       "1998-04-04 11:32:37.279858688            NaN               NaN   \n",
       "1998-03-31 06:59:18.926688256            NaN               NaN   \n",
       "\n",
       "                              quoted_status_id_str  quoted_status_permalink  \\\n",
       "1998-04-12 22:37:23.555336193                  NaN                      NaN   \n",
       "1998-04-10 03:03:41.306343426                  NaN                      NaN   \n",
       "1998-04-05 22:26:21.378084864                  NaN                      NaN   \n",
       "1998-04-04 11:32:37.279858688                  NaN                      NaN   \n",
       "1998-03-31 06:59:18.926688256                  NaN                      NaN   \n",
       "\n",
       "                               retweet_count  retweeted  retweeted_status  \\\n",
       "1998-04-12 22:37:23.555336193           8328          0               NaN   \n",
       "1998-04-10 03:03:41.306343426           6151          0               NaN   \n",
       "1998-04-05 22:26:21.378084864           4070          0               NaN   \n",
       "1998-04-04 11:32:37.279858688           8471          0               NaN   \n",
       "1998-03-31 06:59:18.926688256           9166          0               NaN   \n",
       "\n",
       "                                                                          source  \\\n",
       "1998-04-12 22:37:23.555336193  <a href=\"http://twitter.com/download/iphone\" r...   \n",
       "1998-04-10 03:03:41.306343426  <a href=\"http://twitter.com/download/iphone\" r...   \n",
       "1998-04-05 22:26:21.378084864  <a href=\"http://twitter.com/download/iphone\" r...   \n",
       "1998-04-04 11:32:37.279858688  <a href=\"http://twitter.com/download/iphone\" r...   \n",
       "1998-03-31 06:59:18.926688256  <a href=\"http://twitter.com/download/iphone\" r...   \n",
       "\n",
       "                              truncated  \\\n",
       "1998-04-12 22:37:23.555336193         0   \n",
       "1998-04-10 03:03:41.306343426         0   \n",
       "1998-04-05 22:26:21.378084864         0   \n",
       "1998-04-04 11:32:37.279858688         0   \n",
       "1998-03-31 06:59:18.926688256         0   \n",
       "\n",
       "                                                                            user  \n",
       "1998-04-12 22:37:23.555336193  {'id': 4196983835, 'id_str': '4196983835', 'na...  \n",
       "1998-04-10 03:03:41.306343426  {'id': 4196983835, 'id_str': '4196983835', 'na...  \n",
       "1998-04-05 22:26:21.378084864  {'id': 4196983835, 'id_str': '4196983835', 'na...  \n",
       "1998-04-04 11:32:37.279858688  {'id': 4196983835, 'id_str': '4196983835', 'na...  \n",
       "1998-03-31 06:59:18.926688256  {'id': 4196983835, 'id_str': '4196983835', 'na...  \n",
       "\n",
       "[5 rows x 32 columns]"
      ]
     },
     "execution_count": 98,
     "metadata": {},
     "output_type": "execute_result"
    }
   ],
   "source": [
    "df_twt_raw = pd.read_json('resources/tweet_json.txt', orient = 'index') \n",
    "df_twt_raw.head()"
   ]
  },
  {
   "cell_type": "markdown",
   "metadata": {},
   "source": [
    "*We have gathered all the 3 required datasets :*\n",
    "1. twitter_archive_enhanced.csv as df_ach\n",
    "2. image_predictions.tsv as df_img\n",
    "3. tweet_json.txt as df_twt_raw"
   ]
  },
  {
   "cell_type": "markdown",
   "metadata": {
    "extensions": {
     "jupyter_dashboards": {
      "version": 1,
      "views": {
       "grid_default": {
        "col": 4,
        "height": 4,
        "hidden": false,
        "row": 28,
        "width": 4
       },
       "report_default": {
        "hidden": false
       }
      }
     }
    }
   },
   "source": [
    "## Assessing Data\n",
    "In this section, detect and document at least **eight (8) quality issues and two (2) tidiness issue**. You must use **both** visual assessment\n",
    "programmatic assessement to assess the data.\n",
    "\n",
    "**Note:** pay attention to the following key points when you access the data.\n",
    "\n",
    "* You only want original ratings (no retweets) that have images. Though there are 5000+ tweets in the dataset, not all are dog ratings and some are retweets.\n",
    "* Assessing and cleaning the entire dataset completely would require a lot of time, and is not necessary to practice and demonstrate your skills in data wrangling. Therefore, the requirements of this project are only to assess and clean at least 8 quality issues and at least 2 tidiness issues in this dataset.\n",
    "* The fact that the rating numerators are greater than the denominators does not need to be cleaned. This [unique rating system](http://knowyourmeme.com/memes/theyre-good-dogs-brent) is a big part of the popularity of WeRateDogs.\n",
    "* You do not need to gather the tweets beyond August 1st, 2017. You can, but note that you won't be able to gather the image predictions for these tweets since you don't have access to the algorithm used."
   ]
  },
  {
   "cell_type": "markdown",
   "metadata": {},
   "source": [
    "### twitter_archive_enhanced.csv"
   ]
  },
  {
   "cell_type": "code",
   "execution_count": 99,
   "metadata": {},
   "outputs": [
    {
     "data": {
      "text/html": [
       "<div>\n",
       "<style scoped>\n",
       "    .dataframe tbody tr th:only-of-type {\n",
       "        vertical-align: middle;\n",
       "    }\n",
       "\n",
       "    .dataframe tbody tr th {\n",
       "        vertical-align: top;\n",
       "    }\n",
       "\n",
       "    .dataframe thead th {\n",
       "        text-align: right;\n",
       "    }\n",
       "</style>\n",
       "<table border=\"1\" class=\"dataframe\">\n",
       "  <thead>\n",
       "    <tr style=\"text-align: right;\">\n",
       "      <th></th>\n",
       "      <th>tweet_id</th>\n",
       "      <th>in_reply_to_status_id</th>\n",
       "      <th>in_reply_to_user_id</th>\n",
       "      <th>timestamp</th>\n",
       "      <th>source</th>\n",
       "      <th>text</th>\n",
       "      <th>retweeted_status_id</th>\n",
       "      <th>retweeted_status_user_id</th>\n",
       "      <th>retweeted_status_timestamp</th>\n",
       "      <th>expanded_urls</th>\n",
       "      <th>rating_numerator</th>\n",
       "      <th>rating_denominator</th>\n",
       "      <th>name</th>\n",
       "      <th>doggo</th>\n",
       "      <th>floofer</th>\n",
       "      <th>pupper</th>\n",
       "      <th>puppo</th>\n",
       "    </tr>\n",
       "  </thead>\n",
       "  <tbody>\n",
       "    <tr>\n",
       "      <th>0</th>\n",
       "      <td>892420643555336193</td>\n",
       "      <td>NaN</td>\n",
       "      <td>NaN</td>\n",
       "      <td>2017-08-01 16:23:56 +0000</td>\n",
       "      <td>&lt;a href=\"http://twitter.com/download/iphone\" r...</td>\n",
       "      <td>This is Phineas. He's a mystical boy. Only eve...</td>\n",
       "      <td>NaN</td>\n",
       "      <td>NaN</td>\n",
       "      <td>NaN</td>\n",
       "      <td>https://twitter.com/dog_rates/status/892420643...</td>\n",
       "      <td>13</td>\n",
       "      <td>10</td>\n",
       "      <td>Phineas</td>\n",
       "      <td>None</td>\n",
       "      <td>None</td>\n",
       "      <td>None</td>\n",
       "      <td>None</td>\n",
       "    </tr>\n",
       "    <tr>\n",
       "      <th>1</th>\n",
       "      <td>892177421306343426</td>\n",
       "      <td>NaN</td>\n",
       "      <td>NaN</td>\n",
       "      <td>2017-08-01 00:17:27 +0000</td>\n",
       "      <td>&lt;a href=\"http://twitter.com/download/iphone\" r...</td>\n",
       "      <td>This is Tilly. She's just checking pup on you....</td>\n",
       "      <td>NaN</td>\n",
       "      <td>NaN</td>\n",
       "      <td>NaN</td>\n",
       "      <td>https://twitter.com/dog_rates/status/892177421...</td>\n",
       "      <td>13</td>\n",
       "      <td>10</td>\n",
       "      <td>Tilly</td>\n",
       "      <td>None</td>\n",
       "      <td>None</td>\n",
       "      <td>None</td>\n",
       "      <td>None</td>\n",
       "    </tr>\n",
       "    <tr>\n",
       "      <th>2</th>\n",
       "      <td>891815181378084864</td>\n",
       "      <td>NaN</td>\n",
       "      <td>NaN</td>\n",
       "      <td>2017-07-31 00:18:03 +0000</td>\n",
       "      <td>&lt;a href=\"http://twitter.com/download/iphone\" r...</td>\n",
       "      <td>This is Archie. He is a rare Norwegian Pouncin...</td>\n",
       "      <td>NaN</td>\n",
       "      <td>NaN</td>\n",
       "      <td>NaN</td>\n",
       "      <td>https://twitter.com/dog_rates/status/891815181...</td>\n",
       "      <td>12</td>\n",
       "      <td>10</td>\n",
       "      <td>Archie</td>\n",
       "      <td>None</td>\n",
       "      <td>None</td>\n",
       "      <td>None</td>\n",
       "      <td>None</td>\n",
       "    </tr>\n",
       "    <tr>\n",
       "      <th>3</th>\n",
       "      <td>891689557279858688</td>\n",
       "      <td>NaN</td>\n",
       "      <td>NaN</td>\n",
       "      <td>2017-07-30 15:58:51 +0000</td>\n",
       "      <td>&lt;a href=\"http://twitter.com/download/iphone\" r...</td>\n",
       "      <td>This is Darla. She commenced a snooze mid meal...</td>\n",
       "      <td>NaN</td>\n",
       "      <td>NaN</td>\n",
       "      <td>NaN</td>\n",
       "      <td>https://twitter.com/dog_rates/status/891689557...</td>\n",
       "      <td>13</td>\n",
       "      <td>10</td>\n",
       "      <td>Darla</td>\n",
       "      <td>None</td>\n",
       "      <td>None</td>\n",
       "      <td>None</td>\n",
       "      <td>None</td>\n",
       "    </tr>\n",
       "    <tr>\n",
       "      <th>4</th>\n",
       "      <td>891327558926688256</td>\n",
       "      <td>NaN</td>\n",
       "      <td>NaN</td>\n",
       "      <td>2017-07-29 16:00:24 +0000</td>\n",
       "      <td>&lt;a href=\"http://twitter.com/download/iphone\" r...</td>\n",
       "      <td>This is Franklin. He would like you to stop ca...</td>\n",
       "      <td>NaN</td>\n",
       "      <td>NaN</td>\n",
       "      <td>NaN</td>\n",
       "      <td>https://twitter.com/dog_rates/status/891327558...</td>\n",
       "      <td>12</td>\n",
       "      <td>10</td>\n",
       "      <td>Franklin</td>\n",
       "      <td>None</td>\n",
       "      <td>None</td>\n",
       "      <td>None</td>\n",
       "      <td>None</td>\n",
       "    </tr>\n",
       "  </tbody>\n",
       "</table>\n",
       "</div>"
      ],
      "text/plain": [
       "             tweet_id  in_reply_to_status_id  in_reply_to_user_id  \\\n",
       "0  892420643555336193                    NaN                  NaN   \n",
       "1  892177421306343426                    NaN                  NaN   \n",
       "2  891815181378084864                    NaN                  NaN   \n",
       "3  891689557279858688                    NaN                  NaN   \n",
       "4  891327558926688256                    NaN                  NaN   \n",
       "\n",
       "                   timestamp  \\\n",
       "0  2017-08-01 16:23:56 +0000   \n",
       "1  2017-08-01 00:17:27 +0000   \n",
       "2  2017-07-31 00:18:03 +0000   \n",
       "3  2017-07-30 15:58:51 +0000   \n",
       "4  2017-07-29 16:00:24 +0000   \n",
       "\n",
       "                                              source  \\\n",
       "0  <a href=\"http://twitter.com/download/iphone\" r...   \n",
       "1  <a href=\"http://twitter.com/download/iphone\" r...   \n",
       "2  <a href=\"http://twitter.com/download/iphone\" r...   \n",
       "3  <a href=\"http://twitter.com/download/iphone\" r...   \n",
       "4  <a href=\"http://twitter.com/download/iphone\" r...   \n",
       "\n",
       "                                                text  retweeted_status_id  \\\n",
       "0  This is Phineas. He's a mystical boy. Only eve...                  NaN   \n",
       "1  This is Tilly. She's just checking pup on you....                  NaN   \n",
       "2  This is Archie. He is a rare Norwegian Pouncin...                  NaN   \n",
       "3  This is Darla. She commenced a snooze mid meal...                  NaN   \n",
       "4  This is Franklin. He would like you to stop ca...                  NaN   \n",
       "\n",
       "   retweeted_status_user_id retweeted_status_timestamp  \\\n",
       "0                       NaN                        NaN   \n",
       "1                       NaN                        NaN   \n",
       "2                       NaN                        NaN   \n",
       "3                       NaN                        NaN   \n",
       "4                       NaN                        NaN   \n",
       "\n",
       "                                       expanded_urls  rating_numerator  \\\n",
       "0  https://twitter.com/dog_rates/status/892420643...                13   \n",
       "1  https://twitter.com/dog_rates/status/892177421...                13   \n",
       "2  https://twitter.com/dog_rates/status/891815181...                12   \n",
       "3  https://twitter.com/dog_rates/status/891689557...                13   \n",
       "4  https://twitter.com/dog_rates/status/891327558...                12   \n",
       "\n",
       "   rating_denominator      name doggo floofer pupper puppo  \n",
       "0                  10   Phineas  None    None   None  None  \n",
       "1                  10     Tilly  None    None   None  None  \n",
       "2                  10    Archie  None    None   None  None  \n",
       "3                  10     Darla  None    None   None  None  \n",
       "4                  10  Franklin  None    None   None  None  "
      ]
     },
     "execution_count": 99,
     "metadata": {},
     "output_type": "execute_result"
    }
   ],
   "source": [
    "#First 5 values of the dataframe\n",
    "df_ach.head()"
   ]
  },
  {
   "cell_type": "code",
   "execution_count": 100,
   "metadata": {},
   "outputs": [
    {
     "data": {
      "text/html": [
       "<div>\n",
       "<style scoped>\n",
       "    .dataframe tbody tr th:only-of-type {\n",
       "        vertical-align: middle;\n",
       "    }\n",
       "\n",
       "    .dataframe tbody tr th {\n",
       "        vertical-align: top;\n",
       "    }\n",
       "\n",
       "    .dataframe thead th {\n",
       "        text-align: right;\n",
       "    }\n",
       "</style>\n",
       "<table border=\"1\" class=\"dataframe\">\n",
       "  <thead>\n",
       "    <tr style=\"text-align: right;\">\n",
       "      <th></th>\n",
       "      <th>tweet_id</th>\n",
       "      <th>in_reply_to_status_id</th>\n",
       "      <th>in_reply_to_user_id</th>\n",
       "      <th>timestamp</th>\n",
       "      <th>source</th>\n",
       "      <th>text</th>\n",
       "      <th>retweeted_status_id</th>\n",
       "      <th>retweeted_status_user_id</th>\n",
       "      <th>retweeted_status_timestamp</th>\n",
       "      <th>expanded_urls</th>\n",
       "      <th>rating_numerator</th>\n",
       "      <th>rating_denominator</th>\n",
       "      <th>name</th>\n",
       "      <th>doggo</th>\n",
       "      <th>floofer</th>\n",
       "      <th>pupper</th>\n",
       "      <th>puppo</th>\n",
       "    </tr>\n",
       "  </thead>\n",
       "  <tbody>\n",
       "    <tr>\n",
       "      <th>2351</th>\n",
       "      <td>666049248165822465</td>\n",
       "      <td>NaN</td>\n",
       "      <td>NaN</td>\n",
       "      <td>2015-11-16 00:24:50 +0000</td>\n",
       "      <td>&lt;a href=\"http://twitter.com/download/iphone\" r...</td>\n",
       "      <td>Here we have a 1949 1st generation vulpix. Enj...</td>\n",
       "      <td>NaN</td>\n",
       "      <td>NaN</td>\n",
       "      <td>NaN</td>\n",
       "      <td>https://twitter.com/dog_rates/status/666049248...</td>\n",
       "      <td>5</td>\n",
       "      <td>10</td>\n",
       "      <td>None</td>\n",
       "      <td>None</td>\n",
       "      <td>None</td>\n",
       "      <td>None</td>\n",
       "      <td>None</td>\n",
       "    </tr>\n",
       "    <tr>\n",
       "      <th>2352</th>\n",
       "      <td>666044226329800704</td>\n",
       "      <td>NaN</td>\n",
       "      <td>NaN</td>\n",
       "      <td>2015-11-16 00:04:52 +0000</td>\n",
       "      <td>&lt;a href=\"http://twitter.com/download/iphone\" r...</td>\n",
       "      <td>This is a purebred Piers Morgan. Loves to Netf...</td>\n",
       "      <td>NaN</td>\n",
       "      <td>NaN</td>\n",
       "      <td>NaN</td>\n",
       "      <td>https://twitter.com/dog_rates/status/666044226...</td>\n",
       "      <td>6</td>\n",
       "      <td>10</td>\n",
       "      <td>a</td>\n",
       "      <td>None</td>\n",
       "      <td>None</td>\n",
       "      <td>None</td>\n",
       "      <td>None</td>\n",
       "    </tr>\n",
       "    <tr>\n",
       "      <th>2353</th>\n",
       "      <td>666033412701032449</td>\n",
       "      <td>NaN</td>\n",
       "      <td>NaN</td>\n",
       "      <td>2015-11-15 23:21:54 +0000</td>\n",
       "      <td>&lt;a href=\"http://twitter.com/download/iphone\" r...</td>\n",
       "      <td>Here is a very happy pup. Big fan of well-main...</td>\n",
       "      <td>NaN</td>\n",
       "      <td>NaN</td>\n",
       "      <td>NaN</td>\n",
       "      <td>https://twitter.com/dog_rates/status/666033412...</td>\n",
       "      <td>9</td>\n",
       "      <td>10</td>\n",
       "      <td>a</td>\n",
       "      <td>None</td>\n",
       "      <td>None</td>\n",
       "      <td>None</td>\n",
       "      <td>None</td>\n",
       "    </tr>\n",
       "    <tr>\n",
       "      <th>2354</th>\n",
       "      <td>666029285002620928</td>\n",
       "      <td>NaN</td>\n",
       "      <td>NaN</td>\n",
       "      <td>2015-11-15 23:05:30 +0000</td>\n",
       "      <td>&lt;a href=\"http://twitter.com/download/iphone\" r...</td>\n",
       "      <td>This is a western brown Mitsubishi terrier. Up...</td>\n",
       "      <td>NaN</td>\n",
       "      <td>NaN</td>\n",
       "      <td>NaN</td>\n",
       "      <td>https://twitter.com/dog_rates/status/666029285...</td>\n",
       "      <td>7</td>\n",
       "      <td>10</td>\n",
       "      <td>a</td>\n",
       "      <td>None</td>\n",
       "      <td>None</td>\n",
       "      <td>None</td>\n",
       "      <td>None</td>\n",
       "    </tr>\n",
       "    <tr>\n",
       "      <th>2355</th>\n",
       "      <td>666020888022790149</td>\n",
       "      <td>NaN</td>\n",
       "      <td>NaN</td>\n",
       "      <td>2015-11-15 22:32:08 +0000</td>\n",
       "      <td>&lt;a href=\"http://twitter.com/download/iphone\" r...</td>\n",
       "      <td>Here we have a Japanese Irish Setter. Lost eye...</td>\n",
       "      <td>NaN</td>\n",
       "      <td>NaN</td>\n",
       "      <td>NaN</td>\n",
       "      <td>https://twitter.com/dog_rates/status/666020888...</td>\n",
       "      <td>8</td>\n",
       "      <td>10</td>\n",
       "      <td>None</td>\n",
       "      <td>None</td>\n",
       "      <td>None</td>\n",
       "      <td>None</td>\n",
       "      <td>None</td>\n",
       "    </tr>\n",
       "  </tbody>\n",
       "</table>\n",
       "</div>"
      ],
      "text/plain": [
       "                tweet_id  in_reply_to_status_id  in_reply_to_user_id  \\\n",
       "2351  666049248165822465                    NaN                  NaN   \n",
       "2352  666044226329800704                    NaN                  NaN   \n",
       "2353  666033412701032449                    NaN                  NaN   \n",
       "2354  666029285002620928                    NaN                  NaN   \n",
       "2355  666020888022790149                    NaN                  NaN   \n",
       "\n",
       "                      timestamp  \\\n",
       "2351  2015-11-16 00:24:50 +0000   \n",
       "2352  2015-11-16 00:04:52 +0000   \n",
       "2353  2015-11-15 23:21:54 +0000   \n",
       "2354  2015-11-15 23:05:30 +0000   \n",
       "2355  2015-11-15 22:32:08 +0000   \n",
       "\n",
       "                                                 source  \\\n",
       "2351  <a href=\"http://twitter.com/download/iphone\" r...   \n",
       "2352  <a href=\"http://twitter.com/download/iphone\" r...   \n",
       "2353  <a href=\"http://twitter.com/download/iphone\" r...   \n",
       "2354  <a href=\"http://twitter.com/download/iphone\" r...   \n",
       "2355  <a href=\"http://twitter.com/download/iphone\" r...   \n",
       "\n",
       "                                                   text  retweeted_status_id  \\\n",
       "2351  Here we have a 1949 1st generation vulpix. Enj...                  NaN   \n",
       "2352  This is a purebred Piers Morgan. Loves to Netf...                  NaN   \n",
       "2353  Here is a very happy pup. Big fan of well-main...                  NaN   \n",
       "2354  This is a western brown Mitsubishi terrier. Up...                  NaN   \n",
       "2355  Here we have a Japanese Irish Setter. Lost eye...                  NaN   \n",
       "\n",
       "      retweeted_status_user_id retweeted_status_timestamp  \\\n",
       "2351                       NaN                        NaN   \n",
       "2352                       NaN                        NaN   \n",
       "2353                       NaN                        NaN   \n",
       "2354                       NaN                        NaN   \n",
       "2355                       NaN                        NaN   \n",
       "\n",
       "                                          expanded_urls  rating_numerator  \\\n",
       "2351  https://twitter.com/dog_rates/status/666049248...                 5   \n",
       "2352  https://twitter.com/dog_rates/status/666044226...                 6   \n",
       "2353  https://twitter.com/dog_rates/status/666033412...                 9   \n",
       "2354  https://twitter.com/dog_rates/status/666029285...                 7   \n",
       "2355  https://twitter.com/dog_rates/status/666020888...                 8   \n",
       "\n",
       "      rating_denominator  name doggo floofer pupper puppo  \n",
       "2351                  10  None  None    None   None  None  \n",
       "2352                  10     a  None    None   None  None  \n",
       "2353                  10     a  None    None   None  None  \n",
       "2354                  10     a  None    None   None  None  \n",
       "2355                  10  None  None    None   None  None  "
      ]
     },
     "execution_count": 100,
     "metadata": {},
     "output_type": "execute_result"
    }
   ],
   "source": [
    "#Last 5 values of the dataframe\n",
    "df_ach.tail()"
   ]
  },
  {
   "cell_type": "markdown",
   "metadata": {},
   "source": [
    "### Observation\n",
    "> Column - Name: <br>1. Has Null values<br>2. Inconsistent values (character in names)\n",
    "\n",
    "> Column - Source: <br>1. HTML tags"
   ]
  },
  {
   "cell_type": "code",
   "execution_count": 101,
   "metadata": {},
   "outputs": [
    {
     "data": {
      "text/plain": [
       "None        745\n",
       "a            55\n",
       "Charlie      12\n",
       "Oliver       11\n",
       "Lucy         11\n",
       "Cooper       11\n",
       "Tucker       10\n",
       "Penny        10\n",
       "Lola         10\n",
       "Winston       9\n",
       "Bo            9\n",
       "Sadie         8\n",
       "the           8\n",
       "Toby          7\n",
       "Buddy         7\n",
       "Daisy         7\n",
       "an            7\n",
       "Bailey        7\n",
       "Koda          6\n",
       "Milo          6\n",
       "Scout         6\n",
       "Jack          6\n",
       "Leo           6\n",
       "Stanley       6\n",
       "Bella         6\n",
       "Dave          6\n",
       "Oscar         6\n",
       "Jax           6\n",
       "Rusty         6\n",
       "Phil          5\n",
       "           ... \n",
       "Gordon        1\n",
       "Sephie        1\n",
       "Mookie        1\n",
       "Maude         1\n",
       "Tuck          1\n",
       "Mark          1\n",
       "Rhino         1\n",
       "Gabby         1\n",
       "Ronnie        1\n",
       "Snickers      1\n",
       "Devón         1\n",
       "Napolean      1\n",
       "Nigel         1\n",
       "Ralpher       1\n",
       "Trevith       1\n",
       "Jay           1\n",
       "Barry         1\n",
       "Aja           1\n",
       "Mingus        1\n",
       "Jordy         1\n",
       "Flash         1\n",
       "Kirk          1\n",
       "Koko          1\n",
       "Chuq          1\n",
       "Arya          1\n",
       "Blu           1\n",
       "Dex           1\n",
       "River         1\n",
       "Yukon         1\n",
       "Bert          1\n",
       "Name: name, Length: 957, dtype: int64"
      ]
     },
     "execution_count": 101,
     "metadata": {},
     "output_type": "execute_result"
    }
   ],
   "source": [
    "# What is the most commom name to a Dog!?\n",
    "df_ach.name.value_counts()"
   ]
  },
  {
   "cell_type": "markdown",
   "metadata": {},
   "source": [
    "### Observation\n",
    "**Inconsistencies in Name**\n",
    "> 1) Presence of `None` 745<br>2) 55 occurrences of `a`<br>3) 8 occurrences of `the`<br>4) 7 occurrences of `an`\n"
   ]
  },
  {
   "cell_type": "code",
   "execution_count": 102,
   "metadata": {},
   "outputs": [
    {
     "data": {
      "text/plain": [
       "10     2333\n",
       "11        3\n",
       "50        3\n",
       "80        2\n",
       "20        2\n",
       "2         1\n",
       "16        1\n",
       "40        1\n",
       "70        1\n",
       "15        1\n",
       "90        1\n",
       "110       1\n",
       "120       1\n",
       "130       1\n",
       "150       1\n",
       "170       1\n",
       "7         1\n",
       "0         1\n",
       "Name: rating_denominator, dtype: int64"
      ]
     },
     "execution_count": 102,
     "metadata": {},
     "output_type": "execute_result"
    }
   ],
   "source": [
    "# What is the most commom denominator. I guess it must be 10.\n",
    "df_ach.rating_denominator.value_counts()"
   ]
  },
  {
   "cell_type": "code",
   "execution_count": 103,
   "metadata": {},
   "outputs": [
    {
     "data": {
      "text/plain": [
       "12      558\n",
       "11      464\n",
       "10      461\n",
       "13      351\n",
       "9       158\n",
       "8       102\n",
       "7        55\n",
       "14       54\n",
       "5        37\n",
       "6        32\n",
       "3        19\n",
       "4        17\n",
       "1         9\n",
       "2         9\n",
       "420       2\n",
       "0         2\n",
       "15        2\n",
       "75        2\n",
       "80        1\n",
       "20        1\n",
       "24        1\n",
       "26        1\n",
       "44        1\n",
       "50        1\n",
       "60        1\n",
       "165       1\n",
       "84        1\n",
       "88        1\n",
       "144       1\n",
       "182       1\n",
       "143       1\n",
       "666       1\n",
       "960       1\n",
       "1776      1\n",
       "17        1\n",
       "27        1\n",
       "45        1\n",
       "99        1\n",
       "121       1\n",
       "204       1\n",
       "Name: rating_numerator, dtype: int64"
      ]
     },
     "execution_count": 103,
     "metadata": {},
     "output_type": "execute_result"
    }
   ],
   "source": [
    "# In the past @dog_rates used to rate with grades between 0 to 10.\n",
    "df_ach.rating_numerator.value_counts()"
   ]
  },
  {
   "cell_type": "markdown",
   "metadata": {},
   "source": [
    "### Observation\n",
    "><br>1. Invalid Numerator<br>2. Invalid Denominator"
   ]
  },
  {
   "cell_type": "code",
   "execution_count": 104,
   "metadata": {},
   "outputs": [
    {
     "name": "stdout",
     "output_type": "stream",
     "text": [
      "<class 'pandas.core.frame.DataFrame'>\n",
      "RangeIndex: 2356 entries, 0 to 2355\n",
      "Data columns (total 17 columns):\n",
      "tweet_id                      2356 non-null int64\n",
      "in_reply_to_status_id         78 non-null float64\n",
      "in_reply_to_user_id           78 non-null float64\n",
      "timestamp                     2356 non-null object\n",
      "source                        2356 non-null object\n",
      "text                          2356 non-null object\n",
      "retweeted_status_id           181 non-null float64\n",
      "retweeted_status_user_id      181 non-null float64\n",
      "retweeted_status_timestamp    181 non-null object\n",
      "expanded_urls                 2297 non-null object\n",
      "rating_numerator              2356 non-null int64\n",
      "rating_denominator            2356 non-null int64\n",
      "name                          2356 non-null object\n",
      "doggo                         2356 non-null object\n",
      "floofer                       2356 non-null object\n",
      "pupper                        2356 non-null object\n",
      "puppo                         2356 non-null object\n",
      "dtypes: float64(4), int64(3), object(10)\n",
      "memory usage: 313.0+ KB\n"
     ]
    }
   ],
   "source": [
    "# An overview of the df_ach.\n",
    "df_ach.info()"
   ]
  },
  {
   "cell_type": "code",
   "execution_count": 105,
   "metadata": {},
   "outputs": [
    {
     "data": {
      "text/html": [
       "<div>\n",
       "<style scoped>\n",
       "    .dataframe tbody tr th:only-of-type {\n",
       "        vertical-align: middle;\n",
       "    }\n",
       "\n",
       "    .dataframe tbody tr th {\n",
       "        vertical-align: top;\n",
       "    }\n",
       "\n",
       "    .dataframe thead th {\n",
       "        text-align: right;\n",
       "    }\n",
       "</style>\n",
       "<table border=\"1\" class=\"dataframe\">\n",
       "  <thead>\n",
       "    <tr style=\"text-align: right;\">\n",
       "      <th></th>\n",
       "      <th>tweet_id</th>\n",
       "      <th>in_reply_to_status_id</th>\n",
       "      <th>in_reply_to_user_id</th>\n",
       "      <th>timestamp</th>\n",
       "      <th>source</th>\n",
       "      <th>text</th>\n",
       "      <th>retweeted_status_id</th>\n",
       "      <th>retweeted_status_user_id</th>\n",
       "      <th>retweeted_status_timestamp</th>\n",
       "      <th>expanded_urls</th>\n",
       "      <th>rating_numerator</th>\n",
       "      <th>rating_denominator</th>\n",
       "      <th>name</th>\n",
       "      <th>doggo</th>\n",
       "      <th>floofer</th>\n",
       "      <th>pupper</th>\n",
       "      <th>puppo</th>\n",
       "    </tr>\n",
       "  </thead>\n",
       "  <tbody>\n",
       "    <tr>\n",
       "      <th>97</th>\n",
       "      <td>873337748698140672</td>\n",
       "      <td>NaN</td>\n",
       "      <td>NaN</td>\n",
       "      <td>2017-06-10 00:35:19 +0000</td>\n",
       "      <td>&lt;a href=\"http://twitter.com/download/iphone\" r...</td>\n",
       "      <td>RT @dog_rates: This is Sierra. She's one preci...</td>\n",
       "      <td>8.732138e+17</td>\n",
       "      <td>4.196984e+09</td>\n",
       "      <td>2017-06-09 16:22:42 +0000</td>\n",
       "      <td>https://www.gofundme.com/help-my-baby-sierra-g...</td>\n",
       "      <td>12</td>\n",
       "      <td>10</td>\n",
       "      <td>Sierra</td>\n",
       "      <td>None</td>\n",
       "      <td>None</td>\n",
       "      <td>pupper</td>\n",
       "      <td>None</td>\n",
       "    </tr>\n",
       "    <tr>\n",
       "      <th>98</th>\n",
       "      <td>873213775632977920</td>\n",
       "      <td>NaN</td>\n",
       "      <td>NaN</td>\n",
       "      <td>2017-06-09 16:22:42 +0000</td>\n",
       "      <td>&lt;a href=\"http://twitter.com/download/iphone\" r...</td>\n",
       "      <td>This is Sierra. She's one precious pupper. Abs...</td>\n",
       "      <td>NaN</td>\n",
       "      <td>NaN</td>\n",
       "      <td>NaN</td>\n",
       "      <td>https://www.gofundme.com/help-my-baby-sierra-g...</td>\n",
       "      <td>12</td>\n",
       "      <td>10</td>\n",
       "      <td>Sierra</td>\n",
       "      <td>None</td>\n",
       "      <td>None</td>\n",
       "      <td>pupper</td>\n",
       "      <td>None</td>\n",
       "    </tr>\n",
       "  </tbody>\n",
       "</table>\n",
       "</div>"
      ],
      "text/plain": [
       "              tweet_id  in_reply_to_status_id  in_reply_to_user_id  \\\n",
       "97  873337748698140672                    NaN                  NaN   \n",
       "98  873213775632977920                    NaN                  NaN   \n",
       "\n",
       "                    timestamp  \\\n",
       "97  2017-06-10 00:35:19 +0000   \n",
       "98  2017-06-09 16:22:42 +0000   \n",
       "\n",
       "                                               source  \\\n",
       "97  <a href=\"http://twitter.com/download/iphone\" r...   \n",
       "98  <a href=\"http://twitter.com/download/iphone\" r...   \n",
       "\n",
       "                                                 text  retweeted_status_id  \\\n",
       "97  RT @dog_rates: This is Sierra. She's one preci...         8.732138e+17   \n",
       "98  This is Sierra. She's one precious pupper. Abs...                  NaN   \n",
       "\n",
       "    retweeted_status_user_id retweeted_status_timestamp  \\\n",
       "97              4.196984e+09  2017-06-09 16:22:42 +0000   \n",
       "98                       NaN                        NaN   \n",
       "\n",
       "                                        expanded_urls  rating_numerator  \\\n",
       "97  https://www.gofundme.com/help-my-baby-sierra-g...                12   \n",
       "98  https://www.gofundme.com/help-my-baby-sierra-g...                12   \n",
       "\n",
       "    rating_denominator    name doggo floofer  pupper puppo  \n",
       "97                  10  Sierra  None    None  pupper  None  \n",
       "98                  10  Sierra  None    None  pupper  None  "
      ]
     },
     "execution_count": 105,
     "metadata": {},
     "output_type": "execute_result"
    }
   ],
   "source": [
    "# Subsetting the df_ach to find a retweet.\n",
    "df_ach[df_ach.name == 'Sierra']"
   ]
  },
  {
   "cell_type": "code",
   "execution_count": 106,
   "metadata": {},
   "outputs": [
    {
     "data": {
      "text/plain": [
       "0"
      ]
     },
     "execution_count": 106,
     "metadata": {},
     "output_type": "execute_result"
    }
   ],
   "source": [
    "# Duplicated tweet_id.\n",
    "sum(df_ach.tweet_id.duplicated())"
   ]
  },
  {
   "cell_type": "markdown",
   "metadata": {},
   "source": [
    "### image_predictions.tsv"
   ]
  },
  {
   "cell_type": "code",
   "execution_count": 107,
   "metadata": {},
   "outputs": [
    {
     "data": {
      "text/html": [
       "<div>\n",
       "<style scoped>\n",
       "    .dataframe tbody tr th:only-of-type {\n",
       "        vertical-align: middle;\n",
       "    }\n",
       "\n",
       "    .dataframe tbody tr th {\n",
       "        vertical-align: top;\n",
       "    }\n",
       "\n",
       "    .dataframe thead th {\n",
       "        text-align: right;\n",
       "    }\n",
       "</style>\n",
       "<table border=\"1\" class=\"dataframe\">\n",
       "  <thead>\n",
       "    <tr style=\"text-align: right;\">\n",
       "      <th></th>\n",
       "      <th>tweet_id</th>\n",
       "      <th>jpg_url</th>\n",
       "      <th>img_num</th>\n",
       "      <th>p1</th>\n",
       "      <th>p1_conf</th>\n",
       "      <th>p1_dog</th>\n",
       "      <th>p2</th>\n",
       "      <th>p2_conf</th>\n",
       "      <th>p2_dog</th>\n",
       "      <th>p3</th>\n",
       "      <th>p3_conf</th>\n",
       "      <th>p3_dog</th>\n",
       "    </tr>\n",
       "  </thead>\n",
       "  <tbody>\n",
       "    <tr>\n",
       "      <th>0</th>\n",
       "      <td>666020888022790149</td>\n",
       "      <td>https://pbs.twimg.com/media/CT4udn0WwAA0aMy.jpg</td>\n",
       "      <td>1</td>\n",
       "      <td>Welsh_springer_spaniel</td>\n",
       "      <td>0.465074</td>\n",
       "      <td>True</td>\n",
       "      <td>collie</td>\n",
       "      <td>0.156665</td>\n",
       "      <td>True</td>\n",
       "      <td>Shetland_sheepdog</td>\n",
       "      <td>0.061428</td>\n",
       "      <td>True</td>\n",
       "    </tr>\n",
       "    <tr>\n",
       "      <th>1</th>\n",
       "      <td>666029285002620928</td>\n",
       "      <td>https://pbs.twimg.com/media/CT42GRgUYAA5iDo.jpg</td>\n",
       "      <td>1</td>\n",
       "      <td>redbone</td>\n",
       "      <td>0.506826</td>\n",
       "      <td>True</td>\n",
       "      <td>miniature_pinscher</td>\n",
       "      <td>0.074192</td>\n",
       "      <td>True</td>\n",
       "      <td>Rhodesian_ridgeback</td>\n",
       "      <td>0.072010</td>\n",
       "      <td>True</td>\n",
       "    </tr>\n",
       "    <tr>\n",
       "      <th>2</th>\n",
       "      <td>666033412701032449</td>\n",
       "      <td>https://pbs.twimg.com/media/CT4521TWwAEvMyu.jpg</td>\n",
       "      <td>1</td>\n",
       "      <td>German_shepherd</td>\n",
       "      <td>0.596461</td>\n",
       "      <td>True</td>\n",
       "      <td>malinois</td>\n",
       "      <td>0.138584</td>\n",
       "      <td>True</td>\n",
       "      <td>bloodhound</td>\n",
       "      <td>0.116197</td>\n",
       "      <td>True</td>\n",
       "    </tr>\n",
       "    <tr>\n",
       "      <th>3</th>\n",
       "      <td>666044226329800704</td>\n",
       "      <td>https://pbs.twimg.com/media/CT5Dr8HUEAA-lEu.jpg</td>\n",
       "      <td>1</td>\n",
       "      <td>Rhodesian_ridgeback</td>\n",
       "      <td>0.408143</td>\n",
       "      <td>True</td>\n",
       "      <td>redbone</td>\n",
       "      <td>0.360687</td>\n",
       "      <td>True</td>\n",
       "      <td>miniature_pinscher</td>\n",
       "      <td>0.222752</td>\n",
       "      <td>True</td>\n",
       "    </tr>\n",
       "    <tr>\n",
       "      <th>4</th>\n",
       "      <td>666049248165822465</td>\n",
       "      <td>https://pbs.twimg.com/media/CT5IQmsXIAAKY4A.jpg</td>\n",
       "      <td>1</td>\n",
       "      <td>miniature_pinscher</td>\n",
       "      <td>0.560311</td>\n",
       "      <td>True</td>\n",
       "      <td>Rottweiler</td>\n",
       "      <td>0.243682</td>\n",
       "      <td>True</td>\n",
       "      <td>Doberman</td>\n",
       "      <td>0.154629</td>\n",
       "      <td>True</td>\n",
       "    </tr>\n",
       "  </tbody>\n",
       "</table>\n",
       "</div>"
      ],
      "text/plain": [
       "             tweet_id                                          jpg_url  \\\n",
       "0  666020888022790149  https://pbs.twimg.com/media/CT4udn0WwAA0aMy.jpg   \n",
       "1  666029285002620928  https://pbs.twimg.com/media/CT42GRgUYAA5iDo.jpg   \n",
       "2  666033412701032449  https://pbs.twimg.com/media/CT4521TWwAEvMyu.jpg   \n",
       "3  666044226329800704  https://pbs.twimg.com/media/CT5Dr8HUEAA-lEu.jpg   \n",
       "4  666049248165822465  https://pbs.twimg.com/media/CT5IQmsXIAAKY4A.jpg   \n",
       "\n",
       "   img_num                      p1   p1_conf  p1_dog                  p2  \\\n",
       "0        1  Welsh_springer_spaniel  0.465074    True              collie   \n",
       "1        1                 redbone  0.506826    True  miniature_pinscher   \n",
       "2        1         German_shepherd  0.596461    True            malinois   \n",
       "3        1     Rhodesian_ridgeback  0.408143    True             redbone   \n",
       "4        1      miniature_pinscher  0.560311    True          Rottweiler   \n",
       "\n",
       "    p2_conf  p2_dog                   p3   p3_conf  p3_dog  \n",
       "0  0.156665    True    Shetland_sheepdog  0.061428    True  \n",
       "1  0.074192    True  Rhodesian_ridgeback  0.072010    True  \n",
       "2  0.138584    True           bloodhound  0.116197    True  \n",
       "3  0.360687    True   miniature_pinscher  0.222752    True  \n",
       "4  0.243682    True             Doberman  0.154629    True  "
      ]
     },
     "execution_count": 107,
     "metadata": {},
     "output_type": "execute_result"
    }
   ],
   "source": [
    "# Printing the first 5 rows.\n",
    "df_img.head()"
   ]
  },
  {
   "cell_type": "code",
   "execution_count": 108,
   "metadata": {},
   "outputs": [
    {
     "data": {
      "text/html": [
       "<div>\n",
       "<style scoped>\n",
       "    .dataframe tbody tr th:only-of-type {\n",
       "        vertical-align: middle;\n",
       "    }\n",
       "\n",
       "    .dataframe tbody tr th {\n",
       "        vertical-align: top;\n",
       "    }\n",
       "\n",
       "    .dataframe thead th {\n",
       "        text-align: right;\n",
       "    }\n",
       "</style>\n",
       "<table border=\"1\" class=\"dataframe\">\n",
       "  <thead>\n",
       "    <tr style=\"text-align: right;\">\n",
       "      <th></th>\n",
       "      <th>tweet_id</th>\n",
       "      <th>jpg_url</th>\n",
       "      <th>img_num</th>\n",
       "      <th>p1</th>\n",
       "      <th>p1_conf</th>\n",
       "      <th>p1_dog</th>\n",
       "      <th>p2</th>\n",
       "      <th>p2_conf</th>\n",
       "      <th>p2_dog</th>\n",
       "      <th>p3</th>\n",
       "      <th>p3_conf</th>\n",
       "      <th>p3_dog</th>\n",
       "    </tr>\n",
       "  </thead>\n",
       "  <tbody>\n",
       "    <tr>\n",
       "      <th>2070</th>\n",
       "      <td>891327558926688256</td>\n",
       "      <td>https://pbs.twimg.com/media/DF6hr6BUMAAzZgT.jpg</td>\n",
       "      <td>2</td>\n",
       "      <td>basset</td>\n",
       "      <td>0.555712</td>\n",
       "      <td>True</td>\n",
       "      <td>English_springer</td>\n",
       "      <td>0.225770</td>\n",
       "      <td>True</td>\n",
       "      <td>German_short-haired_pointer</td>\n",
       "      <td>0.175219</td>\n",
       "      <td>True</td>\n",
       "    </tr>\n",
       "    <tr>\n",
       "      <th>2071</th>\n",
       "      <td>891689557279858688</td>\n",
       "      <td>https://pbs.twimg.com/media/DF_q7IAWsAEuuN8.jpg</td>\n",
       "      <td>1</td>\n",
       "      <td>paper_towel</td>\n",
       "      <td>0.170278</td>\n",
       "      <td>False</td>\n",
       "      <td>Labrador_retriever</td>\n",
       "      <td>0.168086</td>\n",
       "      <td>True</td>\n",
       "      <td>spatula</td>\n",
       "      <td>0.040836</td>\n",
       "      <td>False</td>\n",
       "    </tr>\n",
       "    <tr>\n",
       "      <th>2072</th>\n",
       "      <td>891815181378084864</td>\n",
       "      <td>https://pbs.twimg.com/media/DGBdLU1WsAANxJ9.jpg</td>\n",
       "      <td>1</td>\n",
       "      <td>Chihuahua</td>\n",
       "      <td>0.716012</td>\n",
       "      <td>True</td>\n",
       "      <td>malamute</td>\n",
       "      <td>0.078253</td>\n",
       "      <td>True</td>\n",
       "      <td>kelpie</td>\n",
       "      <td>0.031379</td>\n",
       "      <td>True</td>\n",
       "    </tr>\n",
       "    <tr>\n",
       "      <th>2073</th>\n",
       "      <td>892177421306343426</td>\n",
       "      <td>https://pbs.twimg.com/media/DGGmoV4XsAAUL6n.jpg</td>\n",
       "      <td>1</td>\n",
       "      <td>Chihuahua</td>\n",
       "      <td>0.323581</td>\n",
       "      <td>True</td>\n",
       "      <td>Pekinese</td>\n",
       "      <td>0.090647</td>\n",
       "      <td>True</td>\n",
       "      <td>papillon</td>\n",
       "      <td>0.068957</td>\n",
       "      <td>True</td>\n",
       "    </tr>\n",
       "    <tr>\n",
       "      <th>2074</th>\n",
       "      <td>892420643555336193</td>\n",
       "      <td>https://pbs.twimg.com/media/DGKD1-bXoAAIAUK.jpg</td>\n",
       "      <td>1</td>\n",
       "      <td>orange</td>\n",
       "      <td>0.097049</td>\n",
       "      <td>False</td>\n",
       "      <td>bagel</td>\n",
       "      <td>0.085851</td>\n",
       "      <td>False</td>\n",
       "      <td>banana</td>\n",
       "      <td>0.076110</td>\n",
       "      <td>False</td>\n",
       "    </tr>\n",
       "  </tbody>\n",
       "</table>\n",
       "</div>"
      ],
      "text/plain": [
       "                tweet_id                                          jpg_url  \\\n",
       "2070  891327558926688256  https://pbs.twimg.com/media/DF6hr6BUMAAzZgT.jpg   \n",
       "2071  891689557279858688  https://pbs.twimg.com/media/DF_q7IAWsAEuuN8.jpg   \n",
       "2072  891815181378084864  https://pbs.twimg.com/media/DGBdLU1WsAANxJ9.jpg   \n",
       "2073  892177421306343426  https://pbs.twimg.com/media/DGGmoV4XsAAUL6n.jpg   \n",
       "2074  892420643555336193  https://pbs.twimg.com/media/DGKD1-bXoAAIAUK.jpg   \n",
       "\n",
       "      img_num           p1   p1_conf  p1_dog                  p2   p2_conf  \\\n",
       "2070        2       basset  0.555712    True    English_springer  0.225770   \n",
       "2071        1  paper_towel  0.170278   False  Labrador_retriever  0.168086   \n",
       "2072        1    Chihuahua  0.716012    True            malamute  0.078253   \n",
       "2073        1    Chihuahua  0.323581    True            Pekinese  0.090647   \n",
       "2074        1       orange  0.097049   False               bagel  0.085851   \n",
       "\n",
       "      p2_dog                           p3   p3_conf  p3_dog  \n",
       "2070    True  German_short-haired_pointer  0.175219    True  \n",
       "2071    True                      spatula  0.040836   False  \n",
       "2072    True                       kelpie  0.031379    True  \n",
       "2073    True                     papillon  0.068957    True  \n",
       "2074   False                       banana  0.076110   False  "
      ]
     },
     "execution_count": 108,
     "metadata": {},
     "output_type": "execute_result"
    }
   ],
   "source": [
    "# Printing the last 5 rows.\n",
    "df_img.tail()"
   ]
  },
  {
   "cell_type": "markdown",
   "metadata": {},
   "source": [
    "#### Observation\n",
    "> p1,p2,p3 needs to be standardized"
   ]
  },
  {
   "cell_type": "code",
   "execution_count": 109,
   "metadata": {},
   "outputs": [
    {
     "name": "stdout",
     "output_type": "stream",
     "text": [
      "<class 'pandas.core.frame.DataFrame'>\n",
      "RangeIndex: 2075 entries, 0 to 2074\n",
      "Data columns (total 12 columns):\n",
      "tweet_id    2075 non-null int64\n",
      "jpg_url     2075 non-null object\n",
      "img_num     2075 non-null int64\n",
      "p1          2075 non-null object\n",
      "p1_conf     2075 non-null float64\n",
      "p1_dog      2075 non-null bool\n",
      "p2          2075 non-null object\n",
      "p2_conf     2075 non-null float64\n",
      "p2_dog      2075 non-null bool\n",
      "p3          2075 non-null object\n",
      "p3_conf     2075 non-null float64\n",
      "p3_dog      2075 non-null bool\n",
      "dtypes: bool(3), float64(3), int64(2), object(4)\n",
      "memory usage: 152.1+ KB\n"
     ]
    }
   ],
   "source": [
    "# An overview of the df_img.\n",
    "df_img.info()"
   ]
  },
  {
   "cell_type": "markdown",
   "metadata": {},
   "source": [
    "#### Observation\n",
    "> tweet_id to be converted as string"
   ]
  },
  {
   "cell_type": "code",
   "execution_count": 110,
   "metadata": {},
   "outputs": [
    {
     "data": {
      "text/plain": [
       "0"
      ]
     },
     "execution_count": 110,
     "metadata": {},
     "output_type": "execute_result"
    }
   ],
   "source": [
    "# Duplicated tweet_id.\n",
    "sum(df_img.tweet_id.duplicated())"
   ]
  },
  {
   "cell_type": "code",
   "execution_count": 111,
   "metadata": {},
   "outputs": [
    {
     "data": {
      "text/plain": [
       "66"
      ]
     },
     "execution_count": 111,
     "metadata": {},
     "output_type": "execute_result"
    }
   ],
   "source": [
    "# Duplicated jpg_url.\n",
    "sum(df_img.jpg_url.duplicated())"
   ]
  },
  {
   "cell_type": "markdown",
   "metadata": {},
   "source": [
    "#### Observation\n",
    ">Column jpg_url is found to be duplicated\n",
    "\n",
    ">Based on the tidy data concept, these two tables (`twitter_archive_enhanced.csv` and `image_predictions.tsv`) could be merged into one, using the `tweet_id` as a mapping key."
   ]
  },
  {
   "cell_type": "markdown",
   "metadata": {},
   "source": [
    "### Quality issues\n",
    "#### twitter_archive_enhanced.csv\n",
    "1. Invalid names or non-standard names.\n",
    "\n",
    "2. Invalid ratings numerator. Value varies from 1776 to 0. Data Structure must be converted from int to float.\n",
    "\n",
    "3. Invalid denominator, I expected a fixed base. Data Structure must be converted from int to float.\n",
    "\n",
    "4. timestamp is a String, It needs to be converted to date.\n",
    "\n",
    "5. tweet_id must be a string.\n",
    "\n",
    "6. retweeted_status_id : The same dog could be recorded twice or more in cases of retweets.\n",
    "\n",
    "7. in_reply_to_status_id : The same dog could be recorded twice or more in cases of reply.\n",
    "\n",
    "8. source column is having \tHTML tags, URL, and content in a single column.\n",
    "\n",
    "#### image_predictions.tsv\n",
    "9. Columns p1,p2 & p3 : Dog's breed has no standard. Capital letter or lowercase names.\n",
    "\n",
    "10. tweet_id needs to be converted as string\n",
    "\n",
    "11. Column jpg_url has duplicated images and consequently double entry."
   ]
  },
  {
   "cell_type": "markdown",
   "metadata": {},
   "source": [
    "### Tidiness issues\n",
    "#### twitter_archive_enhanced.csv\n",
    "1. doggo, floofer, pupper, and puppo. These are categorical variable, can be combined into one column.\n",
    "\n",
    "2. text : There is two information in a single column. need to split the text from the URL."
   ]
  },
  {
   "cell_type": "markdown",
   "metadata": {
    "extensions": {
     "jupyter_dashboards": {
      "version": 1,
      "views": {
       "grid_default": {
        "col": 4,
        "height": 4,
        "hidden": false,
        "row": 32,
        "width": 4
       },
       "report_default": {
        "hidden": false
       }
      }
     }
    }
   },
   "source": [
    "## Cleaning Data\n",
    "In this section, clean **all** of the issues you documented while assessing. \n",
    "\n",
    "**Note:** Make a copy of the original data before cleaning. Cleaning includes merging individual pieces of data according to the rules of [tidy data](https://cran.r-project.org/web/packages/tidyr/vignettes/tidy-data.html). The result should be a high-quality and tidy master pandas DataFrame (or DataFrames, if appropriate)."
   ]
  },
  {
   "cell_type": "code",
   "execution_count": 112,
   "metadata": {},
   "outputs": [],
   "source": [
    "# Make copies of original pieces of data\n",
    "# Copying the df_img.\n",
    "df_img_cln = df_img.copy()\n",
    "\n",
    "# Copying the df_ach.\n",
    "df_ach_cln = df_ach.copy()\n",
    "\n",
    "# Copying the df_twt_raw. \n",
    "df_twt_cln = df_twt_raw.copy()"
   ]
  },
  {
   "cell_type": "code",
   "execution_count": 113,
   "metadata": {},
   "outputs": [],
   "source": [
    "# Creating the twitter_archive_master.\n",
    "twt_ach_mstr = pd.merge(df_ach_cln, df_img_cln, on = 'tweet_id')"
   ]
  },
  {
   "cell_type": "markdown",
   "metadata": {},
   "source": [
    "There is no correct sequence to fix the issues, we will begin with handling duplicates. "
   ]
  },
  {
   "cell_type": "markdown",
   "metadata": {},
   "source": [
    "### Quality Issue #11:\n",
    "Column jpg_url has duplicated images and consequently double entry."
   ]
  },
  {
   "cell_type": "markdown",
   "metadata": {},
   "source": [
    "#### Define:\n",
    "Remove all duplicated images (based on the URL)."
   ]
  },
  {
   "cell_type": "markdown",
   "metadata": {},
   "source": [
    "#### Code"
   ]
  },
  {
   "cell_type": "code",
   "execution_count": 114,
   "metadata": {},
   "outputs": [
    {
     "name": "stdout",
     "output_type": "stream",
     "text": [
      "Before: 2009 rows.\n",
      "After: 2075 rows.\n"
     ]
    }
   ],
   "source": [
    "# Vector to indexing the duplicated jpg url.\n",
    "indexing = df_img.jpg_url.duplicated()\n",
    "\n",
    "# I want the opposite. All observations except the duplicated.\n",
    "indexing = np.logical_not(indexing)\n",
    "\n",
    "# Subsetting and assigning to the df_img cleaned.\n",
    "df_img_cln = df_img_cln[indexing]\n",
    "\n",
    "# New dimensions of df_img_cln\n",
    "print(\"Before: {} rows.\\nAfter: {} rows.\".format(df_img_cln.shape[0], df_img.shape[0]))"
   ]
  },
  {
   "cell_type": "markdown",
   "metadata": {},
   "source": [
    "#### Test"
   ]
  },
  {
   "cell_type": "code",
   "execution_count": 115,
   "metadata": {},
   "outputs": [
    {
     "name": "stdout",
     "output_type": "stream",
     "text": [
      "0 duplicated.\n"
     ]
    }
   ],
   "source": [
    "# Testing the code given the defined solution.\n",
    "print(\"{} duplicated.\".format(sum(df_img_cln.jpg_url.duplicated())))"
   ]
  },
  {
   "cell_type": "markdown",
   "metadata": {},
   "source": [
    "### Quality Issue #6 & #7 combined\n",
    "* retweeted_status_id : The same dog could be recorded twice or more in cases of retweets.\n",
    "* in_reply_to_status_id : The same dog could be recorded twice or more in cases of reply."
   ]
  },
  {
   "cell_type": "markdown",
   "metadata": {
    "collapsed": true,
    "extensions": {
     "jupyter_dashboards": {
      "version": 1,
      "views": {
       "grid_default": {
        "hidden": true
       },
       "report_default": {
        "hidden": true
       }
      }
     }
    }
   },
   "source": [
    "#### Define\n",
    "* Remove any tweet with retweeted_status_id non-null, and\n",
    "* Remove any tweet with in_reply_to_status_id non-null"
   ]
  },
  {
   "cell_type": "markdown",
   "metadata": {},
   "source": [
    "#### Code"
   ]
  },
  {
   "cell_type": "code",
   "execution_count": 116,
   "metadata": {},
   "outputs": [],
   "source": [
    "# Creating a vector to select the retweeted_status_id different of Null.\n",
    "indexing = df_ach_cln.retweeted_status_id.isnull()\n",
    "\n",
    "# Subsetting the df_ach_cln excluding the retweeted. \n",
    "df_ach_cln = df_ach_cln[indexing]\n",
    "\n",
    "\n",
    "# CODE - Issue ID 10\n",
    "# Creating a vector to select the in_reply_to_status_id different of Null.\n",
    "indexing = df_ach_cln.in_reply_to_status_id.isnull()\n",
    "\n",
    "# Subsetting the df_ach_cln excluding the reply.\n",
    "df_ach_cln = df_ach_cln[indexing]"
   ]
  },
  {
   "cell_type": "markdown",
   "metadata": {},
   "source": [
    "#### Test"
   ]
  },
  {
   "cell_type": "code",
   "execution_count": 117,
   "metadata": {},
   "outputs": [
    {
     "name": "stdout",
     "output_type": "stream",
     "text": [
      "Number of rows with true in retweeted_status_id: 2097\n",
      "Number of rows with true in in_reply_to_status_id: 2097\n",
      "Number of rows of df_ach_cln: 2097\n"
     ]
    }
   ],
   "source": [
    "# Testing: Expect all rows as True when using the .isnull()  \n",
    "print(\"Number of rows with true in retweeted_status_id:\", sum(df_ach_cln.retweeted_status_id.isnull()))\n",
    "\n",
    "# Testing: Expect all rows as True when using the .isnull()  \n",
    "print(\"Number of rows with true in in_reply_to_status_id:\", sum(df_ach_cln.in_reply_to_status_id.isnull()))\n",
    "\n",
    "# Number of rows in df_ach_cln.\n",
    "print(\"Number of rows of df_ach_cln:\",df_ach_cln.shape[0])"
   ]
  },
  {
   "cell_type": "code",
   "execution_count": 118,
   "metadata": {},
   "outputs": [
    {
     "data": {
      "text/plain": [
       "10     2057\n",
       "50        3\n",
       "11        2\n",
       "80        2\n",
       "7         1\n",
       "170       1\n",
       "150       1\n",
       "130       1\n",
       "120       1\n",
       "110       1\n",
       "90        1\n",
       "70        1\n",
       "40        1\n",
       "20        1\n",
       "2         1\n",
       "Name: rating_denominator, dtype: int64"
      ]
     },
     "execution_count": 118,
     "metadata": {},
     "output_type": "execute_result"
    }
   ],
   "source": [
    "# Printing the values of denominator\n",
    "twt_ach_mstr.rating_denominator.value_counts()"
   ]
  },
  {
   "cell_type": "markdown",
   "metadata": {},
   "source": [
    "### Quality Issue #5\n",
    "tweet_id must be a string"
   ]
  },
  {
   "cell_type": "markdown",
   "metadata": {},
   "source": [
    "#### Define\n",
    "Convert tweet_id to str."
   ]
  },
  {
   "cell_type": "markdown",
   "metadata": {},
   "source": [
    "#### Code"
   ]
  },
  {
   "cell_type": "code",
   "execution_count": 119,
   "metadata": {},
   "outputs": [],
   "source": [
    "# Converting the tweet_id to string.\n",
    "df_ach_cln.tweet_id = df_ach_cln.tweet_id.astype(str)"
   ]
  },
  {
   "cell_type": "markdown",
   "metadata": {},
   "source": [
    "#### Test"
   ]
  },
  {
   "cell_type": "code",
   "execution_count": 120,
   "metadata": {},
   "outputs": [
    {
     "name": "stdout",
     "output_type": "stream",
     "text": [
      "<class 'pandas.core.frame.DataFrame'>\n",
      "Int64Index: 2097 entries, 0 to 2355\n",
      "Data columns (total 17 columns):\n",
      "tweet_id                      2097 non-null object\n",
      "in_reply_to_status_id         0 non-null float64\n",
      "in_reply_to_user_id           0 non-null float64\n",
      "timestamp                     2097 non-null object\n",
      "source                        2097 non-null object\n",
      "text                          2097 non-null object\n",
      "retweeted_status_id           0 non-null float64\n",
      "retweeted_status_user_id      0 non-null float64\n",
      "retweeted_status_timestamp    0 non-null object\n",
      "expanded_urls                 2094 non-null object\n",
      "rating_numerator              2097 non-null int64\n",
      "rating_denominator            2097 non-null int64\n",
      "name                          2097 non-null object\n",
      "doggo                         2097 non-null object\n",
      "floofer                       2097 non-null object\n",
      "pupper                        2097 non-null object\n",
      "puppo                         2097 non-null object\n",
      "dtypes: float64(4), int64(2), object(11)\n",
      "memory usage: 294.9+ KB\n"
     ]
    }
   ],
   "source": [
    "# Printing the info to ensure the convertion. Bear in mind, in pandas object is string. \n",
    "df_ach_cln.info()"
   ]
  },
  {
   "cell_type": "markdown",
   "metadata": {},
   "source": [
    "### Quality Issue #10\n",
    "tweet_id needs to be converted as string"
   ]
  },
  {
   "cell_type": "markdown",
   "metadata": {},
   "source": [
    "#### Define\n",
    "Convert tweet_id to str."
   ]
  },
  {
   "cell_type": "markdown",
   "metadata": {},
   "source": [
    "#### Code"
   ]
  },
  {
   "cell_type": "code",
   "execution_count": 121,
   "metadata": {},
   "outputs": [],
   "source": [
    "# Converting the tweet_id to string.\n",
    "df_img_cln.tweet_id = df_img_cln.tweet_id.astype(str)"
   ]
  },
  {
   "cell_type": "markdown",
   "metadata": {},
   "source": [
    "#### Test"
   ]
  },
  {
   "cell_type": "code",
   "execution_count": 122,
   "metadata": {},
   "outputs": [
    {
     "name": "stdout",
     "output_type": "stream",
     "text": [
      "<class 'pandas.core.frame.DataFrame'>\n",
      "Int64Index: 2009 entries, 0 to 2074\n",
      "Data columns (total 12 columns):\n",
      "tweet_id    2009 non-null object\n",
      "jpg_url     2009 non-null object\n",
      "img_num     2009 non-null int64\n",
      "p1          2009 non-null object\n",
      "p1_conf     2009 non-null float64\n",
      "p1_dog      2009 non-null bool\n",
      "p2          2009 non-null object\n",
      "p2_conf     2009 non-null float64\n",
      "p2_dog      2009 non-null bool\n",
      "p3          2009 non-null object\n",
      "p3_conf     2009 non-null float64\n",
      "p3_dog      2009 non-null bool\n",
      "dtypes: bool(3), float64(3), int64(1), object(5)\n",
      "memory usage: 162.8+ KB\n"
     ]
    }
   ],
   "source": [
    "# Printing the info to ensure the convertion. Bear in mind, in pandas object is string. \n",
    "df_img_cln.info()"
   ]
  },
  {
   "cell_type": "markdown",
   "metadata": {},
   "source": [
    "*Based on the .info() the tweet_id has converted as object, which is in pandas the same of a string.*"
   ]
  },
  {
   "cell_type": "markdown",
   "metadata": {},
   "source": [
    "#### Merging dataframes"
   ]
  },
  {
   "cell_type": "code",
   "execution_count": 123,
   "metadata": {},
   "outputs": [],
   "source": [
    "# Creating the twitter_archive_master.\n",
    "twt_ach_mstr = pd.merge(df_ach_cln, df_img_cln, on = 'tweet_id')"
   ]
  },
  {
   "cell_type": "markdown",
   "metadata": {},
   "source": [
    "### Quality Issue #1\n",
    "Invalid names or non-standard names."
   ]
  },
  {
   "cell_type": "markdown",
   "metadata": {},
   "source": [
    "#### Define\n",
    "Rename non-standard names to \"None\""
   ]
  },
  {
   "cell_type": "markdown",
   "metadata": {},
   "source": [
    "#### Code"
   ]
  },
  {
   "cell_type": "code",
   "execution_count": 124,
   "metadata": {},
   "outputs": [
    {
     "data": {
      "text/plain": [
       "['a',\n",
       " 'an',\n",
       " 'actually',\n",
       " 'his',\n",
       " 'by',\n",
       " 'space',\n",
       " 'quite',\n",
       " 'very',\n",
       " 'such',\n",
       " 'incredibly',\n",
       " 'the',\n",
       " 'just',\n",
       " 'light',\n",
       " 'my',\n",
       " 'all',\n",
       " 'one',\n",
       " 'officially',\n",
       " 'getting',\n",
       " 'unacceptable',\n",
       " 'not',\n",
       " 'infuriating',\n",
       " 'this']"
      ]
     },
     "execution_count": 124,
     "metadata": {},
     "output_type": "execute_result"
    }
   ],
   "source": [
    "# Initialization of variable.\n",
    "non_names = []\n",
    "\n",
    "# Loop to find ordinary word.\n",
    "for index in twt_ach_mstr.name:\n",
    "    # Will check every name start with lowercase.\n",
    "    if index.islower():\n",
    "        # If yes will append to non_names.\n",
    "        non_names.append(index)\n",
    "\n",
    "# The list will filter only unique values\n",
    "non_names = list(set(non_names))\n",
    "\n",
    "# Printing non-standard names.\n",
    "non_names"
   ]
  },
  {
   "cell_type": "code",
   "execution_count": 125,
   "metadata": {},
   "outputs": [],
   "source": [
    "# Loop to replace each non standard name (non_name).\n",
    "for index in non_names:\n",
    "    twt_ach_mstr.name.replace(index,\n",
    "                              \"None\",\n",
    "                              inplace = True)"
   ]
  },
  {
   "cell_type": "markdown",
   "metadata": {},
   "source": [
    "#### Test"
   ]
  },
  {
   "cell_type": "code",
   "execution_count": 126,
   "metadata": {},
   "outputs": [
    {
     "data": {
      "text/plain": [
       "0"
      ]
     },
     "execution_count": 126,
     "metadata": {},
     "output_type": "execute_result"
    }
   ],
   "source": [
    "# Based on the list of non-standard names. Let's ensure if all have been removed.\n",
    "sum(twt_ach_mstr.name.isin(non_names))"
   ]
  },
  {
   "cell_type": "markdown",
   "metadata": {},
   "source": [
    "*As an additional issue, we earlier observed HTML tags, URL, and content in a single column. We need to fix that*"
   ]
  },
  {
   "cell_type": "markdown",
   "metadata": {},
   "source": [
    "#### Define\n",
    "* Remove HTML tags;\n",
    "* Create a new column to store the href\n",
    "* Assign to the source column the content between HTML tags"
   ]
  },
  {
   "cell_type": "markdown",
   "metadata": {},
   "source": [
    "#### Code"
   ]
  },
  {
   "cell_type": "code",
   "execution_count": 127,
   "metadata": {},
   "outputs": [],
   "source": [
    "# Creating auxiliary list to store the source and source_url.\n",
    "aux_ls_sr = []\n",
    "aux_ls_sr_url = [] \n",
    "\n",
    "# This loop will remove all HTML tags using .split() and indexing.\n",
    "for index in twt_ach_mstr.source:\n",
    "    aux_ls_sr.append(index.split('</a')[0].split('<a href=\"')[1].split('\" rel=\"nofollow\">')[1] )\n",
    "    aux_ls_sr_url.append(index.split('</a')[0].split('<a href=\"')[1].split('\" rel=\"nofollow\">')[0] )\n",
    "\n",
    "# Updating the source column with aux_ls_sr.\n",
    "twt_ach_mstr.source = aux_ls_sr\n",
    "\n",
    "# Appending a new column with source_url info.\n",
    "twt_ach_mstr = pd.concat([twt_ach_mstr, pd.DataFrame(aux_ls_sr_url, columns = ['source_url'])], axis = 1)"
   ]
  },
  {
   "cell_type": "markdown",
   "metadata": {},
   "source": [
    "#### Test"
   ]
  },
  {
   "cell_type": "code",
   "execution_count": 128,
   "metadata": {},
   "outputs": [
    {
     "data": {
      "text/html": [
       "<div>\n",
       "<style scoped>\n",
       "    .dataframe tbody tr th:only-of-type {\n",
       "        vertical-align: middle;\n",
       "    }\n",
       "\n",
       "    .dataframe tbody tr th {\n",
       "        vertical-align: top;\n",
       "    }\n",
       "\n",
       "    .dataframe thead th {\n",
       "        text-align: right;\n",
       "    }\n",
       "</style>\n",
       "<table border=\"1\" class=\"dataframe\">\n",
       "  <thead>\n",
       "    <tr style=\"text-align: right;\">\n",
       "      <th></th>\n",
       "      <th>tweet_id</th>\n",
       "      <th>source</th>\n",
       "      <th>source_url</th>\n",
       "    </tr>\n",
       "  </thead>\n",
       "  <tbody>\n",
       "    <tr>\n",
       "      <th>0</th>\n",
       "      <td>892420643555336193</td>\n",
       "      <td>Twitter for iPhone</td>\n",
       "      <td>http://twitter.com/download/iphone</td>\n",
       "    </tr>\n",
       "    <tr>\n",
       "      <th>1</th>\n",
       "      <td>892177421306343426</td>\n",
       "      <td>Twitter for iPhone</td>\n",
       "      <td>http://twitter.com/download/iphone</td>\n",
       "    </tr>\n",
       "    <tr>\n",
       "      <th>2</th>\n",
       "      <td>891815181378084864</td>\n",
       "      <td>Twitter for iPhone</td>\n",
       "      <td>http://twitter.com/download/iphone</td>\n",
       "    </tr>\n",
       "    <tr>\n",
       "      <th>3</th>\n",
       "      <td>891689557279858688</td>\n",
       "      <td>Twitter for iPhone</td>\n",
       "      <td>http://twitter.com/download/iphone</td>\n",
       "    </tr>\n",
       "    <tr>\n",
       "      <th>4</th>\n",
       "      <td>891327558926688256</td>\n",
       "      <td>Twitter for iPhone</td>\n",
       "      <td>http://twitter.com/download/iphone</td>\n",
       "    </tr>\n",
       "  </tbody>\n",
       "</table>\n",
       "</div>"
      ],
      "text/plain": [
       "             tweet_id              source                          source_url\n",
       "0  892420643555336193  Twitter for iPhone  http://twitter.com/download/iphone\n",
       "1  892177421306343426  Twitter for iPhone  http://twitter.com/download/iphone\n",
       "2  891815181378084864  Twitter for iPhone  http://twitter.com/download/iphone\n",
       "3  891689557279858688  Twitter for iPhone  http://twitter.com/download/iphone\n",
       "4  891327558926688256  Twitter for iPhone  http://twitter.com/download/iphone"
      ]
     },
     "execution_count": 128,
     "metadata": {},
     "output_type": "execute_result"
    }
   ],
   "source": [
    "# Printing the first 5 rows of a subsetted data frame.\n",
    "twt_ach_mstr[['tweet_id','source','source_url']].head()"
   ]
  },
  {
   "cell_type": "code",
   "execution_count": 129,
   "metadata": {},
   "outputs": [
    {
     "data": {
      "text/plain": [
       "Twitter for iPhone    1932\n",
       "Twitter Web Client      28\n",
       "TweetDeck               11\n",
       "Name: source, dtype: int64"
      ]
     },
     "execution_count": 129,
     "metadata": {},
     "output_type": "execute_result"
    }
   ],
   "source": [
    "# Printing the categories of source column.\n",
    "twt_ach_mstr.source.value_counts()"
   ]
  },
  {
   "cell_type": "code",
   "execution_count": 130,
   "metadata": {},
   "outputs": [
    {
     "data": {
      "text/plain": [
       "http://twitter.com/download/iphone              1932\n",
       "http://twitter.com                                28\n",
       "https://about.twitter.com/products/tweetdeck      11\n",
       "Name: source_url, dtype: int64"
      ]
     },
     "execution_count": 130,
     "metadata": {},
     "output_type": "execute_result"
    }
   ],
   "source": [
    "# Printing the new column.\n",
    "twt_ach_mstr.source_url.value_counts()"
   ]
  },
  {
   "cell_type": "markdown",
   "metadata": {},
   "source": [
    "### Tidiness Issue #2\n",
    "text : There is two information in a single column. need to split the text from the URL."
   ]
  },
  {
   "cell_type": "markdown",
   "metadata": {},
   "source": [
    "#### Define\n",
    "* Remove the URL in the end of the text column\n",
    "* Create a new column to store the URL in the end of each tweet"
   ]
  },
  {
   "cell_type": "markdown",
   "metadata": {},
   "source": [
    "#### Code"
   ]
  },
  {
   "cell_type": "code",
   "execution_count": 131,
   "metadata": {},
   "outputs": [],
   "source": [
    "# Creating auxiliary list to store the text and text_url.\n",
    "aux_txt = []\n",
    "aux_txt_url = [] \n",
    "\n",
    "# This loop will remove all HTML tags using .split() and indexing.\n",
    "for index in twt_ach_mstr.text:\n",
    "    aux_txt.append(' '.join(index.split(\" \")[:-1]))\n",
    "    aux_txt_url.append(index.split(\" \")[-1])\n",
    "\n",
    "# Updating the source column with aux_ls_sr.\n",
    "twt_ach_mstr.text = aux_txt\n",
    "\n",
    "# Appending a new column with source_url info.\n",
    "twt_ach_mstr = pd.concat([twt_ach_mstr, pd.DataFrame(aux_txt_url, columns = ['text_url'])], axis = 1)"
   ]
  },
  {
   "cell_type": "markdown",
   "metadata": {},
   "source": [
    "#### Test"
   ]
  },
  {
   "cell_type": "code",
   "execution_count": 132,
   "metadata": {},
   "outputs": [
    {
     "data": {
      "text/html": [
       "<div>\n",
       "<style scoped>\n",
       "    .dataframe tbody tr th:only-of-type {\n",
       "        vertical-align: middle;\n",
       "    }\n",
       "\n",
       "    .dataframe tbody tr th {\n",
       "        vertical-align: top;\n",
       "    }\n",
       "\n",
       "    .dataframe thead th {\n",
       "        text-align: right;\n",
       "    }\n",
       "</style>\n",
       "<table border=\"1\" class=\"dataframe\">\n",
       "  <thead>\n",
       "    <tr style=\"text-align: right;\">\n",
       "      <th></th>\n",
       "      <th>tweet_id</th>\n",
       "      <th>text</th>\n",
       "      <th>text_url</th>\n",
       "    </tr>\n",
       "  </thead>\n",
       "  <tbody>\n",
       "    <tr>\n",
       "      <th>0</th>\n",
       "      <td>892420643555336193</td>\n",
       "      <td>This is Phineas. He's a mystical boy. Only eve...</td>\n",
       "      <td>https://t.co/MgUWQ76dJU</td>\n",
       "    </tr>\n",
       "    <tr>\n",
       "      <th>1</th>\n",
       "      <td>892177421306343426</td>\n",
       "      <td>This is Tilly. She's just checking pup on you....</td>\n",
       "      <td>https://t.co/0Xxu71qeIV</td>\n",
       "    </tr>\n",
       "    <tr>\n",
       "      <th>2</th>\n",
       "      <td>891815181378084864</td>\n",
       "      <td>This is Archie. He is a rare Norwegian Pouncin...</td>\n",
       "      <td>https://t.co/wUnZnhtVJB</td>\n",
       "    </tr>\n",
       "    <tr>\n",
       "      <th>3</th>\n",
       "      <td>891689557279858688</td>\n",
       "      <td>This is Darla. She commenced a snooze mid meal...</td>\n",
       "      <td>https://t.co/tD36da7qLQ</td>\n",
       "    </tr>\n",
       "    <tr>\n",
       "      <th>4</th>\n",
       "      <td>891327558926688256</td>\n",
       "      <td>This is Franklin. He would like you to stop ca...</td>\n",
       "      <td>https://t.co/AtUZn91f7f</td>\n",
       "    </tr>\n",
       "  </tbody>\n",
       "</table>\n",
       "</div>"
      ],
      "text/plain": [
       "             tweet_id                                               text  \\\n",
       "0  892420643555336193  This is Phineas. He's a mystical boy. Only eve...   \n",
       "1  892177421306343426  This is Tilly. She's just checking pup on you....   \n",
       "2  891815181378084864  This is Archie. He is a rare Norwegian Pouncin...   \n",
       "3  891689557279858688  This is Darla. She commenced a snooze mid meal...   \n",
       "4  891327558926688256  This is Franklin. He would like you to stop ca...   \n",
       "\n",
       "                  text_url  \n",
       "0  https://t.co/MgUWQ76dJU  \n",
       "1  https://t.co/0Xxu71qeIV  \n",
       "2  https://t.co/wUnZnhtVJB  \n",
       "3  https://t.co/tD36da7qLQ  \n",
       "4  https://t.co/AtUZn91f7f  "
      ]
     },
     "execution_count": 132,
     "metadata": {},
     "output_type": "execute_result"
    }
   ],
   "source": [
    "# Printing the first 5 rows of a subsetted dataframe. \n",
    "twt_ach_mstr[['tweet_id','text','text_url']].head()"
   ]
  },
  {
   "cell_type": "code",
   "execution_count": 133,
   "metadata": {},
   "outputs": [
    {
     "data": {
      "text/plain": [
       "[\"This is Phineas. He's a mystical boy. Only ever appears in the hole of a donut. 13/10\",\n",
       " \"This is Tilly. She's just checking pup on you. Hopes you're doing ok. If not, she's available for pats, snugs, boops, the whole bit. 13/10\",\n",
       " 'This is Archie. He is a rare Norwegian Pouncing Corgo. Lives in the tall grass. You never know when one may strike. 12/10',\n",
       " 'This is Darla. She commenced a snooze mid meal. 13/10 happens to the best of us',\n",
       " 'This is Franklin. He would like you to stop calling him \"cute.\" He is a very fierce shark and should be respected as such. 12/10 #BarkWeek']"
      ]
     },
     "execution_count": 133,
     "metadata": {},
     "output_type": "execute_result"
    }
   ],
   "source": [
    "# Printing the first 5 rows of text column.\n",
    "twt_ach_mstr.text.tolist()[:5]"
   ]
  },
  {
   "cell_type": "markdown",
   "metadata": {},
   "source": [
    "*The URL was removed and assigned to a new column (text_url) and the text is free of URL at the end of each tweet.*"
   ]
  },
  {
   "cell_type": "markdown",
   "metadata": {},
   "source": [
    "### Quality Issue #2 & #3\n",
    "* Invalid ratings numerator. Value varies from 1776 to 0. Data Structure must be converted from int to float.\n",
    "* Invalid denominator, I expected a fixed base. Data Structure must be converted from int to float."
   ]
  },
  {
   "cell_type": "markdown",
   "metadata": {},
   "source": [
    "#### Define\n",
    "* Convert rating_numerator and rating_denominator to float\n",
    "* Remove the extreme values (1776, 420, etc.) of rating_numerator\n",
    "* Remove non expected value of denominator, anything different of 10"
   ]
  },
  {
   "cell_type": "markdown",
   "metadata": {},
   "source": [
    "#### Code"
   ]
  },
  {
   "cell_type": "code",
   "execution_count": 134,
   "metadata": {},
   "outputs": [],
   "source": [
    "# Converting the rating_numerator and rating_denominator to float.\n",
    "twt_ach_mstr.rating_numerator = twt_ach_mstr.rating_numerator.astype(float)\n",
    "twt_ach_mstr.rating_denominator = twt_ach_mstr.rating_denominator.astype(float)"
   ]
  },
  {
   "cell_type": "code",
   "execution_count": 135,
   "metadata": {},
   "outputs": [
    {
     "data": {
      "text/html": [
       "<div>\n",
       "<style scoped>\n",
       "    .dataframe tbody tr th:only-of-type {\n",
       "        vertical-align: middle;\n",
       "    }\n",
       "\n",
       "    .dataframe tbody tr th {\n",
       "        vertical-align: top;\n",
       "    }\n",
       "\n",
       "    .dataframe thead th {\n",
       "        text-align: right;\n",
       "    }\n",
       "</style>\n",
       "<table border=\"1\" class=\"dataframe\">\n",
       "  <thead>\n",
       "    <tr style=\"text-align: right;\">\n",
       "      <th></th>\n",
       "      <th>tweet_id</th>\n",
       "      <th>text</th>\n",
       "    </tr>\n",
       "  </thead>\n",
       "  <tbody>\n",
       "    <tr>\n",
       "      <th>320</th>\n",
       "      <td>820690176645140481</td>\n",
       "      <td>The floofs have been released I repeat the flo...</td>\n",
       "    </tr>\n",
       "    <tr>\n",
       "      <th>382</th>\n",
       "      <td>810984652412424192</td>\n",
       "      <td>Meet Sam. She smiles 24/7 &amp;amp; secretly aspir...</td>\n",
       "    </tr>\n",
       "    <tr>\n",
       "      <th>499</th>\n",
       "      <td>786709082849828864</td>\n",
       "      <td>This is Logan, the Chow who lived. He solemnly...</td>\n",
       "    </tr>\n",
       "    <tr>\n",
       "      <th>549</th>\n",
       "      <td>778027034220126208</td>\n",
       "      <td>This is Sophie. She's a Jubilant Bush Pupper. ...</td>\n",
       "    </tr>\n",
       "    <tr>\n",
       "      <th>658</th>\n",
       "      <td>758467244762497024</td>\n",
       "      <td>Why does this never happen at my front door......</td>\n",
       "    </tr>\n",
       "    <tr>\n",
       "      <th>722</th>\n",
       "      <td>749981277374128128</td>\n",
       "      <td>This is Atticus. He's quite simply America af....</td>\n",
       "    </tr>\n",
       "    <tr>\n",
       "      <th>842</th>\n",
       "      <td>731156023742988288</td>\n",
       "      <td>Say hello to this unbelievably well behaved sq...</td>\n",
       "    </tr>\n",
       "    <tr>\n",
       "      <th>918</th>\n",
       "      <td>716439118184652801</td>\n",
       "      <td>This is Bluebert. He just saw that both #Final...</td>\n",
       "    </tr>\n",
       "    <tr>\n",
       "      <th>939</th>\n",
       "      <td>713900603437621249</td>\n",
       "      <td>Happy Saturday here's 9 puppers on a bench. 99...</td>\n",
       "    </tr>\n",
       "    <tr>\n",
       "      <th>963</th>\n",
       "      <td>710658690886586372</td>\n",
       "      <td>Here's a brigade of puppers. All look very pre...</td>\n",
       "    </tr>\n",
       "    <tr>\n",
       "      <th>981</th>\n",
       "      <td>709198395643068416</td>\n",
       "      <td>From left to right:\\nCletus, Jerome, Alejandro...</td>\n",
       "    </tr>\n",
       "    <tr>\n",
       "      <th>1045</th>\n",
       "      <td>704054845121142784</td>\n",
       "      <td>Here is a whole flock of puppers.  60/50 I'll ...</td>\n",
       "    </tr>\n",
       "    <tr>\n",
       "      <th>1120</th>\n",
       "      <td>697463031882764288</td>\n",
       "      <td>Happy Wednesday here's a bucket of pups. 44/40...</td>\n",
       "    </tr>\n",
       "    <tr>\n",
       "      <th>1288</th>\n",
       "      <td>684222868335505415</td>\n",
       "      <td>Someone help the girl is being mugged. Several...</td>\n",
       "    </tr>\n",
       "    <tr>\n",
       "      <th>1359</th>\n",
       "      <td>680494726643068929</td>\n",
       "      <td>Here we have uncovered an entire battalion of ...</td>\n",
       "    </tr>\n",
       "    <tr>\n",
       "      <th>1420</th>\n",
       "      <td>677716515794329600</td>\n",
       "      <td>IT'S PUPPERGEDDON. Total of 144/120 ...I think</td>\n",
       "    </tr>\n",
       "    <tr>\n",
       "      <th>1478</th>\n",
       "      <td>675853064436391936</td>\n",
       "      <td>Here we have an entire platoon of puppers. Tot...</td>\n",
       "    </tr>\n",
       "    <tr>\n",
       "      <th>1696</th>\n",
       "      <td>670842764863651840</td>\n",
       "      <td>After so many requests... here you go.\\n\\nGood...</td>\n",
       "    </tr>\n",
       "  </tbody>\n",
       "</table>\n",
       "</div>"
      ],
      "text/plain": [
       "                tweet_id                                               text\n",
       "320   820690176645140481  The floofs have been released I repeat the flo...\n",
       "382   810984652412424192  Meet Sam. She smiles 24/7 &amp; secretly aspir...\n",
       "499   786709082849828864  This is Logan, the Chow who lived. He solemnly...\n",
       "549   778027034220126208  This is Sophie. She's a Jubilant Bush Pupper. ...\n",
       "658   758467244762497024  Why does this never happen at my front door......\n",
       "722   749981277374128128  This is Atticus. He's quite simply America af....\n",
       "842   731156023742988288  Say hello to this unbelievably well behaved sq...\n",
       "918   716439118184652801  This is Bluebert. He just saw that both #Final...\n",
       "939   713900603437621249  Happy Saturday here's 9 puppers on a bench. 99...\n",
       "963   710658690886586372  Here's a brigade of puppers. All look very pre...\n",
       "981   709198395643068416  From left to right:\\nCletus, Jerome, Alejandro...\n",
       "1045  704054845121142784  Here is a whole flock of puppers.  60/50 I'll ...\n",
       "1120  697463031882764288  Happy Wednesday here's a bucket of pups. 44/40...\n",
       "1288  684222868335505415  Someone help the girl is being mugged. Several...\n",
       "1359  680494726643068929  Here we have uncovered an entire battalion of ...\n",
       "1420  677716515794329600     IT'S PUPPERGEDDON. Total of 144/120 ...I think\n",
       "1478  675853064436391936  Here we have an entire platoon of puppers. Tot...\n",
       "1696  670842764863651840  After so many requests... here you go.\\n\\nGood..."
      ]
     },
     "execution_count": 135,
     "metadata": {},
     "output_type": "execute_result"
    }
   ],
   "source": [
    "# Creating the black list\n",
    "black_list = sorted(twt_ach_mstr.query('rating_numerator > 15').rating_numerator.tolist())\n",
    "\n",
    "# Let's subset the twt_ach_mstr using the .isin() method.\n",
    "twt_ach_mstr[twt_ach_mstr.rating_numerator.isin(black_list)][['tweet_id','text']]"
   ]
  },
  {
   "cell_type": "markdown",
   "metadata": {},
   "source": [
    "*Some observations*\n",
    "* 810984652412424192: This is a crowdfund to a specific dog;\n",
    "\n",
    "Similarly\n",
    "\n",
    "* 749981277374128128: This is an outlier, due to the commemorative independency day the rating is outstanding high\n",
    "* 670842764863651840: I really do not understand why this rating is so high\n",
    "\n",
    "These three observations has to be handled"
   ]
  },
  {
   "cell_type": "code",
   "execution_count": 136,
   "metadata": {},
   "outputs": [],
   "source": [
    "# Remove those three tweet_id's.\n",
    "rm_list = ['810984652412424192',\n",
    "           '749981277374128128',\n",
    "           '670842764863651840']\n",
    "\n",
    "# Creating a vector to subset twt_ach_mstr and remove the tweet_id from the rm_list.\n",
    "indexing = np.logical_not(twt_ach_mstr.tweet_id.isin(rm_list))\n",
    "\n",
    "# Updating the twt_ach_mstr data frame.\n",
    "twt_ach_mstr = twt_ach_mstr[indexing]"
   ]
  },
  {
   "cell_type": "markdown",
   "metadata": {},
   "source": [
    "Some rating that is not an integer, for those we will use a .for() loop to find all float rating values."
   ]
  },
  {
   "cell_type": "code",
   "execution_count": 137,
   "metadata": {},
   "outputs": [],
   "source": [
    "# Loop to find any non integer rating.\n",
    "for index in twt_ach_mstr.tweet_id:\n",
    "    # Extracting the text of each tweet\n",
    "    twt_txt = twt_ach_mstr[twt_ach_mstr.tweet_id == index].text.tolist()[0]\n",
    "    # This regex will find any \"float\" rating among the words text.\n",
    "    rating = re.findall('\\d+\\.\\d+\\/\\d+', twt_txt)\n",
    "    # If any rating were found, the length of rating will be different of zero\n",
    "    if len(rating) > 0:\n",
    "        # rating is a list of one element like this [9.9/10], I want only the first part the 9.9.\n",
    "        numerator = rating[0].split('/')[0]\n",
    "        # This is the hard part. I must use the .loc() to update the data alocated in twt_ach_mstr Data Frame.\n",
    "        twt_ach_mstr.loc[twt_ach_mstr[twt_ach_mstr['tweet_id'] == index].index,'rating_numerator'] = float(numerator)"
   ]
  },
  {
   "cell_type": "markdown",
   "metadata": {},
   "source": [
    "There are more than one pet, so we will calculate the mean"
   ]
  },
  {
   "cell_type": "code",
   "execution_count": 138,
   "metadata": {},
   "outputs": [],
   "source": [
    "# Loop to find any non integer rating.\n",
    "for index in twt_ach_mstr.tweet_id:\n",
    "    # Extracting the text of each tweet\n",
    "    twt_txt = twt_ach_mstr[twt_ach_mstr.tweet_id == index].text.tolist()[0]\n",
    "    # This regex will find the pattern NN/NN.\n",
    "    rating = re.findall('\\d+\\d\\/\\d+', twt_txt)\n",
    "    # If any rating is a list of two elements.\n",
    "    if len(rating) == 2:\n",
    "        if(rating[0] == '50/50'):\n",
    "            # rating is a list of two elements like this [50/50, 9.9/10], I want only the first part of the second element.\n",
    "            numerator = rating[1].split('/')[0]\n",
    "            denominator = rating[1].split('/')[1]\n",
    "            # This is the hard part. I must use the .loc() to update the data alocated in twt_ach_mstr Data Frame.\n",
    "            twt_ach_mstr.loc[twt_ach_mstr[twt_ach_mstr['tweet_id'] == index].index,'rating_numerator'] = float(numerator)\n",
    "            twt_ach_mstr.loc[twt_ach_mstr[twt_ach_mstr['tweet_id'] == index].index,'rating_denominator'] = float(denominator)\n",
    "        else:\n",
    "            # Average of two ratings.\n",
    "            numerator = (float(rating[0].split('/')[0]) + float(rating[1].split('/')[0])) * 0.5\n",
    "            # This is the hard part. I must use the .loc() to update the data alocated in twt_ach_mstr Data Frame.\n",
    "            twt_ach_mstr.loc[twt_ach_mstr[twt_ach_mstr['tweet_id'] == index].index,'rating_numerator']"
   ]
  },
  {
   "cell_type": "markdown",
   "metadata": {},
   "source": [
    "Finally, in some tweets the user @dog_rates has an aggregate in a single rating many rates, in other words, If the picture has 7 dogs, the rating going to be 84/70, 12/10 in average.\n",
    "This needs to be handled by doing a simple scale."
   ]
  },
  {
   "cell_type": "code",
   "execution_count": 139,
   "metadata": {},
   "outputs": [],
   "source": [
    "# Loop to find any non integer rating.\n",
    "for index in twt_ach_mstr.query('rating_numerator > 15').tweet_id:\n",
    "    # Extracting the text of each tweet\n",
    "    twt_txt = twt_ach_mstr[twt_ach_mstr.tweet_id == index].text.tolist()[0]\n",
    "    # This regex will find the pattern NN/NN.\n",
    "    rating = re.findall('\\d+\\d\\/\\d+', twt_txt)\n",
    "    # If any rating were found, the length of rating will be different of zero\n",
    "    if len(rating) == 1:\n",
    "        # rating is a list like this [9.9/10], I want only the first part\n",
    "        numerator = float(rating[0].split('/')[0])\n",
    "        denominator = float(rating[0].split('/')[1])\n",
    "        # This is the hard part. I must use the .loc() to update the data alocated in twt_ach_mstr Data Frame.\n",
    "        twt_ach_mstr.loc[twt_ach_mstr[twt_ach_mstr['tweet_id'] == index].index,'rating_numerator'] = numerator/(denominator/10)\n",
    "        twt_ach_mstr.loc[twt_ach_mstr[twt_ach_mstr['tweet_id'] == index].index,'rating_denominator'] = denominator/(denominator/10)"
   ]
  },
  {
   "cell_type": "markdown",
   "metadata": {},
   "source": [
    "*Now we will try to fix the denominator problem*"
   ]
  },
  {
   "cell_type": "code",
   "execution_count": 140,
   "metadata": {},
   "outputs": [],
   "source": [
    "# Slicing the problematic values from the value_counts. \n",
    "denominator_problem = twt_ach_mstr.rating_denominator.value_counts().index[1:].tolist()\n",
    "\n",
    "# Subsetting the dataframe to extrac the tweet_id with problem. \n",
    "tweet_id_denominator_problem = twt_ach_mstr[twt_ach_mstr.rating_denominator.isin(denominator_problem)].tweet_id\n",
    "\n",
    "for index in tweet_id_denominator_problem:\n",
    "    # Extracting the text of each tweet\n",
    "    twt_txt = twt_ach_mstr[twt_ach_mstr.tweet_id == index].text.tolist()[0]\n",
    "    # This regex will find the pattern NN/NN.\n",
    "    rating = re.findall('\\d+\\d\\/\\d+', twt_txt)\n",
    "    # Only update if the rating is valid rating NN/NN\n",
    "    if len(rating) == 1:\n",
    "        numerator = rating[0].split('/')[0]\n",
    "        denominator = rating[0].split('/')[1]\n",
    "        twt_ach_mstr.loc[twt_ach_mstr[twt_ach_mstr['tweet_id'] == index].index,'rating_numerator'] = float(numerator)\n",
    "        twt_ach_mstr.loc[twt_ach_mstr[twt_ach_mstr['tweet_id'] == index].index,'rating_denominator'] = float(denominator)"
   ]
  },
  {
   "cell_type": "markdown",
   "metadata": {},
   "source": [
    "#### Test"
   ]
  },
  {
   "cell_type": "code",
   "execution_count": 141,
   "metadata": {},
   "outputs": [
    {
     "data": {
      "text/plain": [
       "12.00    450\n",
       "10.00    419\n",
       "11.00    398\n",
       "13.00    254\n",
       "9.00     150\n",
       "8.00      95\n",
       "7.00      51\n",
       "14.00     34\n",
       "6.00      32\n",
       "5.00      32\n",
       "3.00      19\n",
       "4.00      15\n",
       "2.00       9\n",
       "1.00       5\n",
       "9.75       1\n",
       "0.00       1\n",
       "11.26      1\n",
       "13.50      1\n",
       "11.27      1\n",
       "Name: rating_numerator, dtype: int64"
      ]
     },
     "execution_count": 141,
     "metadata": {},
     "output_type": "execute_result"
    }
   ],
   "source": [
    "# Printing the values of numerator.\n",
    "twt_ach_mstr.rating_numerator.value_counts()"
   ]
  },
  {
   "cell_type": "code",
   "execution_count": 142,
   "metadata": {},
   "outputs": [
    {
     "data": {
      "text/plain": [
       "10.0    1967\n",
       "2.0        1\n",
       "Name: rating_denominator, dtype: int64"
      ]
     },
     "execution_count": 142,
     "metadata": {},
     "output_type": "execute_result"
    }
   ],
   "source": [
    "# Printing the values of denominator\n",
    "twt_ach_mstr.rating_denominator.value_counts()"
   ]
  },
  {
   "cell_type": "markdown",
   "metadata": {},
   "source": [
    "*We are able to remove most of the Non-standard values, but one*"
   ]
  },
  {
   "cell_type": "markdown",
   "metadata": {},
   "source": [
    "###  Tidiness Issue #1\n",
    "doggo, floofer, pupper, and puppo. These are categorical variable, can be combined into one column."
   ]
  },
  {
   "cell_type": "markdown",
   "metadata": {},
   "source": [
    "#### Define\n",
    "* 8 cases: doggo and pupper\n",
    "* 1 case: doggo and floofer\n",
    "* 1 case: doggo and puppo\n",
    "\n",
    "So we will handle this issue by merging doggo, pupper, puppo, and floofer in one column."
   ]
  },
  {
   "cell_type": "markdown",
   "metadata": {},
   "source": [
    "#### Code"
   ]
  },
  {
   "cell_type": "code",
   "execution_count": 143,
   "metadata": {},
   "outputs": [
    {
     "data": {
      "text/plain": [
       "                1665\n",
       "pupper           201\n",
       "doggo             63\n",
       "puppo             22\n",
       "doggopupper        8\n",
       "floofer            7\n",
       "doggofloofer       1\n",
       "doggopuppo         1\n",
       "Name: dogtionary, dtype: int64"
      ]
     },
     "execution_count": 143,
     "metadata": {},
     "output_type": "execute_result"
    }
   ],
   "source": [
    "# Subset the twt_ach_mstr just to pick the \"dogtionary columns\".\n",
    "dog_cols = twt_ach_mstr[['doggo','floofer','pupper','puppo']]\n",
    "\n",
    "# Replace all \"None\" values to \"almost null\".\n",
    "dog_cols = dog_cols.replace('None', '') \n",
    "\n",
    "# Adding the columns to create a new one.\n",
    "dogtionary = np.array(dog_cols['doggo']) + np.array(dog_cols['floofer']) + np.array(dog_cols['pupper']) + np.array(dog_cols['puppo'])\n",
    "\n",
    "# Printing\n",
    "pd.DataFrame(dogtionary, columns = ['dogtionary']).dogtionary.value_counts()"
   ]
  },
  {
   "cell_type": "markdown",
   "metadata": {},
   "source": [
    "*Now we will convert all double classified dog as multiclass*"
   ]
  },
  {
   "cell_type": "code",
   "execution_count": 144,
   "metadata": {},
   "outputs": [
    {
     "data": {
      "text/plain": [
       "              1665\n",
       "pupper         201\n",
       "doggo           63\n",
       "puppo           22\n",
       "multiclass      10\n",
       "floofer          7\n",
       "Name: dogtionary, dtype: int64"
      ]
     },
     "execution_count": 144,
     "metadata": {},
     "output_type": "execute_result"
    }
   ],
   "source": [
    "# Fixing the dogs with two classifications.\n",
    "dogtionary[dogtionary == 'doggopupper'] = 'multiclass'\n",
    "dogtionary[dogtionary == 'doggofloofer'] = 'multiclass'\n",
    "dogtionary[dogtionary == 'doggopuppo'] = 'multiclass'\n",
    "\n",
    "# Printing to see the results.\n",
    "pd.DataFrame(dogtionary, columns = ['dogtionary']).dogtionary.value_counts()"
   ]
  },
  {
   "cell_type": "markdown",
   "metadata": {},
   "source": [
    "*Finally, we'll append this new column called dogtionary to the twt_ach_mstr data frame.*"
   ]
  },
  {
   "cell_type": "code",
   "execution_count": 145,
   "metadata": {},
   "outputs": [],
   "source": [
    "# Reseting the index of twt_ach_mstr.\n",
    "twt_ach_mstr.reset_index(drop=True, inplace=True)\n",
    "\n",
    "# Appending dogtionary to twt_ach_mstr.\n",
    "twt_ach_mstr = pd.concat([twt_ach_mstr, pd.DataFrame(dogtionary, columns = ['dogtionary'])], axis = 1)"
   ]
  },
  {
   "cell_type": "markdown",
   "metadata": {},
   "source": [
    "#### Test"
   ]
  },
  {
   "cell_type": "code",
   "execution_count": 146,
   "metadata": {},
   "outputs": [
    {
     "data": {
      "text/plain": [
       "              1665\n",
       "pupper         201\n",
       "doggo           63\n",
       "puppo           22\n",
       "multiclass      10\n",
       "floofer          7\n",
       "Name: dogtionary, dtype: int64"
      ]
     },
     "execution_count": 146,
     "metadata": {},
     "output_type": "execute_result"
    }
   ],
   "source": [
    "# Printing the value_counts of the new columns dogtionary.\n",
    "twt_ach_mstr.dogtionary.value_counts()"
   ]
  },
  {
   "cell_type": "markdown",
   "metadata": {},
   "source": [
    "### Quality Issue #4\n",
    "timestamp is a String, It needs to be converted to date."
   ]
  },
  {
   "cell_type": "markdown",
   "metadata": {},
   "source": [
    "#### Define\n",
    "Convert timestamp to date time variable."
   ]
  },
  {
   "cell_type": "markdown",
   "metadata": {},
   "source": [
    "#### Code"
   ]
  },
  {
   "cell_type": "code",
   "execution_count": 147,
   "metadata": {},
   "outputs": [],
   "source": [
    "# Extracting the timestamp from a separated variable.\n",
    "timestamp = twt_ach_mstr.timestamp.tolist()\n",
    "\n",
    "# I want to remove the ' +0000', to do so I will use the split.\n",
    "timestamp_str = list(map( lambda x : str(x).split(' +0000')[0], timestamp))\n",
    "\n",
    "# Converting a regular list to a numpy Data Frame.\n",
    "timestamp_str = pd.DataFrame(timestamp_str, columns = ['timestamp'])\n",
    "\n",
    "# Converting using the numpy datetime, and assigning to the twt_ach_mstr.\n",
    "twt_ach_mstr.timestamp = timestamp_str.timestamp.apply(np.datetime64)"
   ]
  },
  {
   "cell_type": "markdown",
   "metadata": {},
   "source": [
    "#### Test"
   ]
  },
  {
   "cell_type": "code",
   "execution_count": 148,
   "metadata": {},
   "outputs": [
    {
     "name": "stdout",
     "output_type": "stream",
     "text": [
      "<class 'pandas.core.frame.DataFrame'>\n",
      "RangeIndex: 1968 entries, 0 to 1967\n",
      "Data columns (total 31 columns):\n",
      "tweet_id                      1968 non-null object\n",
      "in_reply_to_status_id         0 non-null float64\n",
      "in_reply_to_user_id           0 non-null float64\n",
      "timestamp                     1968 non-null datetime64[ns]\n",
      "source                        1968 non-null object\n",
      "text                          1968 non-null object\n",
      "retweeted_status_id           0 non-null float64\n",
      "retweeted_status_user_id      0 non-null float64\n",
      "retweeted_status_timestamp    0 non-null object\n",
      "expanded_urls                 1968 non-null object\n",
      "rating_numerator              1968 non-null float64\n",
      "rating_denominator            1968 non-null float64\n",
      "name                          1968 non-null object\n",
      "doggo                         1968 non-null object\n",
      "floofer                       1968 non-null object\n",
      "pupper                        1968 non-null object\n",
      "puppo                         1968 non-null object\n",
      "jpg_url                       1968 non-null object\n",
      "img_num                       1968 non-null int64\n",
      "p1                            1968 non-null object\n",
      "p1_conf                       1968 non-null float64\n",
      "p1_dog                        1968 non-null bool\n",
      "p2                            1968 non-null object\n",
      "p2_conf                       1968 non-null float64\n",
      "p2_dog                        1968 non-null bool\n",
      "p3                            1968 non-null object\n",
      "p3_conf                       1968 non-null float64\n",
      "p3_dog                        1968 non-null bool\n",
      "source_url                    1968 non-null object\n",
      "text_url                      1968 non-null object\n",
      "dogtionary                    1968 non-null object\n",
      "dtypes: bool(3), datetime64[ns](1), float64(9), int64(1), object(17)\n",
      "memory usage: 436.3+ KB\n"
     ]
    }
   ],
   "source": [
    "# Printing the data type of each variable.\n",
    "twt_ach_mstr.info()"
   ]
  },
  {
   "cell_type": "markdown",
   "metadata": {},
   "source": [
    "### Quality Issue #9\n",
    "Columns p1,p2 & p3 : Dog's breed has no standard. Capital letter or lowercase names."
   ]
  },
  {
   "cell_type": "markdown",
   "metadata": {},
   "source": [
    "#### Define\n",
    "* Convert all names to lower cases\n",
    "* Convert all spaces into an underscore\n",
    "* Convert all dash to underscore\n",
    "\n",
    "*Standardization of the dogs' breeds names in P1, P2 and P3 columns*"
   ]
  },
  {
   "cell_type": "code",
   "execution_count": 149,
   "metadata": {},
   "outputs": [],
   "source": [
    "#This functions aims to convert any letter to lower case, also replace space by underscores\n",
    "#INPUTS:\n",
    "#VARIABLE     TYPE         DESCRIPTION \n",
    "#list_names   data frame   A column of a given data frame which contains non-standardized letters\n",
    "#OUTUPUTS: \n",
    "#VARIABLE     TYPE         DESCRIPTION \n",
    "#list_names   data frame   Column with 'fixed' content\n",
    "def fix_names(list_names):\n",
    "    # Convert any uppercase in lowercase.\n",
    "    list_names = list(map(lambda x : x.lower(), list_names ))\n",
    "    # Change spaces in underscores.\n",
    "    list_names = list(map(lambda x : x.replace(' ','_'), list_names ))\n",
    "    # Change dash to underscores.\n",
    "    list_names = list(map(lambda x : x.replace('-','_'), list_names ))\n",
    "    \n",
    "    return list_names # Return the \"fixed\" names."
   ]
  },
  {
   "cell_type": "code",
   "execution_count": 150,
   "metadata": {},
   "outputs": [],
   "source": [
    "#Now we will use the above function to handle the standardization issue\n",
    "twt_ach_mstr.p1 = fix_names(twt_ach_mstr.p1)\n",
    "twt_ach_mstr.p2 = fix_names(twt_ach_mstr.p2)\n",
    "twt_ach_mstr.p3 = fix_names(twt_ach_mstr.p3)"
   ]
  },
  {
   "cell_type": "markdown",
   "metadata": {},
   "source": [
    "#### Test"
   ]
  },
  {
   "cell_type": "code",
   "execution_count": 151,
   "metadata": {},
   "outputs": [
    {
     "data": {
      "text/html": [
       "<div>\n",
       "<style scoped>\n",
       "    .dataframe tbody tr th:only-of-type {\n",
       "        vertical-align: middle;\n",
       "    }\n",
       "\n",
       "    .dataframe tbody tr th {\n",
       "        vertical-align: top;\n",
       "    }\n",
       "\n",
       "    .dataframe thead th {\n",
       "        text-align: right;\n",
       "    }\n",
       "</style>\n",
       "<table border=\"1\" class=\"dataframe\">\n",
       "  <thead>\n",
       "    <tr style=\"text-align: right;\">\n",
       "      <th></th>\n",
       "      <th>tweet_id</th>\n",
       "      <th>p1</th>\n",
       "      <th>p2</th>\n",
       "      <th>p3</th>\n",
       "    </tr>\n",
       "  </thead>\n",
       "  <tbody>\n",
       "    <tr>\n",
       "      <th>0</th>\n",
       "      <td>892420643555336193</td>\n",
       "      <td>orange</td>\n",
       "      <td>bagel</td>\n",
       "      <td>banana</td>\n",
       "    </tr>\n",
       "    <tr>\n",
       "      <th>1</th>\n",
       "      <td>892177421306343426</td>\n",
       "      <td>chihuahua</td>\n",
       "      <td>pekinese</td>\n",
       "      <td>papillon</td>\n",
       "    </tr>\n",
       "    <tr>\n",
       "      <th>2</th>\n",
       "      <td>891815181378084864</td>\n",
       "      <td>chihuahua</td>\n",
       "      <td>malamute</td>\n",
       "      <td>kelpie</td>\n",
       "    </tr>\n",
       "    <tr>\n",
       "      <th>3</th>\n",
       "      <td>891689557279858688</td>\n",
       "      <td>paper_towel</td>\n",
       "      <td>labrador_retriever</td>\n",
       "      <td>spatula</td>\n",
       "    </tr>\n",
       "    <tr>\n",
       "      <th>4</th>\n",
       "      <td>891327558926688256</td>\n",
       "      <td>basset</td>\n",
       "      <td>english_springer</td>\n",
       "      <td>german_short_haired_pointer</td>\n",
       "    </tr>\n",
       "    <tr>\n",
       "      <th>5</th>\n",
       "      <td>891087950875897856</td>\n",
       "      <td>chesapeake_bay_retriever</td>\n",
       "      <td>irish_terrier</td>\n",
       "      <td>indian_elephant</td>\n",
       "    </tr>\n",
       "    <tr>\n",
       "      <th>6</th>\n",
       "      <td>890971913173991426</td>\n",
       "      <td>appenzeller</td>\n",
       "      <td>border_collie</td>\n",
       "      <td>ice_lolly</td>\n",
       "    </tr>\n",
       "    <tr>\n",
       "      <th>7</th>\n",
       "      <td>890729181411237888</td>\n",
       "      <td>pomeranian</td>\n",
       "      <td>eskimo_dog</td>\n",
       "      <td>pembroke</td>\n",
       "    </tr>\n",
       "    <tr>\n",
       "      <th>8</th>\n",
       "      <td>890609185150312448</td>\n",
       "      <td>irish_terrier</td>\n",
       "      <td>irish_setter</td>\n",
       "      <td>chesapeake_bay_retriever</td>\n",
       "    </tr>\n",
       "    <tr>\n",
       "      <th>9</th>\n",
       "      <td>890240255349198849</td>\n",
       "      <td>pembroke</td>\n",
       "      <td>cardigan</td>\n",
       "      <td>chihuahua</td>\n",
       "    </tr>\n",
       "  </tbody>\n",
       "</table>\n",
       "</div>"
      ],
      "text/plain": [
       "             tweet_id                        p1                  p2  \\\n",
       "0  892420643555336193                    orange               bagel   \n",
       "1  892177421306343426                 chihuahua            pekinese   \n",
       "2  891815181378084864                 chihuahua            malamute   \n",
       "3  891689557279858688               paper_towel  labrador_retriever   \n",
       "4  891327558926688256                    basset    english_springer   \n",
       "5  891087950875897856  chesapeake_bay_retriever       irish_terrier   \n",
       "6  890971913173991426               appenzeller       border_collie   \n",
       "7  890729181411237888                pomeranian          eskimo_dog   \n",
       "8  890609185150312448             irish_terrier        irish_setter   \n",
       "9  890240255349198849                  pembroke            cardigan   \n",
       "\n",
       "                            p3  \n",
       "0                       banana  \n",
       "1                     papillon  \n",
       "2                       kelpie  \n",
       "3                      spatula  \n",
       "4  german_short_haired_pointer  \n",
       "5              indian_elephant  \n",
       "6                    ice_lolly  \n",
       "7                     pembroke  \n",
       "8     chesapeake_bay_retriever  \n",
       "9                    chihuahua  "
      ]
     },
     "execution_count": 151,
     "metadata": {},
     "output_type": "execute_result"
    }
   ],
   "source": [
    "# Subsetting the twt_ach_mstr to show only p1, p2, p3, and tweet_id.\n",
    "twt_ach_mstr[['tweet_id','p1','p2','p3']].head(10)"
   ]
  },
  {
   "cell_type": "markdown",
   "metadata": {},
   "source": [
    "### Additional Issues\n",
    "*Identified few more quality issues*\n",
    "15. \"retweet count\" : Gather additional info in tweet_json.txt file.\n",
    "16. \"favorite count\" : Gather additional info in tweet_json.txt file.\n",
    "17. \"many columns\" : Remove in_reply_to_status_id, in_reply_to_user_id, retweeted_status_timestamp, retweeted_status_id, and retweeted_status_user_id."
   ]
  },
  {
   "cell_type": "markdown",
   "metadata": {},
   "source": [
    "### Quality Issue #12\n",
    "\"retweet count\" : Gather additional info in tweet_json.txt file."
   ]
  },
  {
   "cell_type": "markdown",
   "metadata": {},
   "source": [
    "#### Define\n",
    "Add to the twitter_archive_master.csv the favorite_count values from the tweet_json.txt"
   ]
  },
  {
   "cell_type": "markdown",
   "metadata": {},
   "source": [
    "#### Code"
   ]
  },
  {
   "cell_type": "code",
   "execution_count": 152,
   "metadata": {},
   "outputs": [],
   "source": [
    "# Lesson Learned: DO NOT use chaining indexing.\n",
    "favorite_count = df_twt_cln.loc[:,('id','favorite_count')]\n",
    "\n",
    "# Renaming the columns to be apt to merge using tweet_id as key.\n",
    "favorite_count.columns = ['tweet_id','favorite_count']\n",
    "\n",
    "# Converting the tweet_if to str.\n",
    "favorite_count.loc[favorite_count.tweet_id.index,'tweet_id'] = favorite_count.tweet_id.astype(str)\n",
    "\n",
    "# Merging the subsetted data frame called favorite_count to twt_ach_mstr.\n",
    "twt_ach_mstr = pd.merge(twt_ach_mstr, favorite_count, on = 'tweet_id', how = 'left')"
   ]
  },
  {
   "cell_type": "markdown",
   "metadata": {},
   "source": [
    "#### Test"
   ]
  },
  {
   "cell_type": "code",
   "execution_count": 153,
   "metadata": {},
   "outputs": [
    {
     "data": {
      "text/html": [
       "<div>\n",
       "<style scoped>\n",
       "    .dataframe tbody tr th:only-of-type {\n",
       "        vertical-align: middle;\n",
       "    }\n",
       "\n",
       "    .dataframe tbody tr th {\n",
       "        vertical-align: top;\n",
       "    }\n",
       "\n",
       "    .dataframe thead th {\n",
       "        text-align: right;\n",
       "    }\n",
       "</style>\n",
       "<table border=\"1\" class=\"dataframe\">\n",
       "  <thead>\n",
       "    <tr style=\"text-align: right;\">\n",
       "      <th></th>\n",
       "      <th>tweet_id</th>\n",
       "      <th>favorite_count</th>\n",
       "    </tr>\n",
       "  </thead>\n",
       "  <tbody>\n",
       "    <tr>\n",
       "      <th>0</th>\n",
       "      <td>892420643555336193</td>\n",
       "      <td>NaN</td>\n",
       "    </tr>\n",
       "    <tr>\n",
       "      <th>1</th>\n",
       "      <td>892177421306343426</td>\n",
       "      <td>NaN</td>\n",
       "    </tr>\n",
       "    <tr>\n",
       "      <th>2</th>\n",
       "      <td>891815181378084864</td>\n",
       "      <td>24593.0</td>\n",
       "    </tr>\n",
       "    <tr>\n",
       "      <th>3</th>\n",
       "      <td>891689557279858688</td>\n",
       "      <td>41433.0</td>\n",
       "    </tr>\n",
       "    <tr>\n",
       "      <th>4</th>\n",
       "      <td>891327558926688256</td>\n",
       "      <td>39613.0</td>\n",
       "    </tr>\n",
       "  </tbody>\n",
       "</table>\n",
       "</div>"
      ],
      "text/plain": [
       "             tweet_id  favorite_count\n",
       "0  892420643555336193             NaN\n",
       "1  892177421306343426             NaN\n",
       "2  891815181378084864         24593.0\n",
       "3  891689557279858688         41433.0\n",
       "4  891327558926688256         39613.0"
      ]
     },
     "execution_count": 153,
     "metadata": {},
     "output_type": "execute_result"
    }
   ],
   "source": [
    "# Print the first 5 favorite_count rows. Have in mind, this is a subset with few columns.\n",
    "twt_ach_mstr.loc[:,('tweet_id','favorite_count')].head()"
   ]
  },
  {
   "cell_type": "markdown",
   "metadata": {},
   "source": [
    "*Note : Not all tweet_id has favorite count*"
   ]
  },
  {
   "cell_type": "markdown",
   "metadata": {},
   "source": [
    "### Quality Issue #13\n",
    "\"favorite count\" : Gather additional info in tweet_json.txt file."
   ]
  },
  {
   "cell_type": "markdown",
   "metadata": {},
   "source": [
    "#### Define\n",
    "Add to the twitter_archive_master.csv the retweet_count values from the tweet_json.txt"
   ]
  },
  {
   "cell_type": "markdown",
   "metadata": {},
   "source": [
    "#### Code"
   ]
  },
  {
   "cell_type": "code",
   "execution_count": 154,
   "metadata": {},
   "outputs": [],
   "source": [
    "#favorite_count = df_twt_cln[['tweet_id','favorite_count']]\n",
    "retweet_count = df_twt_cln.loc[:,('id','retweet_count')]\n",
    "\n",
    "# Renaming the columns to be apt to merge using tweet_id as key.\n",
    "retweet_count.columns = ['tweet_id','retweet_count']\n",
    "\n",
    "# Converting the tweet_if to str.\n",
    "retweet_count.tweet_id = retweet_count.tweet_id.astype(str)\n",
    "\n",
    "# Merging the subsetted data frame called favorite_count to twt_ach_mstr.\n",
    "twt_ach_mstr = pd.merge(twt_ach_mstr, retweet_count, on = 'tweet_id', how = 'left')"
   ]
  },
  {
   "cell_type": "markdown",
   "metadata": {},
   "source": [
    "#### Test"
   ]
  },
  {
   "cell_type": "code",
   "execution_count": 155,
   "metadata": {},
   "outputs": [
    {
     "data": {
      "text/html": [
       "<div>\n",
       "<style scoped>\n",
       "    .dataframe tbody tr th:only-of-type {\n",
       "        vertical-align: middle;\n",
       "    }\n",
       "\n",
       "    .dataframe tbody tr th {\n",
       "        vertical-align: top;\n",
       "    }\n",
       "\n",
       "    .dataframe thead th {\n",
       "        text-align: right;\n",
       "    }\n",
       "</style>\n",
       "<table border=\"1\" class=\"dataframe\">\n",
       "  <thead>\n",
       "    <tr style=\"text-align: right;\">\n",
       "      <th></th>\n",
       "      <th>tweet_id</th>\n",
       "      <th>retweet_count</th>\n",
       "    </tr>\n",
       "  </thead>\n",
       "  <tbody>\n",
       "    <tr>\n",
       "      <th>0</th>\n",
       "      <td>892420643555336193</td>\n",
       "      <td>NaN</td>\n",
       "    </tr>\n",
       "    <tr>\n",
       "      <th>1</th>\n",
       "      <td>892177421306343426</td>\n",
       "      <td>NaN</td>\n",
       "    </tr>\n",
       "    <tr>\n",
       "      <th>2</th>\n",
       "      <td>891815181378084864</td>\n",
       "      <td>4070.0</td>\n",
       "    </tr>\n",
       "    <tr>\n",
       "      <th>3</th>\n",
       "      <td>891689557279858688</td>\n",
       "      <td>8471.0</td>\n",
       "    </tr>\n",
       "    <tr>\n",
       "      <th>4</th>\n",
       "      <td>891327558926688256</td>\n",
       "      <td>9166.0</td>\n",
       "    </tr>\n",
       "  </tbody>\n",
       "</table>\n",
       "</div>"
      ],
      "text/plain": [
       "             tweet_id  retweet_count\n",
       "0  892420643555336193            NaN\n",
       "1  892177421306343426            NaN\n",
       "2  891815181378084864         4070.0\n",
       "3  891689557279858688         8471.0\n",
       "4  891327558926688256         9166.0"
      ]
     },
     "execution_count": 155,
     "metadata": {},
     "output_type": "execute_result"
    }
   ],
   "source": [
    "# Print the first 5 retweet_count rows. Have in mind, this is a subset with few columns.\n",
    "twt_ach_mstr.loc[:,('tweet_id','retweet_count')].head()"
   ]
  },
  {
   "cell_type": "markdown",
   "metadata": {},
   "source": [
    "### Quality Issue #14\n",
    "\"many columns\" : Remove in_reply_to_status_id, in_reply_to_user_id, retweeted_status_timestamp, retweeted_status_id, and retweeted_status_user_id."
   ]
  },
  {
   "cell_type": "markdown",
   "metadata": {},
   "source": [
    "#### Define\n",
    "Drop the unused variables/columns: in_reply_to_status_id, in_reply_to_user_id, retweeted_status_timestamp, retweeted_status_id, and retweeted_status_user_id."
   ]
  },
  {
   "cell_type": "markdown",
   "metadata": {},
   "source": [
    "#### Code"
   ]
  },
  {
   "cell_type": "code",
   "execution_count": 156,
   "metadata": {},
   "outputs": [
    {
     "data": {
      "text/plain": [
       "33"
      ]
     },
     "execution_count": 156,
     "metadata": {},
     "output_type": "execute_result"
    }
   ],
   "source": [
    "# Calculates the number of columns.\n",
    "len(twt_ach_mstr.columns.tolist())"
   ]
  },
  {
   "cell_type": "code",
   "execution_count": 157,
   "metadata": {},
   "outputs": [
    {
     "data": {
      "text/plain": [
       "['tweet_id',\n",
       " 'in_reply_to_status_id',\n",
       " 'in_reply_to_user_id',\n",
       " 'timestamp',\n",
       " 'source',\n",
       " 'text',\n",
       " 'retweeted_status_id',\n",
       " 'retweeted_status_user_id',\n",
       " 'retweeted_status_timestamp',\n",
       " 'expanded_urls',\n",
       " 'rating_numerator',\n",
       " 'rating_denominator',\n",
       " 'name',\n",
       " 'doggo',\n",
       " 'floofer',\n",
       " 'pupper',\n",
       " 'puppo',\n",
       " 'jpg_url',\n",
       " 'img_num',\n",
       " 'p1',\n",
       " 'p1_conf',\n",
       " 'p1_dog',\n",
       " 'p2',\n",
       " 'p2_conf',\n",
       " 'p2_dog',\n",
       " 'p3',\n",
       " 'p3_conf',\n",
       " 'p3_dog',\n",
       " 'source_url',\n",
       " 'text_url',\n",
       " 'dogtionary',\n",
       " 'favorite_count',\n",
       " 'retweet_count']"
      ]
     },
     "execution_count": 157,
     "metadata": {},
     "output_type": "execute_result"
    }
   ],
   "source": [
    "#Checking the column list in twt_ach_mstr\n",
    "twt_ach_mstr.columns.tolist()"
   ]
  },
  {
   "cell_type": "code",
   "execution_count": 158,
   "metadata": {},
   "outputs": [
    {
     "data": {
      "text/plain": [
       "['tweet_id',\n",
       " 'timestamp',\n",
       " 'source',\n",
       " 'text',\n",
       " 'expanded_urls',\n",
       " 'rating_numerator',\n",
       " 'rating_denominator',\n",
       " 'name',\n",
       " 'jpg_url',\n",
       " 'img_num',\n",
       " 'p1',\n",
       " 'p1_conf',\n",
       " 'p1_dog',\n",
       " 'p2',\n",
       " 'p2_conf',\n",
       " 'p2_dog',\n",
       " 'p3',\n",
       " 'p3_conf',\n",
       " 'p3_dog',\n",
       " 'source_url',\n",
       " 'text_url',\n",
       " 'dogtionary',\n",
       " 'favorite_count',\n",
       " 'retweet_count']"
      ]
     },
     "execution_count": 158,
     "metadata": {},
     "output_type": "execute_result"
    }
   ],
   "source": [
    "# Columns to be removed.\n",
    "rm_columns = ['in_reply_to_status_id',\n",
    "              'in_reply_to_user_id',\n",
    "              'retweeted_status_timestamp',\n",
    "              'retweeted_status_id',\n",
    "              'retweeted_status_user_id',\n",
    "              'doggo',\n",
    "              'pupper',\n",
    "              'puppo',\n",
    "              'floofer']\n",
    "\n",
    "# Copy of all column of twt_ach_mstr. \n",
    "list_columns = twt_ach_mstr.columns.tolist()\n",
    "\n",
    "# Loop to remove each non desired column.\n",
    "for rm in rm_columns:\n",
    "    # Remove a specific column.\n",
    "    list_columns.remove(rm)\n",
    "\n",
    "# Priting the remaining columns.\n",
    "list_columns"
   ]
  },
  {
   "cell_type": "code",
   "execution_count": 159,
   "metadata": {},
   "outputs": [
    {
     "data": {
      "text/html": [
       "<div>\n",
       "<style scoped>\n",
       "    .dataframe tbody tr th:only-of-type {\n",
       "        vertical-align: middle;\n",
       "    }\n",
       "\n",
       "    .dataframe tbody tr th {\n",
       "        vertical-align: top;\n",
       "    }\n",
       "\n",
       "    .dataframe thead th {\n",
       "        text-align: right;\n",
       "    }\n",
       "</style>\n",
       "<table border=\"1\" class=\"dataframe\">\n",
       "  <thead>\n",
       "    <tr style=\"text-align: right;\">\n",
       "      <th></th>\n",
       "      <th>tweet_id</th>\n",
       "      <th>timestamp</th>\n",
       "      <th>source</th>\n",
       "      <th>text</th>\n",
       "      <th>expanded_urls</th>\n",
       "      <th>rating_numerator</th>\n",
       "      <th>rating_denominator</th>\n",
       "      <th>name</th>\n",
       "      <th>jpg_url</th>\n",
       "      <th>img_num</th>\n",
       "      <th>...</th>\n",
       "      <th>p2_conf</th>\n",
       "      <th>p2_dog</th>\n",
       "      <th>p3</th>\n",
       "      <th>p3_conf</th>\n",
       "      <th>p3_dog</th>\n",
       "      <th>source_url</th>\n",
       "      <th>text_url</th>\n",
       "      <th>dogtionary</th>\n",
       "      <th>favorite_count</th>\n",
       "      <th>retweet_count</th>\n",
       "    </tr>\n",
       "  </thead>\n",
       "  <tbody>\n",
       "    <tr>\n",
       "      <th>0</th>\n",
       "      <td>892420643555336193</td>\n",
       "      <td>2017-08-01 16:23:56</td>\n",
       "      <td>Twitter for iPhone</td>\n",
       "      <td>This is Phineas. He's a mystical boy. Only eve...</td>\n",
       "      <td>https://twitter.com/dog_rates/status/892420643...</td>\n",
       "      <td>13.0</td>\n",
       "      <td>10.0</td>\n",
       "      <td>Phineas</td>\n",
       "      <td>https://pbs.twimg.com/media/DGKD1-bXoAAIAUK.jpg</td>\n",
       "      <td>1</td>\n",
       "      <td>...</td>\n",
       "      <td>0.085851</td>\n",
       "      <td>False</td>\n",
       "      <td>banana</td>\n",
       "      <td>0.076110</td>\n",
       "      <td>False</td>\n",
       "      <td>http://twitter.com/download/iphone</td>\n",
       "      <td>https://t.co/MgUWQ76dJU</td>\n",
       "      <td></td>\n",
       "      <td>NaN</td>\n",
       "      <td>NaN</td>\n",
       "    </tr>\n",
       "    <tr>\n",
       "      <th>1</th>\n",
       "      <td>892177421306343426</td>\n",
       "      <td>2017-08-01 00:17:27</td>\n",
       "      <td>Twitter for iPhone</td>\n",
       "      <td>This is Tilly. She's just checking pup on you....</td>\n",
       "      <td>https://twitter.com/dog_rates/status/892177421...</td>\n",
       "      <td>13.0</td>\n",
       "      <td>10.0</td>\n",
       "      <td>Tilly</td>\n",
       "      <td>https://pbs.twimg.com/media/DGGmoV4XsAAUL6n.jpg</td>\n",
       "      <td>1</td>\n",
       "      <td>...</td>\n",
       "      <td>0.090647</td>\n",
       "      <td>True</td>\n",
       "      <td>papillon</td>\n",
       "      <td>0.068957</td>\n",
       "      <td>True</td>\n",
       "      <td>http://twitter.com/download/iphone</td>\n",
       "      <td>https://t.co/0Xxu71qeIV</td>\n",
       "      <td></td>\n",
       "      <td>NaN</td>\n",
       "      <td>NaN</td>\n",
       "    </tr>\n",
       "    <tr>\n",
       "      <th>2</th>\n",
       "      <td>891815181378084864</td>\n",
       "      <td>2017-07-31 00:18:03</td>\n",
       "      <td>Twitter for iPhone</td>\n",
       "      <td>This is Archie. He is a rare Norwegian Pouncin...</td>\n",
       "      <td>https://twitter.com/dog_rates/status/891815181...</td>\n",
       "      <td>12.0</td>\n",
       "      <td>10.0</td>\n",
       "      <td>Archie</td>\n",
       "      <td>https://pbs.twimg.com/media/DGBdLU1WsAANxJ9.jpg</td>\n",
       "      <td>1</td>\n",
       "      <td>...</td>\n",
       "      <td>0.078253</td>\n",
       "      <td>True</td>\n",
       "      <td>kelpie</td>\n",
       "      <td>0.031379</td>\n",
       "      <td>True</td>\n",
       "      <td>http://twitter.com/download/iphone</td>\n",
       "      <td>https://t.co/wUnZnhtVJB</td>\n",
       "      <td></td>\n",
       "      <td>24593.0</td>\n",
       "      <td>4070.0</td>\n",
       "    </tr>\n",
       "    <tr>\n",
       "      <th>3</th>\n",
       "      <td>891689557279858688</td>\n",
       "      <td>2017-07-30 15:58:51</td>\n",
       "      <td>Twitter for iPhone</td>\n",
       "      <td>This is Darla. She commenced a snooze mid meal...</td>\n",
       "      <td>https://twitter.com/dog_rates/status/891689557...</td>\n",
       "      <td>13.0</td>\n",
       "      <td>10.0</td>\n",
       "      <td>Darla</td>\n",
       "      <td>https://pbs.twimg.com/media/DF_q7IAWsAEuuN8.jpg</td>\n",
       "      <td>1</td>\n",
       "      <td>...</td>\n",
       "      <td>0.168086</td>\n",
       "      <td>True</td>\n",
       "      <td>spatula</td>\n",
       "      <td>0.040836</td>\n",
       "      <td>False</td>\n",
       "      <td>http://twitter.com/download/iphone</td>\n",
       "      <td>https://t.co/tD36da7qLQ</td>\n",
       "      <td></td>\n",
       "      <td>41433.0</td>\n",
       "      <td>8471.0</td>\n",
       "    </tr>\n",
       "    <tr>\n",
       "      <th>4</th>\n",
       "      <td>891327558926688256</td>\n",
       "      <td>2017-07-29 16:00:24</td>\n",
       "      <td>Twitter for iPhone</td>\n",
       "      <td>This is Franklin. He would like you to stop ca...</td>\n",
       "      <td>https://twitter.com/dog_rates/status/891327558...</td>\n",
       "      <td>12.0</td>\n",
       "      <td>10.0</td>\n",
       "      <td>Franklin</td>\n",
       "      <td>https://pbs.twimg.com/media/DF6hr6BUMAAzZgT.jpg</td>\n",
       "      <td>2</td>\n",
       "      <td>...</td>\n",
       "      <td>0.225770</td>\n",
       "      <td>True</td>\n",
       "      <td>german_short_haired_pointer</td>\n",
       "      <td>0.175219</td>\n",
       "      <td>True</td>\n",
       "      <td>http://twitter.com/download/iphone</td>\n",
       "      <td>https://t.co/AtUZn91f7f</td>\n",
       "      <td></td>\n",
       "      <td>39613.0</td>\n",
       "      <td>9166.0</td>\n",
       "    </tr>\n",
       "  </tbody>\n",
       "</table>\n",
       "<p>5 rows × 24 columns</p>\n",
       "</div>"
      ],
      "text/plain": [
       "             tweet_id           timestamp              source  \\\n",
       "0  892420643555336193 2017-08-01 16:23:56  Twitter for iPhone   \n",
       "1  892177421306343426 2017-08-01 00:17:27  Twitter for iPhone   \n",
       "2  891815181378084864 2017-07-31 00:18:03  Twitter for iPhone   \n",
       "3  891689557279858688 2017-07-30 15:58:51  Twitter for iPhone   \n",
       "4  891327558926688256 2017-07-29 16:00:24  Twitter for iPhone   \n",
       "\n",
       "                                                text  \\\n",
       "0  This is Phineas. He's a mystical boy. Only eve...   \n",
       "1  This is Tilly. She's just checking pup on you....   \n",
       "2  This is Archie. He is a rare Norwegian Pouncin...   \n",
       "3  This is Darla. She commenced a snooze mid meal...   \n",
       "4  This is Franklin. He would like you to stop ca...   \n",
       "\n",
       "                                       expanded_urls  rating_numerator  \\\n",
       "0  https://twitter.com/dog_rates/status/892420643...              13.0   \n",
       "1  https://twitter.com/dog_rates/status/892177421...              13.0   \n",
       "2  https://twitter.com/dog_rates/status/891815181...              12.0   \n",
       "3  https://twitter.com/dog_rates/status/891689557...              13.0   \n",
       "4  https://twitter.com/dog_rates/status/891327558...              12.0   \n",
       "\n",
       "   rating_denominator      name  \\\n",
       "0                10.0   Phineas   \n",
       "1                10.0     Tilly   \n",
       "2                10.0    Archie   \n",
       "3                10.0     Darla   \n",
       "4                10.0  Franklin   \n",
       "\n",
       "                                           jpg_url  img_num      ...       \\\n",
       "0  https://pbs.twimg.com/media/DGKD1-bXoAAIAUK.jpg        1      ...        \n",
       "1  https://pbs.twimg.com/media/DGGmoV4XsAAUL6n.jpg        1      ...        \n",
       "2  https://pbs.twimg.com/media/DGBdLU1WsAANxJ9.jpg        1      ...        \n",
       "3  https://pbs.twimg.com/media/DF_q7IAWsAEuuN8.jpg        1      ...        \n",
       "4  https://pbs.twimg.com/media/DF6hr6BUMAAzZgT.jpg        2      ...        \n",
       "\n",
       "    p2_conf  p2_dog                           p3   p3_conf  p3_dog  \\\n",
       "0  0.085851   False                       banana  0.076110   False   \n",
       "1  0.090647    True                     papillon  0.068957    True   \n",
       "2  0.078253    True                       kelpie  0.031379    True   \n",
       "3  0.168086    True                      spatula  0.040836   False   \n",
       "4  0.225770    True  german_short_haired_pointer  0.175219    True   \n",
       "\n",
       "                           source_url                 text_url  dogtionary  \\\n",
       "0  http://twitter.com/download/iphone  https://t.co/MgUWQ76dJU               \n",
       "1  http://twitter.com/download/iphone  https://t.co/0Xxu71qeIV               \n",
       "2  http://twitter.com/download/iphone  https://t.co/wUnZnhtVJB               \n",
       "3  http://twitter.com/download/iphone  https://t.co/tD36da7qLQ               \n",
       "4  http://twitter.com/download/iphone  https://t.co/AtUZn91f7f               \n",
       "\n",
       "   favorite_count retweet_count  \n",
       "0             NaN           NaN  \n",
       "1             NaN           NaN  \n",
       "2         24593.0        4070.0  \n",
       "3         41433.0        8471.0  \n",
       "4         39613.0        9166.0  \n",
       "\n",
       "[5 rows x 24 columns]"
      ]
     },
     "execution_count": 159,
     "metadata": {},
     "output_type": "execute_result"
    }
   ],
   "source": [
    "# Cleaned twt_ach_mstr.\n",
    "twt_ach_mstr = twt_ach_mstr[list_columns]\n",
    "\n",
    "# Printing the first 5 rows.\n",
    "twt_ach_mstr.head()"
   ]
  },
  {
   "cell_type": "markdown",
   "metadata": {},
   "source": [
    "#### Test"
   ]
  },
  {
   "cell_type": "code",
   "execution_count": 160,
   "metadata": {},
   "outputs": [
    {
     "name": "stdout",
     "output_type": "stream",
     "text": [
      "<class 'pandas.core.frame.DataFrame'>\n",
      "Int64Index: 1968 entries, 0 to 1967\n",
      "Data columns (total 24 columns):\n",
      "tweet_id              1968 non-null object\n",
      "timestamp             1968 non-null datetime64[ns]\n",
      "source                1968 non-null object\n",
      "text                  1968 non-null object\n",
      "expanded_urls         1968 non-null object\n",
      "rating_numerator      1968 non-null float64\n",
      "rating_denominator    1968 non-null float64\n",
      "name                  1968 non-null object\n",
      "jpg_url               1968 non-null object\n",
      "img_num               1968 non-null int64\n",
      "p1                    1968 non-null object\n",
      "p1_conf               1968 non-null float64\n",
      "p1_dog                1968 non-null bool\n",
      "p2                    1968 non-null object\n",
      "p2_conf               1968 non-null float64\n",
      "p2_dog                1968 non-null bool\n",
      "p3                    1968 non-null object\n",
      "p3_conf               1968 non-null float64\n",
      "p3_dog                1968 non-null bool\n",
      "source_url            1968 non-null object\n",
      "text_url              1968 non-null object\n",
      "dogtionary            1968 non-null object\n",
      "favorite_count        1280 non-null float64\n",
      "retweet_count         1280 non-null float64\n",
      "dtypes: bool(3), datetime64[ns](1), float64(7), int64(1), object(12)\n",
      "memory usage: 344.0+ KB\n"
     ]
    }
   ],
   "source": [
    "# Printing the info.\n",
    "twt_ach_mstr.info()"
   ]
  },
  {
   "cell_type": "code",
   "execution_count": null,
   "metadata": {},
   "outputs": [],
   "source": []
  },
  {
   "cell_type": "markdown",
   "metadata": {},
   "source": [
    "## Storing Data\n",
    "Save gathered, assessed, and cleaned master dataset to a CSV file named \"twitter_archive_master.csv\"."
   ]
  },
  {
   "cell_type": "code",
   "execution_count": 161,
   "metadata": {},
   "outputs": [],
   "source": [
    "#the final data frame : twt_ach_mstr\n",
    "# Saving the `twt_ach_mstr` as twitter_archive_master.csv.\n",
    "twt_ach_mstr.to_csv('resources/twitter_archive_master.csv', index=False, encoding = 'utf-8')"
   ]
  },
  {
   "cell_type": "markdown",
   "metadata": {},
   "source": [
    "## Analyzing and Visualizing Data\n",
    "In this section, analyze and visualize your wrangled data. You must produce at least **three (3) insights and one (1) visualization.**"
   ]
  },
  {
   "cell_type": "code",
   "execution_count": 162,
   "metadata": {},
   "outputs": [],
   "source": [
    "# Loading the tweet_json.txt as a panda DataFrame.\n",
    "df_viz = pd.read_csv('resources/twitter_archive_master.csv')"
   ]
  },
  {
   "cell_type": "markdown",
   "metadata": {},
   "source": [
    "*Timestamp needs to be adjusted as datetime*"
   ]
  },
  {
   "cell_type": "code",
   "execution_count": 163,
   "metadata": {},
   "outputs": [],
   "source": [
    "# Converting using the numpy datetime, and assigning to the twt_ach_mstr.\n",
    "df_viz.timestamp = df_viz.timestamp.apply(np.datetime64)"
   ]
  },
  {
   "cell_type": "markdown",
   "metadata": {},
   "source": [
    "#### General Configuration for Graphs"
   ]
  },
  {
   "cell_type": "code",
   "execution_count": 164,
   "metadata": {},
   "outputs": [],
   "source": [
    "# General configuration for all plots.\n",
    "font = 14          # X and Y axis fontsize.\n",
    "font_title = 18    # Graphic's Title fontsize.\n",
    "transparency = 0.5 # Transparency in cases of scatter plot.\n",
    "width = 0.7        # Bar width"
   ]
  },
  {
   "cell_type": "markdown",
   "metadata": {},
   "source": [
    "### Exploratory Data Analysis"
   ]
  },
  {
   "cell_type": "markdown",
   "metadata": {},
   "source": [
    "#### 1. Algorithm Comparison"
   ]
  },
  {
   "cell_type": "code",
   "execution_count": 165,
   "metadata": {},
   "outputs": [],
   "source": [
    "'''\n",
    "This function aims to plot a graphic using barchart and lines. Both side of the Y axis will be used. \n",
    "INPUTS:\n",
    "VARIABLE   TYPE         DESCRIPTION\n",
    "df_popular data frame   The entire data frame.\n",
    "gp_title   str          Graphic title.\n",
    "xlabel     str          X axis label. \n",
    "ylabel     str          Y axis label.\n",
    "font       str          Axis labels font size.\n",
    "font_title str          Graphic Title font size. \n",
    "OUTUPUTS:\n",
    "VARIABLE     TYPE   DESCRIPTION\n",
    "graphic      -      Returns a matplotlib graphic.\n",
    "'''\n",
    "\n",
    "# Function to plot a barchart.\n",
    "def gp_pop_dog(df_popular, gp_title, xlabel, ylabel,font, font_title):\n",
    "    # Plotting only the breed's dog with more than 20 occurencies.\n",
    "    df_popular[df_popular > 20].plot(kind = 'barh',      # Set the kind of graphic.\n",
    "                                 figsize = [14, 6]); # Graphic size.\n",
    "    plt.title(gp_title, size=font_title)\n",
    "    plt.xlabel(xlabel, size=font)\n",
    "    plt.ylabel(ylabel,size=font)\n",
    "    plt.xlim(0, 140)                    # X axis limit - set default as 140."
   ]
  },
  {
   "cell_type": "markdown",
   "metadata": {},
   "source": [
    "#### P1 Algorithm."
   ]
  },
  {
   "cell_type": "code",
   "execution_count": 166,
   "metadata": {},
   "outputs": [
    {
     "data": {
      "image/png": "[encoded data removed]",
      "text/plain": [
       "<matplotlib.figure.Figure at 0x7f6165c1a668>"
      ]
     },
     "metadata": {
      "needs_background": "light"
     },
     "output_type": "display_data"
    }
   ],
   "source": [
    "# Value counts to build a histogram.\n",
    "dog_pref = df_viz[df_viz.p1_dog].p1.value_counts()\n",
    "\n",
    "# Plotting the graphic.\n",
    "title = \"Graphic 1 - Algorithm 1 - Dog's Breed with more than 20 appearances.\"\n",
    "x_label = \"Occurrences\"\n",
    "y_label = \"Dog's Breed\"\n",
    "gp_pop_dog(dog_pref,title,x_label,y_label,font,font_title)"
   ]
  },
  {
   "cell_type": "markdown",
   "metadata": {},
   "source": [
    "#### P2 algorithm"
   ]
  },
  {
   "cell_type": "code",
   "execution_count": 167,
   "metadata": {},
   "outputs": [
    {
     "data": {
      "image/png": "[encoded data removed]",
      "text/plain": [
       "<matplotlib.figure.Figure at 0x7f6166479be0>"
      ]
     },
     "metadata": {
      "needs_background": "light"
     },
     "output_type": "display_data"
    }
   ],
   "source": [
    "# Dog Preference - Algorithm P2\n",
    "\n",
    "# Value counts to build a histogram.\n",
    "dog_pref = df_viz[df_viz.p2_dog].p2.value_counts()\n",
    "\n",
    "# Plotting the graphic.\n",
    "title = \"Graphic 2 - Algorithm 2 - Dog's Breed with more than 20 appearances.\"\n",
    "x_label = \"Occurrences\"\n",
    "y_label = \"Dog's Breed\"\n",
    "gp_pop_dog(dog_pref,title,x_label,y_label,font,font_title)"
   ]
  },
  {
   "cell_type": "markdown",
   "metadata": {},
   "source": [
    "#### P3 Algorithm"
   ]
  },
  {
   "cell_type": "code",
   "execution_count": 168,
   "metadata": {},
   "outputs": [
    {
     "data": {
      "image/png": "[encoded data removed]",
      "text/plain": [
       "<matplotlib.figure.Figure at 0x7f6166701ac8>"
      ]
     },
     "metadata": {
      "needs_background": "light"
     },
     "output_type": "display_data"
    }
   ],
   "source": [
    "# Dog Preference - Algorithm P3\n",
    "\n",
    "# Value counts to build a histogram.\n",
    "dog_pref = df_viz[df_viz.p3_dog].p3.value_counts()\n",
    "\n",
    "# Plotting the graphic.\n",
    "title = \"Graphic 3 - Algorithm 3 - Dog's Breed with more than 20 appearances.\"\n",
    "x_label = \"Occurrences\"\n",
    "y_label = \"Dog's Breed\"\n",
    "gp_pop_dog(dog_pref,title,x_label,y_label,font,font_title)"
   ]
  },
  {
   "cell_type": "markdown",
   "metadata": {},
   "source": [
    "*Based on the graphics, the P1 algorithm has fewer breeds and high concentrated bars in some breeds, in the opposite way the P3 algorithm has much more breeds and the dogs are spread in more breeds, in other words, less concentrated bars.*"
   ]
  },
  {
   "cell_type": "code",
   "execution_count": 169,
   "metadata": {},
   "outputs": [
    {
     "name": "stdout",
     "output_type": "stream",
     "text": [
      "P1: 74.29%\n",
      "P2: 75.15%\n",
      "P3: 72.66%\n"
     ]
    }
   ],
   "source": [
    "# Calculating the percentages by algorithms.\n",
    "p1_perc = round(100 * df_viz[df_viz.p1_dog].shape[0]/df_viz.shape[0],2)\n",
    "p2_perc = round(100 * df_viz[df_viz.p2_dog].shape[0]/df_viz.shape[0],2)\n",
    "p3_perc = round(100 * df_viz[df_viz.p3_dog].shape[0]/df_viz.shape[0],2)\n",
    "\n",
    "# Printing a summary.\n",
    "print(\"P1: {}%\\nP2: {}%\\nP3: {}%\".format(p1_perc,p2_perc,p3_perc))"
   ]
  },
  {
   "cell_type": "markdown",
   "metadata": {},
   "source": [
    "*All three algorithm has almost the same performance (percentage of picture classified as a dog):*\n",
    "* P1: 1462/1968 = 74.29%\n",
    "* P2: 1479/1968 = 75.15%\n",
    "* P3: 1420/1968 = 72.66%\n",
    "\n",
    "Performance wise P2 > P1 > P3"
   ]
  },
  {
   "cell_type": "code",
   "execution_count": 170,
   "metadata": {},
   "outputs": [
    {
     "name": "stdout",
     "output_type": "stream",
     "text": [
      "P1: 14 breeds.\n",
      "P2: 18 breeds.\n",
      "P3: 21 breeds.\n"
     ]
    }
   ],
   "source": [
    "# Calculating the number of breeds in each algorithm with more than 20 occurencies.\n",
    "p1_qty = sum(df_viz[df_viz.p1_dog].p1.value_counts() > 20)\n",
    "p2_qty = sum(df_viz[df_viz.p2_dog].p2.value_counts() > 20)\n",
    "p3_qty = sum(df_viz[df_viz.p3_dog].p3.value_counts() > 20)\n",
    "\n",
    "# Printing a summary of occurencies.\n",
    "print(\"P1: {} breeds.\\nP2: {} breeds.\\nP3: {} breeds.\".format(p1_qty,p2_qty,p3_qty))"
   ]
  },
  {
   "cell_type": "markdown",
   "metadata": {},
   "source": [
    "*It is clear that the third algorithm has 33.33% more breeds than the first algorithm*"
   ]
  },
  {
   "cell_type": "code",
   "execution_count": 171,
   "metadata": {},
   "outputs": [
    {
     "name": "stdout",
     "output_type": "stream",
     "text": [
      "P1: 732 dogs.\n",
      "P2: 713 dogs.\n",
      "P3: 671 dogs.\n"
     ]
    }
   ],
   "source": [
    "# Calculating the number of dogs classified using the threshold of 20.\n",
    "dog_qty_20_p1 = sum(df_viz[df_viz.p1_dog].p1.value_counts()[df_viz[df_viz.p1_dog].p1.value_counts() > 20])\n",
    "dog_qty_20_p2 = sum(df_viz[df_viz.p2_dog].p2.value_counts()[df_viz[df_viz.p2_dog].p2.value_counts() > 20])\n",
    "dog_qty_20_p3 = sum(df_viz[df_viz.p3_dog].p3.value_counts()[df_viz[df_viz.p3_dog].p3.value_counts() > 20])\n",
    "\n",
    "# Printing a summary of occurencies.\n",
    "print(\"P1: {} dogs.\\nP2: {} dogs.\\nP3: {} dogs.\".format(dog_qty_20_p1,dog_qty_20_p2,dog_qty_20_p3))"
   ]
  },
  {
   "cell_type": "markdown",
   "metadata": {},
   "source": [
    "**Conclusion**: *The algorithm 1 is more skewness than the other two, and tend to concentrate the classification in a few breeds. On the other hand, the third algorithm is more generalist, spreading the dogs in a more variety of breeds.*"
   ]
  },
  {
   "cell_type": "markdown",
   "metadata": {},
   "source": [
    "#### 2. Tweets Correlation: Favorite and Retweet"
   ]
  },
  {
   "cell_type": "markdown",
   "metadata": {},
   "source": [
    "Here we will investigate if there are a correlation between Favorite and Retweet. We'll plot a simple scatter plot."
   ]
  },
  {
   "cell_type": "code",
   "execution_count": 172,
   "metadata": {},
   "outputs": [
    {
     "data": {
      "image/png": "[encoded data removed]",
      "text/plain": [
       "<matplotlib.figure.Figure at 0x7f6166b7e898>"
      ]
     },
     "metadata": {
      "needs_background": "light"
     },
     "output_type": "display_data"
    }
   ],
   "source": [
    "plt.figure(figsize= [14,6])                               # Graphic size\n",
    "plt.scatter(x = df_viz['retweet_count'],                  # X varibale\n",
    "            y = df_viz['favorite_count'],                 # Y variable\n",
    "            alpha = transparency)                         # Transparency\n",
    "plt.xlabel('Number of Retweets', fontsize = font)         # X label\n",
    "plt.ylabel('Number of Favorite', fontsize = font)         # Y label\n",
    "plt.title('Graphic 4 - Correlation between retweets and favorite tweets.',\n",
    "          fontsize = font_title)                         # Graphic Title\n",
    "plt.show()                                               # Plot the graphic"
   ]
  },
  {
   "cell_type": "markdown",
   "metadata": {},
   "source": [
    "Graphically, it is possible to see a positive trend (correlation) between both variables. Thus, let's calculate a naive rate for each retweet how many favourites it will generate (in average)."
   ]
  },
  {
   "cell_type": "code",
   "execution_count": 173,
   "metadata": {},
   "outputs": [
    {
     "data": {
      "text/plain": [
       "count    1280.000000\n",
       "mean        3.384297\n",
       "std         1.150137\n",
       "min         1.107146\n",
       "25%         2.580705\n",
       "50%         3.219539\n",
       "75%         3.955537\n",
       "max        11.765060\n",
       "dtype: float64"
      ]
     },
     "execution_count": 173,
     "metadata": {},
     "output_type": "execute_result"
    }
   ],
   "source": [
    "# Calculating the rate for each retweet how many favorite will produce in average.\n",
    "fav_ret_rate = df_viz.favorite_count/df_viz.retweet_count\n",
    "\n",
    "# Calculating of mean, standard deviation, etc.\n",
    "fav_ret_rate[np.logical_not(df_viz.favorite_count.isnull())].describe()"
   ]
  },
  {
   "cell_type": "markdown",
   "metadata": {},
   "source": [
    "**Conclusion**: *Seems there is a very positive correlation when the number of favourites raises the numbers of retweets also raises. Using a straightforward analysis for each new retweet the favourites will increase 3 (in average).*"
   ]
  },
  {
   "cell_type": "markdown",
   "metadata": {},
   "source": [
    "#### 3. Doggo, Puppo, Pupper or Floofer - Which is more adorable ?"
   ]
  },
  {
   "cell_type": "markdown",
   "metadata": {},
   "source": [
    "Here we can calculate the mean and favourite per retweet rate to compare the dogtionary terms."
   ]
  },
  {
   "cell_type": "code",
   "execution_count": 174,
   "metadata": {},
   "outputs": [
    {
     "data": {
      "text/html": [
       "<div>\n",
       "<style scoped>\n",
       "    .dataframe tbody tr th:only-of-type {\n",
       "        vertical-align: middle;\n",
       "    }\n",
       "\n",
       "    .dataframe tbody tr th {\n",
       "        vertical-align: top;\n",
       "    }\n",
       "\n",
       "    .dataframe thead th {\n",
       "        text-align: right;\n",
       "    }\n",
       "</style>\n",
       "<table border=\"1\" class=\"dataframe\">\n",
       "  <thead>\n",
       "    <tr style=\"text-align: right;\">\n",
       "      <th></th>\n",
       "      <th>favorite_count</th>\n",
       "      <th>retweet_count</th>\n",
       "      <th>rate</th>\n",
       "      <th>count</th>\n",
       "    </tr>\n",
       "    <tr>\n",
       "      <th>dogtionary</th>\n",
       "      <th></th>\n",
       "      <th></th>\n",
       "      <th></th>\n",
       "      <th></th>\n",
       "    </tr>\n",
       "  </thead>\n",
       "  <tbody>\n",
       "    <tr>\n",
       "      <th>None</th>\n",
       "      <td>8062.129870</td>\n",
       "      <td>2393.982375</td>\n",
       "      <td>3.367665</td>\n",
       "      <td>1665</td>\n",
       "    </tr>\n",
       "    <tr>\n",
       "      <th>doggo</th>\n",
       "      <td>14410.558824</td>\n",
       "      <td>4851.058824</td>\n",
       "      <td>2.970601</td>\n",
       "      <td>63</td>\n",
       "    </tr>\n",
       "    <tr>\n",
       "      <th>floofer</th>\n",
       "      <td>5643.000000</td>\n",
       "      <td>2172.000000</td>\n",
       "      <td>2.598066</td>\n",
       "      <td>7</td>\n",
       "    </tr>\n",
       "    <tr>\n",
       "      <th>multiclass</th>\n",
       "      <td>19020.250000</td>\n",
       "      <td>6341.375000</td>\n",
       "      <td>2.999389</td>\n",
       "      <td>10</td>\n",
       "    </tr>\n",
       "    <tr>\n",
       "      <th>pupper</th>\n",
       "      <td>6529.219858</td>\n",
       "      <td>2122.219858</td>\n",
       "      <td>3.076599</td>\n",
       "      <td>201</td>\n",
       "    </tr>\n",
       "    <tr>\n",
       "      <th>puppo</th>\n",
       "      <td>14684.933333</td>\n",
       "      <td>4292.266667</td>\n",
       "      <td>3.421254</td>\n",
       "      <td>22</td>\n",
       "    </tr>\n",
       "  </tbody>\n",
       "</table>\n",
       "</div>"
      ],
      "text/plain": [
       "            favorite_count  retweet_count      rate  count\n",
       "dogtionary                                                \n",
       "None           8062.129870    2393.982375  3.367665   1665\n",
       "doggo         14410.558824    4851.058824  2.970601     63\n",
       "floofer        5643.000000    2172.000000  2.598066      7\n",
       "multiclass    19020.250000    6341.375000  2.999389     10\n",
       "pupper         6529.219858    2122.219858  3.076599    201\n",
       "puppo         14684.933333    4292.266667  3.421254     22"
      ]
     },
     "execution_count": 174,
     "metadata": {},
     "output_type": "execute_result"
    }
   ],
   "source": [
    "# Copying the original data frame for a pontual analysis.\n",
    "df_dogtionary = df_viz.copy()\n",
    "\n",
    "# Filling the NaN values with None.\n",
    "df_dogtionary.dogtionary = df_dogtionary.dogtionary.fillna('None')\n",
    "\n",
    "# Mean calculation.\n",
    "df_dog_mean = df_dogtionary.groupby(['dogtionary'])['favorite_count','retweet_count'].mean()\n",
    "\n",
    "# Rate calculation.\n",
    "df_dog_mean = df_dog_mean.join(pd.DataFrame(df_dog_mean.favorite_count/df_dog_mean.retweet_count, columns = ['rate']))\n",
    "\n",
    "# Count calculation.\n",
    "df_dog_mean_count = df_dog_mean.join(df_dogtionary.dogtionary.value_counts())\n",
    "\n",
    "# Copying the column's name.\n",
    "col_names = df_dog_mean_count.columns.tolist()\n",
    "\n",
    "# Editing the columns names.\n",
    "col_names[3] = 'count'\n",
    "\n",
    "# Assigning a proper name.\n",
    "df_dog_mean_count.columns = col_names\n",
    "\n",
    "# Printing the summary.\n",
    "df_dog_mean_count"
   ]
  },
  {
   "cell_type": "markdown",
   "metadata": {},
   "source": [
    "**Conclusion**: *Based on the summary above, in average, dogs without a dogtionary classification tend to perform better rates of favourite per retweet. Have in mind, the few observations of floofer and puppo.*"
   ]
  },
  {
   "cell_type": "markdown",
   "metadata": {},
   "source": [
    "We will try to analyse the above more visually"
   ]
  },
  {
   "cell_type": "code",
   "execution_count": 175,
   "metadata": {},
   "outputs": [
    {
     "data": {
      "image/png": "[encoded data removed]",
      "text/plain": [
       "<matplotlib.figure.Figure at 0x7f6166ef24a8>"
      ]
     },
     "metadata": {
      "needs_background": "light"
     },
     "output_type": "display_data"
    }
   ],
   "source": [
    "# Copying the original data frame for a pontual analysis.\n",
    "df_dog_viz = df_viz.copy()\n",
    "\n",
    "# Filling the NaN values with None.\n",
    "df_dog_viz.dogtionary = df_dog_viz.dogtionary.fillna('None')\n",
    "\n",
    "# List of term in dogtionary.\n",
    "dog_terms = ['None', 'pupper', 'doggo', 'puppo', 'floofer', 'multiclass'] # The order is ascending.\n",
    "\n",
    "# Graphic Size.\n",
    "plt.figure(figsize = [14, 10])                               \n",
    "\n",
    "# Loop to construct the graphic \"layers\".\n",
    "for index in dog_terms:\n",
    "    # Provisory data frame to subset the specific \"index\" dogtionary term.\n",
    "    prov = df_dog_viz[df_dog_viz['dogtionary'] == index][['favorite_count','retweet_count']]\n",
    "    # Plotting\n",
    "    plt.scatter(x = prov['favorite_count'],  # X axis data.\n",
    "                y = prov['retweet_count'] ,  # Y axis data.\n",
    "                alpha = transparency)        # Points transparency.\n",
    "plt.xlabel('Number of Retweets',     # X label.\n",
    "           fontsize = font)          # X axis fontsize.\n",
    "plt.ylabel('Number of Favorite',     # Y label.\n",
    "           fontsize = font)          # Y axis fontsize.\n",
    "plt.title('Graphic 5 - Correlation between retweets and favorite tweets by Dogtionary terms.', # Graphic title.\n",
    "          fontsize = font_title)     # Graphic Title.\n",
    "plt.legend(dog_terms)                # Add legend.\n",
    "plt.show()                           # Plot the graphic."
   ]
  },
  {
   "cell_type": "markdown",
   "metadata": {},
   "source": [
    "**Conclusion**: *It is not possible to identify (visually) any pattern or relationship, using the dogtionary variable, although there is a strong and positive correlation between Retweets and Favorite.*"
   ]
  },
  {
   "cell_type": "markdown",
   "metadata": {},
   "source": [
    "#### 4. Tweet's Profile over the time"
   ]
  },
  {
   "cell_type": "markdown",
   "metadata": {},
   "source": [
    "How is the behaviour of tweets along the week? Do they have the same average?"
   ]
  },
  {
   "cell_type": "code",
   "execution_count": 176,
   "metadata": {},
   "outputs": [
    {
     "data": {
      "text/html": [
       "<div>\n",
       "<style scoped>\n",
       "    .dataframe tbody tr th:only-of-type {\n",
       "        vertical-align: middle;\n",
       "    }\n",
       "\n",
       "    .dataframe tbody tr th {\n",
       "        vertical-align: top;\n",
       "    }\n",
       "\n",
       "    .dataframe thead th {\n",
       "        text-align: right;\n",
       "    }\n",
       "</style>\n",
       "<table border=\"1\" class=\"dataframe\">\n",
       "  <thead>\n",
       "    <tr style=\"text-align: right;\">\n",
       "      <th></th>\n",
       "      <th>Avg Rating</th>\n",
       "      <th>Tweets Number</th>\n",
       "      <th>idx</th>\n",
       "    </tr>\n",
       "  </thead>\n",
       "  <tbody>\n",
       "    <tr>\n",
       "      <th>Monday</th>\n",
       "      <td>10.342593</td>\n",
       "      <td>324</td>\n",
       "      <td>01</td>\n",
       "    </tr>\n",
       "    <tr>\n",
       "      <th>Tuesday</th>\n",
       "      <td>10.602302</td>\n",
       "      <td>291</td>\n",
       "      <td>02</td>\n",
       "    </tr>\n",
       "    <tr>\n",
       "      <th>Wednesday</th>\n",
       "      <td>10.453925</td>\n",
       "      <td>293</td>\n",
       "      <td>03</td>\n",
       "    </tr>\n",
       "    <tr>\n",
       "      <th>Thurday</th>\n",
       "      <td>10.706250</td>\n",
       "      <td>280</td>\n",
       "      <td>04</td>\n",
       "    </tr>\n",
       "    <tr>\n",
       "      <th>Friday</th>\n",
       "      <td>10.692688</td>\n",
       "      <td>279</td>\n",
       "      <td>05</td>\n",
       "    </tr>\n",
       "    <tr>\n",
       "      <th>Saturday</th>\n",
       "      <td>10.586694</td>\n",
       "      <td>248</td>\n",
       "      <td>06</td>\n",
       "    </tr>\n",
       "    <tr>\n",
       "      <th>Sunday</th>\n",
       "      <td>10.454545</td>\n",
       "      <td>253</td>\n",
       "      <td>07</td>\n",
       "    </tr>\n",
       "  </tbody>\n",
       "</table>\n",
       "</div>"
      ],
      "text/plain": [
       "           Avg Rating  Tweets Number idx\n",
       "Monday      10.342593            324  01\n",
       "Tuesday     10.602302            291  02\n",
       "Wednesday   10.453925            293  03\n",
       "Thurday     10.706250            280  04\n",
       "Friday      10.692688            279  05\n",
       "Saturday    10.586694            248  06\n",
       "Sunday      10.454545            253  07"
      ]
     },
     "execution_count": 176,
     "metadata": {},
     "output_type": "execute_result"
    }
   ],
   "source": [
    "# Copying the data frame to a pontual study.\n",
    "df_time = df_viz.copy()\n",
    "\n",
    "# Subsetting.\n",
    "df_time = df_time[['timestamp','rating_numerator']]\n",
    "\n",
    "# Converting full date to weekdays. 1 = Monday, 2 = Tuesday, ... , 7 = Sunday\n",
    "df_time.timestamp = list(map(lambda x : x.isoweekday(), df_time.timestamp))\n",
    "\n",
    "# Calculating the mean of ratings.\n",
    "df_time_mean = df_time.groupby(['timestamp']).mean()\n",
    "\n",
    "# Adding a new columns: number of occurencies.\n",
    "df_time_mean = df_time_mean.join(pd.DataFrame(df_time.timestamp.value_counts()))\n",
    "\n",
    "# Setting strings as index (preparing to the plot).\n",
    "#df_time_mean.index = [1,2,3,4,5,6,7]\n",
    "df_time_mean.index = ['Monday','Tuesday','Wednesday','Thurday','Friday','Saturday','Sunday']\n",
    "\n",
    "# Editing the variable name.\n",
    "df_time_mean.columns = ['Avg Rating','Tweets Number']\n",
    "idx = ['01','02','03','04','05','06','07']\n",
    "df_time_mean['idx'] = idx\n",
    "\n",
    "# Summary of Average Rating over the weekdays and grouped by the tweets's number.\n",
    "df_time_mean"
   ]
  },
  {
   "cell_type": "markdown",
   "metadata": {},
   "source": [
    "Analysing the above chunk output, it is not clear the behaviour. We'll try to analyse it visually."
   ]
  },
  {
   "cell_type": "code",
   "execution_count": 177,
   "metadata": {},
   "outputs": [],
   "source": [
    "import datetime\n",
    "from matplotlib.dates import  DateFormatter, DayLocator"
   ]
  },
  {
   "cell_type": "code",
   "execution_count": 178,
   "metadata": {},
   "outputs": [],
   "source": [
    "'''\n",
    "This function aims to plot a graphic using barchart and lines. Both side of the Y axis will be used.\n",
    "INPUTS:\n",
    "VARIABLE   TYPE         DESCRIPTION\n",
    "df_x       data frame   The entire data frame.\n",
    "df_y1      data frame   The variable to be displayed as bar.\n",
    "df_y2      data frame   The variable to be displayed as line.\n",
    "gp_title   str          Graphic title.\n",
    "xlabel     str          X axis label.\n",
    "ylabel     str          Y axis label.\n",
    "font       str          Axis labels font size.\n",
    "font_title str          Graphic Title font size.\n",
    "OUTUPUTS:\n",
    "VARIABLE     TYPE   DESCRIPTION\n",
    "graphic      -      Returns a matplotlib graphic.\n",
    "'''\n",
    "# Function to plot a barplot and line.\n",
    "def gp_bar_line(df_x, df_y1, df_y2, gp_title, xlabel, ylabel, font = font, font_title = font_title):\n",
    "    # Graphic Settings.\n",
    "    fig, ax1 = plt.subplots(figsize = [14,6])\n",
    "    # First Element: Blue bars.\n",
    "    color = 'tab:blue'\n",
    "    ax1.set_xlabel(xlabel, fontsize = font)\n",
    "    ax1.set_ylabel('Avg Rating', color = color, fontsize = font)\n",
    "    ax1.bar(df_x.idx, df_y1, color = color)\n",
    "    ax1.tick_params(axis = 'y', labelcolor = color)\n",
    "    ax1.set_xticklabels(df_x.index)\n",
    "\n",
    "    # Second Element: Red line.\n",
    "    ax2 = ax1.twinx()  # share axis with ax1 element.\n",
    "    color = 'indianred'\n",
    "    ax2.set_ylabel(ylabel, color = color, fontsize = font)  # we already handled the x-label with ax1\n",
    "    ax2.plot(df_x.idx, df_y2, color = color, linewidth = 5)\n",
    "    ax2.tick_params(axis = 'y', labelcolor = color)\n",
    "    ax2.set_xticklabels(df_x.index)\n",
    "\n",
    "    fig.tight_layout()  # otherwise the right y-label is slightly clipped\n",
    "    plt.title(gp_title,                # Graphic title.\n",
    "              fontsize = font_title)   # Graphic font title.\n",
    "    return plt.show()"
   ]
  },
  {
   "cell_type": "code",
   "execution_count": 179,
   "metadata": {},
   "outputs": [
    {
     "data": {
      "image/png": "[encoded data removed]",
      "text/plain": [
       "<matplotlib.figure.Figure at 0x7f616be00278>"
      ]
     },
     "metadata": {
      "needs_background": "light"
     },
     "output_type": "display_data"
    }
   ],
   "source": [
    "# Plotting Average Rating over the weekdays.\n",
    "gp_bar_line(df_x = df_time_mean,\n",
    "            df_y1 = df_time_mean['Avg Rating'],\n",
    "            df_y2 = df_time_mean['Tweets Number'],\n",
    "            gp_title = 'Graphic 6 - Average Rating and Number of Tweets per Weekday.',\n",
    "            xlabel = 'Weekday',\n",
    "            ylabel = 'Number of Tweets')"
   ]
  },
  {
   "cell_type": "markdown",
   "metadata": {},
   "source": [
    "*Conclusion: Although the number of tweets decreases along the weekend, the average stay (almost) steadily. In average, Monday is the weekday with highest tweets average.*"
   ]
  },
  {
   "cell_type": "code",
   "execution_count": 180,
   "metadata": {},
   "outputs": [
    {
     "data": {
      "text/html": [
       "<div>\n",
       "<style scoped>\n",
       "    .dataframe tbody tr th:only-of-type {\n",
       "        vertical-align: middle;\n",
       "    }\n",
       "\n",
       "    .dataframe tbody tr th {\n",
       "        vertical-align: top;\n",
       "    }\n",
       "\n",
       "    .dataframe thead th {\n",
       "        text-align: right;\n",
       "    }\n",
       "</style>\n",
       "<table border=\"1\" class=\"dataframe\">\n",
       "  <thead>\n",
       "    <tr style=\"text-align: right;\">\n",
       "      <th></th>\n",
       "      <th>Avg Rating</th>\n",
       "      <th>Tweets Number</th>\n",
       "      <th>idx</th>\n",
       "    </tr>\n",
       "  </thead>\n",
       "  <tbody>\n",
       "    <tr>\n",
       "      <th>Jan</th>\n",
       "      <td>10.711207</td>\n",
       "      <td>232</td>\n",
       "      <td>01</td>\n",
       "    </tr>\n",
       "    <tr>\n",
       "      <th>Feb</th>\n",
       "      <td>10.889535</td>\n",
       "      <td>172</td>\n",
       "      <td>02</td>\n",
       "    </tr>\n",
       "    <tr>\n",
       "      <th>Mar</th>\n",
       "      <td>10.939394</td>\n",
       "      <td>165</td>\n",
       "      <td>03</td>\n",
       "    </tr>\n",
       "    <tr>\n",
       "      <th>Apr</th>\n",
       "      <td>11.287234</td>\n",
       "      <td>94</td>\n",
       "      <td>04</td>\n",
       "    </tr>\n",
       "    <tr>\n",
       "      <th>May</th>\n",
       "      <td>11.683673</td>\n",
       "      <td>98</td>\n",
       "      <td>05</td>\n",
       "    </tr>\n",
       "    <tr>\n",
       "      <th>Jun</th>\n",
       "      <td>11.073171</td>\n",
       "      <td>123</td>\n",
       "      <td>06</td>\n",
       "    </tr>\n",
       "    <tr>\n",
       "      <th>Jul</th>\n",
       "      <td>11.533088</td>\n",
       "      <td>136</td>\n",
       "      <td>07</td>\n",
       "    </tr>\n",
       "    <tr>\n",
       "      <th>Aug</th>\n",
       "      <td>11.000000</td>\n",
       "      <td>61</td>\n",
       "      <td>08</td>\n",
       "    </tr>\n",
       "    <tr>\n",
       "      <th>Sep</th>\n",
       "      <td>11.194762</td>\n",
       "      <td>63</td>\n",
       "      <td>09</td>\n",
       "    </tr>\n",
       "    <tr>\n",
       "      <th>Oct</th>\n",
       "      <td>11.673077</td>\n",
       "      <td>65</td>\n",
       "      <td>10</td>\n",
       "    </tr>\n",
       "    <tr>\n",
       "      <th>Nov</th>\n",
       "      <td>9.355491</td>\n",
       "      <td>346</td>\n",
       "      <td>11</td>\n",
       "    </tr>\n",
       "    <tr>\n",
       "      <th>Dec</th>\n",
       "      <td>9.877143</td>\n",
       "      <td>413</td>\n",
       "      <td>12</td>\n",
       "    </tr>\n",
       "  </tbody>\n",
       "</table>\n",
       "</div>"
      ],
      "text/plain": [
       "     Avg Rating  Tweets Number idx\n",
       "Jan   10.711207            232  01\n",
       "Feb   10.889535            172  02\n",
       "Mar   10.939394            165  03\n",
       "Apr   11.287234             94  04\n",
       "May   11.683673             98  05\n",
       "Jun   11.073171            123  06\n",
       "Jul   11.533088            136  07\n",
       "Aug   11.000000             61  08\n",
       "Sep   11.194762             63  09\n",
       "Oct   11.673077             65  10\n",
       "Nov    9.355491            346  11\n",
       "Dec    9.877143            413  12"
      ]
     },
     "execution_count": 180,
     "metadata": {},
     "output_type": "execute_result"
    }
   ],
   "source": [
    "# Copying the data frame to a pontual study.\n",
    "df_month = df_viz.copy()\n",
    "\n",
    "# Subsetting\n",
    "df_month = df_month[['timestamp','rating_numerator']]\n",
    "\n",
    "# Converting full date to month.\n",
    "df_month.timestamp = list(map(lambda x : x.month, df_month.timestamp))\n",
    "\n",
    "# Calculating the mean of ratings.\n",
    "df_month_mean = df_month.groupby(['timestamp']).mean()\n",
    "\n",
    "# Adding a columns with value counts.\n",
    "df_month_mean = df_month_mean.join(pd.DataFrame(df_month.timestamp.value_counts()))\n",
    "\n",
    "# Renaming the index.\n",
    "df_month_mean.index = ['Jan','Feb','Mar','Apr','May','Jun','Jul','Aug','Sep','Oct','Nov','Dec']\n",
    "\n",
    "# Editing the variable name.\n",
    "df_month_mean.columns = ['Avg Rating','Tweets Number']\n",
    "idx = ['01','02','03','04','05','06','07','08','09','10','11','12']\n",
    "df_month_mean['idx'] = idx\n",
    "\n",
    "# Printing the summary.\n",
    "df_month_mean"
   ]
  },
  {
   "cell_type": "code",
   "execution_count": 181,
   "metadata": {},
   "outputs": [
    {
     "data": {
      "image/png": "[encoded data removed]",
      "text/plain": [
       "<matplotlib.figure.Figure at 0x7f6166f00b70>"
      ]
     },
     "metadata": {
      "needs_background": "light"
     },
     "output_type": "display_data"
    }
   ],
   "source": [
    "# Plotting Average Rating over the weekdays.\n",
    "gp_bar_line(df_x = df_month_mean,\n",
    "            df_y1 = df_month_mean['Avg Rating'],\n",
    "            df_y2 = df_month_mean['Tweets Number'],\n",
    "            gp_title = 'Graphic 7 - Average Rating and Number of Tweets per Month.',\n",
    "            xlabel = 'Month',\n",
    "            ylabel = 'Number of Tweets')"
   ]
  },
  {
   "cell_type": "markdown",
   "metadata": {},
   "source": [
    "In the above graph, along x axis<br>\n",
    "**01 = January\n",
    "02 = February\n",
    "03 = March\n",
    "04 = April\n",
    "05 = May\n",
    "06 = June\n",
    "07 = July\n",
    "08 = August\n",
    "09 = September\n",
    "10 = October\n",
    "11 = November\n",
    "12 = December**"
   ]
  },
  {
   "cell_type": "markdown",
   "metadata": {},
   "source": [
    "*Conclusion: Although December and November have the highest number of tweets, the average rating goes in the opposite way. These two months have the lowest number of average ratings. There is strong evidence of seasonality.*"
   ]
  },
  {
   "cell_type": "markdown",
   "metadata": {},
   "source": [
    "#### 5. Dog Breeds Appeal\n",
    "Analyzing which breed is having more reactions"
   ]
  },
  {
   "cell_type": "code",
   "execution_count": 182,
   "metadata": {},
   "outputs": [],
   "source": [
    "'''\n",
    "This function aims to plot a graph using barchart and lines. Both side of the Y axis will be used.\n",
    "INPUTS:\n",
    "VARIABLE   TYPE         DESCRIPTION\n",
    "df_viz     data frame   The entire data frame (imported from twitter_archive_master.csv).\n",
    "algorithm  str          Could be p1, p2 or p3.\n",
    "threshold  int          Breed's number to be displayed in the graphic.\n",
    "sorting    bool         True: ascending, False: descending.\n",
    "OUTUPUTS:\n",
    "VARIABLE   TYPE         DESCRIPTION\n",
    "df_alg     data frame   Data frame with 'threshold' rows and 3 columns (favorite_count,\n",
    "                        retweet_count, and rate). It is indexed by dog's breed.\n",
    "'''\n",
    "\n",
    "# This functions is to wrap code lines. The result of this function is the input of gp_triple function.\n",
    "def df_gp_triple(df_viz, algorithm, threshold = 20, sorting = False):\n",
    "    # According to the algorithm I will subset the df_viz using differents rows.\n",
    "    if algorithm == 'p1':\n",
    "        df_alg = df_viz[['rating_numerator','p1','p1_dog','retweet_count','favorite_count']]\n",
    "        df_alg = df_alg[df_alg.p1_dog]\n",
    "        df_alg = df_alg.groupby(['p1']).sum()\n",
    "    elif algorithm == 'p2':\n",
    "        df_alg = df_viz[['rating_numerator','p2','p2_dog','retweet_count','favorite_count']]\n",
    "        df_alg = df_alg[df_alg.p2_dog]\n",
    "        df_alg = df_alg.groupby(['p2']).sum()\n",
    "    else:\n",
    "        df_alg = df_viz[['rating_numerator','p3','p3_dog','retweet_count','favorite_count']]\n",
    "        df_alg = df_alg[df_alg.p3_dog]\n",
    "        df_alg = df_alg.groupby(['p3']).sum()\n",
    "\n",
    "    # Removing the 'p#', 'p#_dog', and 'rating_numerator' columns.\n",
    "    df_alg = df_alg[['favorite_count','retweet_count']]\n",
    "\n",
    "    # Adding a new columns with the rate (favorite divided by retweet)\n",
    "    df_alg = df_alg.join(pd.DataFrame(df_alg['favorite_count']/df_alg['retweet_count']))\n",
    "\n",
    "    # Renaming columns.\n",
    "    df_alg.columns = ['favorite_count','retweet_count','rate']\n",
    "\n",
    "    # Sorting by favorite_count.\n",
    "    df_alg = df_alg.sort_values(by = 'rate', ascending = sorting)[:threshold]\n",
    "    \n",
    "    # return df_alg.\n",
    "    return df_alg"
   ]
  },
  {
   "cell_type": "code",
   "execution_count": 183,
   "metadata": {},
   "outputs": [
    {
     "data": {
      "text/html": [
       "<div>\n",
       "<style scoped>\n",
       "    .dataframe tbody tr th:only-of-type {\n",
       "        vertical-align: middle;\n",
       "    }\n",
       "\n",
       "    .dataframe tbody tr th {\n",
       "        vertical-align: top;\n",
       "    }\n",
       "\n",
       "    .dataframe thead th {\n",
       "        text-align: right;\n",
       "    }\n",
       "</style>\n",
       "<table border=\"1\" class=\"dataframe\">\n",
       "  <thead>\n",
       "    <tr style=\"text-align: right;\">\n",
       "      <th></th>\n",
       "      <th>favorite_count</th>\n",
       "      <th>retweet_count</th>\n",
       "      <th>rate</th>\n",
       "      <th>idx</th>\n",
       "    </tr>\n",
       "    <tr>\n",
       "      <th>p1</th>\n",
       "      <th></th>\n",
       "      <th></th>\n",
       "      <th></th>\n",
       "      <th></th>\n",
       "    </tr>\n",
       "  </thead>\n",
       "  <tbody>\n",
       "    <tr>\n",
       "      <th>german_short_haired_pointer</th>\n",
       "      <td>27523.0</td>\n",
       "      <td>4455.0</td>\n",
       "      <td>6.178002</td>\n",
       "      <td>01</td>\n",
       "    </tr>\n",
       "    <tr>\n",
       "      <th>basset</th>\n",
       "      <td>122353.0</td>\n",
       "      <td>23171.0</td>\n",
       "      <td>5.280437</td>\n",
       "      <td>02</td>\n",
       "    </tr>\n",
       "    <tr>\n",
       "      <th>irish_terrier</th>\n",
       "      <td>34710.0</td>\n",
       "      <td>6583.0</td>\n",
       "      <td>5.272672</td>\n",
       "      <td>03</td>\n",
       "    </tr>\n",
       "    <tr>\n",
       "      <th>rhodesian_ridgeback</th>\n",
       "      <td>12956.0</td>\n",
       "      <td>2479.0</td>\n",
       "      <td>5.226301</td>\n",
       "      <td>04</td>\n",
       "    </tr>\n",
       "    <tr>\n",
       "      <th>bloodhound</th>\n",
       "      <td>25891.0</td>\n",
       "      <td>5080.0</td>\n",
       "      <td>5.096654</td>\n",
       "      <td>05</td>\n",
       "    </tr>\n",
       "  </tbody>\n",
       "</table>\n",
       "</div>"
      ],
      "text/plain": [
       "                             favorite_count  retweet_count      rate idx\n",
       "p1                                                                      \n",
       "german_short_haired_pointer         27523.0         4455.0  6.178002  01\n",
       "basset                             122353.0        23171.0  5.280437  02\n",
       "irish_terrier                       34710.0         6583.0  5.272672  03\n",
       "rhodesian_ridgeback                 12956.0         2479.0  5.226301  04\n",
       "bloodhound                          25891.0         5080.0  5.096654  05"
      ]
     },
     "execution_count": 183,
     "metadata": {},
     "output_type": "execute_result"
    }
   ],
   "source": [
    "# Subsetting the df_viz using the function df_gp_triple.\n",
    "df_p1 = df_gp_triple(df_viz,\n",
    "                     algorithm = 'p1')\n",
    "#df_p1.index = ['01','02','03','04','05','06','07','08','09','10','11','12','13','14','15','16','17','18','19','20']\n",
    "idx = ['01','02','03','04','05','06','07','08','09','10','11','12','13','14','15','16','17','18','19','20']\n",
    "df_p1['idx'] = idx\n",
    "\n",
    "# Printing the first 5 rows.\n",
    "df_p1.head()"
   ]
  },
  {
   "cell_type": "markdown",
   "metadata": {},
   "source": [
    "*Let us try to plot the result into graphs*"
   ]
  },
  {
   "cell_type": "code",
   "execution_count": 184,
   "metadata": {},
   "outputs": [
    {
     "data": {
      "text/plain": [
       "['german_short_haired_pointer',\n",
       " 'basset',\n",
       " 'irish_terrier',\n",
       " 'rhodesian_ridgeback',\n",
       " 'bloodhound',\n",
       " 'cairn',\n",
       " 'doberman',\n",
       " 'saluki',\n",
       " 'bedlington_terrier',\n",
       " 'siberian_husky',\n",
       " 'bull_mastiff',\n",
       " 'eskimo_dog',\n",
       " 'bernese_mountain_dog',\n",
       " 'scottish_deerhound',\n",
       " 'english_springer',\n",
       " 'yorkshire_terrier',\n",
       " 'greater_swiss_mountain_dog',\n",
       " 'french_bulldog',\n",
       " 'old_english_sheepdog',\n",
       " 'staffordshire_bullterrier']"
      ]
     },
     "execution_count": 184,
     "metadata": {},
     "output_type": "execute_result"
    }
   ],
   "source": [
    "list(df_p1.index)"
   ]
  },
  {
   "cell_type": "code",
   "execution_count": 185,
   "metadata": {},
   "outputs": [],
   "source": [
    "'''\n",
    "This function aims to plot a graph using barchart and lines. Both side of the Y axis will be used.\n",
    "INPUTS:\n",
    "VARIABLE   TYPE         DESCRIPTION\n",
    "df_x       data frame   The entire data frame (imported from twitter_archive_master.csv).\n",
    "df_y1      data frame   The variable to be displayed as blue bar 1.\n",
    "df_y2      data frame   The variable to be displayed as orange bar 2.\n",
    "df_y3      data frame   The variable to be displayed as line.\n",
    "algorithm  str          Could be 'p1', 'p2' or 'p3'.\n",
    "gp_title   str          Graphic title.\n",
    "xlabel     str          X axis label.\n",
    "ylabel     str          Y axis label.\n",
    "font       str          Axis labels font size.\n",
    "font_title str          Graphic Title font size.\n",
    "width      str          Barchart width.\n",
    "OUTUPUTS:\n",
    "VARIABLE     TYPE   DESCRIPTION\n",
    "graphic      -      Returns a matplotlib graph.\n",
    "'''\n",
    "# Function to plot the df_gp_triple data frame.\n",
    "def gp_triple(df_x, df_y1, df_y2, df_y3, algorithm, gp_title, xlabel, ylabel,\n",
    "              font = font, font_title = font_title, width = width):\n",
    "    # Defining the subplot and Graphic size.\n",
    "    fig, ax1 = plt.subplots(figsize = [14,8])\n",
    "\n",
    "    # First element: Blue Barchart\n",
    "    color = 'tab:blue'\n",
    "    ax1.set_xlabel('Dog\\'s Breed', fontsize = font)\n",
    "    ax1.set_ylabel('Number of Retweets\\nNumber of Favorite', color=color, fontsize = font)\n",
    "    ax1.bar(df_x.idx, df_y1, width, color=color)\n",
    "    ax1.tick_params(axis='y', labelcolor=color)\n",
    "    ax1.tick_params(axis='x', rotation = 90)\n",
    "    ax1.set_xticklabels(df_x.index)\n",
    "\n",
    "    # Second element: Orange Barchart\n",
    "    ax3 = ax1.twiny() \n",
    "    color = 'tab:orange'\n",
    "    ax3.bar(df_x.idx, df_y2, width, color=color)\n",
    "    ax3.tick_params(axis='x', labelcolor=color, top = False)\n",
    "    ax3.set_xticklabels(labels = [], axis='x', labelcolor = color, top = False)\n",
    "\n",
    "    # Third element: Red Line\n",
    "    ax2 = ax1.twinx()  # instantiate a second axes that shares the same x-axis\n",
    "    color = 'indianred'\n",
    "    ax2.set_ylabel('Favorite/Retweet', color=color, fontsize = font)  # we already handled the x-label with ax1\n",
    "    ax2.plot(df_x.idx, df_y3, color=color, linewidth = 3)\n",
    "    ax2.tick_params(axis='y', labelcolor=color)\n",
    "    ax2.set_xticklabels(df_x.index)\n",
    "\n",
    "    # Avoid right y-label to be slightly clipped\n",
    "    fig.tight_layout() \n",
    "    \n",
    "    # According to the algorithm the average is different because the subsetting differents rows. \n",
    "    if algorithm == 'p1':\n",
    "        df_alg = df_viz[df_viz.p1_dog]\n",
    "    elif algorithm == 'p2':\n",
    "        df_alg = df_viz[df_viz.p2_dog]\n",
    "    else:\n",
    "        df_alg = df_viz[df_viz.p3_dog]\n",
    "    \n",
    "    # Subsetting: removing any NaN or Null rows.\n",
    "    df_alg_fav = df_alg[np.logical_not(df_alg.retweet_count.isnull())].favorite_count\n",
    "    df_alg_ret = df_alg[np.logical_not(df_alg.retweet_count.isnull())].retweet_count\n",
    "    \n",
    "    # Calculating the rate = favorites/tweets, this is a vector.\n",
    "    df_alg_rate = df_alg_fav/df_alg_ret\n",
    "    \n",
    "    # Calculating the mean, this is a single value.\n",
    "    df_alg_rat_fav_ret = df_alg_rate.mean()\n",
    "    \n",
    "    # Plotting a dotted green line as average.\n",
    "    plt.axhline(y = df_alg_rat_fav_ret, color='green', linestyle='--')\n",
    "\n",
    "    # Defining the Graphic Title.\n",
    "    plt.title(gp_title, fontsize = font_title)\n",
    "    \n",
    "    # Plot.\n",
    "    return plt.show()"
   ]
  },
  {
   "cell_type": "code",
   "execution_count": 186,
   "metadata": {},
   "outputs": [
    {
     "data": {
      "image/png": "[encoded data removed]",
      "text/plain": [
       "<matplotlib.figure.Figure at 0x7f6166c03898>"
      ]
     },
     "metadata": {},
     "output_type": "display_data"
    }
   ],
   "source": [
    "# Plotting a graphic using the output of df_gp_triple as input of gp_triple.\n",
    "gp_triple(df_x = df_p1,\n",
    "          df_y1 = df_p1['favorite_count'],\n",
    "          df_y2 = df_p1['retweet_count'],\n",
    "          df_y3 = df_p1['rate'],\n",
    "          algorithm = 'p2',\n",
    "          gp_title = 'Graphic 8 - Algortihm 1 - Favorite/Retweets rate for each Dog\\'s Breed.',\n",
    "          xlabel = 'Dog\\'s Breed',\n",
    "          ylabel = 'Number of Retweets\\nNumber of Favorite')"
   ]
  },
  {
   "cell_type": "markdown",
   "metadata": {},
   "source": [
    "*The blue bar means the number of favourites, the orange bar the number of retweets, dotted green line the average of Favorite/Retweets for all dog breeds, and the red line the value of the Favorite/Retweet for each dog breed.*"
   ]
  },
  {
   "cell_type": "code",
   "execution_count": 187,
   "metadata": {},
   "outputs": [],
   "source": [
    "'''\n",
    "This function aims to plot a graph using barchart and lines. Both side of the Y axis will be used.\n",
    "INPUTS:\n",
    "VARIABLE   TYPE         DESCRIPTION\n",
    "df_viz     data frame   The entire data frame (imported from twitter_archive_master.csv).\n",
    "df_x       data frame   The entire data frame (imported from twitter_archive_master.csv).\n",
    "df_y1      data frame   The variable to be displayed as blue bar 1.\n",
    "df_y2      data frame   The variable to be displayed as orange bar 2.\n",
    "df_y3      data frame   The variable to be displayed as line.\n",
    "algorithm  str          Could be 'p1', 'p2' or 'p3'.\n",
    "gp_title   str          Graphic title.\n",
    "xlabel     str          X axis label.\n",
    "ylabel     str          Y axis label.\n",
    "font       str          Axis labels font size.\n",
    "font_title str          Graphic Title font size.\n",
    "threshold  int          Breed's number to be displayed in the graphic.\n",
    "sorting    bool         True: ascending, False: descending.\n",
    "OUTUPUTS:\n",
    "VARIABLE     TYPE   DESCRIPTION\n",
    "graph      -        Returns a matplotlib graph\n",
    "DEPENDENCIES:\n",
    "VARIABLE         TYPE        DESCRIPTION\n",
    "df_gp_triple     function    Generates a Data Frame which is used as input of gp_triple.\n",
    "gp_triple        function    Create the graphic using the output of df_gp_triple as input.\n",
    "'''\n",
    "# This function wrap the df_gp_triple and gp_triple functions.\n",
    "def wrapper_triple(algorithm, gp_title, xlabel, ylabel,\n",
    "                   df_viz = df_viz, font = font, font_title = font_title, threshold = 20, sorting = False):\n",
    "    # Subset the df_viz according to the algorthm.\n",
    "    df_alg = df_gp_triple(df_viz,\n",
    "                          algorithm = algorithm,\n",
    "                          threshold = threshold,\n",
    "                          sorting = sorting)\n",
    "    idx = ['01','02','03','04','05','06','07','08','09','10','11','12','13','14','15','16','17','18','19','20']\n",
    "    df_alg['idx'] = idx\n",
    "    \n",
    "    # Plot a graphic according to the df_alg.\n",
    "    gp_triple(df_x = df_alg,\n",
    "          df_y1 = df_alg['favorite_count'],\n",
    "          df_y2 = df_alg['retweet_count'],\n",
    "          df_y3 = df_alg['rate'],\n",
    "          algorithm = algorithm,\n",
    "          gp_title = gp_title,\n",
    "          xlabel = xlabel,\n",
    "          ylabel = ylabel)"
   ]
  },
  {
   "cell_type": "markdown",
   "metadata": {},
   "source": [
    "*Plotting graph for algorithm P2*"
   ]
  },
  {
   "cell_type": "code",
   "execution_count": 188,
   "metadata": {},
   "outputs": [
    {
     "data": {
      "image/png": "[encoded data removed]",
      "text/plain": [
       "<matplotlib.figure.Figure at 0x7f616b561358>"
      ]
     },
     "metadata": {},
     "output_type": "display_data"
    }
   ],
   "source": [
    "wrapper_triple(algorithm = 'p2',\n",
    "               gp_title = 'Graphic 9 - Algortihm 2 - Favorite/Retweets rate for each Dog\\'s Breed.',\n",
    "               xlabel = 'Dog\\'s Breed',\n",
    "               ylabel = 'Number of Retweets\\nNumber of Favorite')"
   ]
  },
  {
   "cell_type": "markdown",
   "metadata": {},
   "source": [
    "Finally, plotting the same graph for the P3 algorithm."
   ]
  },
  {
   "cell_type": "code",
   "execution_count": 189,
   "metadata": {},
   "outputs": [
    {
     "data": {
      "image/png": "[encoded data removed]",
      "text/plain": [
       "<matplotlib.figure.Figure at 0x7f616c27af98>"
      ]
     },
     "metadata": {},
     "output_type": "display_data"
    }
   ],
   "source": [
    "wrapper_triple(algorithm = 'p3',\n",
    "               gp_title = 'Graphic 10 - Algortihm 3 - Favorite/Retweets rate for each Dog\\'s Breed.',\n",
    "               xlabel = 'Dog\\'s Breed',\n",
    "               ylabel = 'Number of Retweets\\nNumber of Favorite')"
   ]
  },
  {
   "cell_type": "markdown",
   "metadata": {},
   "source": [
    "*Comparing the three graphs we analyze that there is no dog breed which appears in the three graphs (8, 9, and 10), which can be interpreted as very distinct algorithms calibration.*\n",
    "\n",
    "*Conclusion: Unfortunately, it is not possible to determinate which dog breed has the highest impact in respect to the number of retweets and favourite. because for each algorithm a different breed has performed the highest impact. There is no consensus.*"
   ]
  },
  {
   "cell_type": "markdown",
   "metadata": {},
   "source": [
    "#### 6. Algorithm Correlation\n",
    "In accordance with the Dog Breeds Appeal, let's investigate the output of the algorithm in respect to the Favorite/Retweet rate. We'll increase the number of breeds analysed by the algorithm to 40 because 20 there are no breeds which appear in the three algorithms."
   ]
  },
  {
   "cell_type": "code",
   "execution_count": 190,
   "metadata": {},
   "outputs": [
    {
     "data": {
      "text/html": [
       "<div>\n",
       "<style scoped>\n",
       "    .dataframe tbody tr th:only-of-type {\n",
       "        vertical-align: middle;\n",
       "    }\n",
       "\n",
       "    .dataframe tbody tr th {\n",
       "        vertical-align: top;\n",
       "    }\n",
       "\n",
       "    .dataframe thead th {\n",
       "        text-align: right;\n",
       "    }\n",
       "</style>\n",
       "<table border=\"1\" class=\"dataframe\">\n",
       "  <thead>\n",
       "    <tr style=\"text-align: right;\">\n",
       "      <th></th>\n",
       "      <th>rate_p1</th>\n",
       "      <th>rate_p2</th>\n",
       "      <th>rate_p3</th>\n",
       "    </tr>\n",
       "  </thead>\n",
       "  <tbody>\n",
       "    <tr>\n",
       "      <th>newfoundland</th>\n",
       "      <td>3.700781</td>\n",
       "      <td>5.211597</td>\n",
       "      <td>5.745550</td>\n",
       "    </tr>\n",
       "    <tr>\n",
       "      <th>yorkshire_terrier</th>\n",
       "      <td>4.204334</td>\n",
       "      <td>3.784307</td>\n",
       "      <td>3.932011</td>\n",
       "    </tr>\n",
       "    <tr>\n",
       "      <th>kuvasz</th>\n",
       "      <td>3.675678</td>\n",
       "      <td>4.255575</td>\n",
       "      <td>3.885262</td>\n",
       "    </tr>\n",
       "    <tr>\n",
       "      <th>staffordshire_bullterrier</th>\n",
       "      <td>4.082564</td>\n",
       "      <td>4.182275</td>\n",
       "      <td>3.841623</td>\n",
       "    </tr>\n",
       "  </tbody>\n",
       "</table>\n",
       "</div>"
      ],
      "text/plain": [
       "                            rate_p1   rate_p2   rate_p3\n",
       "newfoundland               3.700781  5.211597  5.745550\n",
       "yorkshire_terrier          4.204334  3.784307  3.932011\n",
       "kuvasz                     3.675678  4.255575  3.885262\n",
       "staffordshire_bullterrier  4.082564  4.182275  3.841623"
      ]
     },
     "execution_count": 190,
     "metadata": {},
     "output_type": "execute_result"
    }
   ],
   "source": [
    "'''\n",
    "This function creates a data frame with rate (favorit/retweet) of all algorthms, each row is a dog's breed.\n",
    "INPUTS:\n",
    "VARIABLE   TYPE         DESCRIPTION\n",
    "df_viz     data frame   The entire data frame (imported from twitter_archive_master.csv).\n",
    "threshold  int          Breed's number to be displayed in the graphic.\n",
    "sorting    bool         True: ascending, False: descending.\n",
    "OUTUPUTS:\n",
    "VARIABLE     TYPE          DESCRIPTION\n",
    "df_thr       data frame    Returns a data frame with rate calculated of all algorithms.\n",
    "DEPENDENCIES:\n",
    "VARIABLE         TYPE        DESCRIPTION\n",
    "df_gp_triple     function    Generates a Data Frame which is used as input of gp_triple.\n",
    "'''\n",
    "# Defininf a function to calculate the rate dataframe.\n",
    "def df_rate(threshold,sorting = False, df_viz = df_viz):\n",
    "    # Calculating the new Data Frame for each algorithm.\n",
    "    df_p1_thr = df_gp_triple(df_viz, 'p1', threshold = threshold, sorting = sorting)\n",
    "    df_p2_thr = df_gp_triple(df_viz, 'p2', threshold = threshold, sorting = sorting)\n",
    "    df_p3_thr = df_gp_triple(df_viz, 'p3', threshold = threshold, sorting = sorting)\n",
    "\n",
    "    # Creating df_thr Data Frame to merge df_p1_thr and df_p2_thr.\n",
    "    df_thr = pd.merge(df_p1_thr, df_p2_thr, left_index=True, right_index=True, how='outer')\n",
    "\n",
    "    # Renaming columns.\n",
    "    df_thr.columns = ['favorite_count_p1','retweet_count_p1','rate_p1',\n",
    "                      'favorite_count_p2','retweet_count_p2','rate_p2']\n",
    "\n",
    "    # Updating df_thr Data Frame to merging with df_p3_thr.\n",
    "    df_thr = pd.merge(df_thr, df_p3_thr, left_index=True, right_index=True, how='outer')\n",
    "\n",
    "    # Renaming columns.\n",
    "    df_thr.columns = ['favorite_count_p1','retweet_count_p1','rate_p1',\n",
    "                      'favorite_count_p2','retweet_count_p2','rate_p2',\n",
    "                      'favorite_count_p3','retweet_count_p3','rate_p3']\n",
    "\n",
    "    # Data Cleaning.\n",
    "    # Removing NaN values.\n",
    "    df_thr = df_thr[np.logical_not(df_thr.favorite_count_p1.isnull())]\n",
    "    df_thr = df_thr[np.logical_not(df_thr.favorite_count_p2.isnull())]\n",
    "    df_thr = df_thr[np.logical_not(df_thr.favorite_count_p3.isnull())]\n",
    "\n",
    "    # Subsetting to gather only rates\n",
    "    df_thr = df_thr[['rate_p1', 'rate_p2', 'rate_p3']].sort_values(by = ['rate_p3', 'rate_p2', 'rate_p1'], ascending = False)\n",
    "    \n",
    "    return df_thr # Return the df_thr data frame.\n",
    "\n",
    "\n",
    "# Calculating the rates to threshold equal to 40.\n",
    "df_rate(threshold = 40)"
   ]
  },
  {
   "cell_type": "markdown",
   "metadata": {},
   "source": [
    "Increasing the threshold, we found four (4) dog breeds\n",
    "1. New found land\n",
    "2. Yorkshire Terries\n",
    "3. Kuvasz\n",
    "4. Staffordshire Bullterrier\n",
    "\n",
    "Wanted to check the correlation between the results of each algorithm in respect to the rate (favorite/retweet)"
   ]
  },
  {
   "cell_type": "code",
   "execution_count": 191,
   "metadata": {},
   "outputs": [
    {
     "data": {
      "image/png": "[encoded data removed]",
      "text/plain": [
       "<matplotlib.figure.Figure at 0x7f6166ee7e10>"
      ]
     },
     "metadata": {
      "needs_background": "light"
     },
     "output_type": "display_data"
    }
   ],
   "source": [
    "# Setting: Two graphics side-by-side. Size: [14,8]\n",
    "fig, [ax1, ax2] = plt.subplots(1, 2, figsize=(14, 8))\n",
    "\n",
    "# Compute the correlation matrix\n",
    "corr = df_rate(threshold = 40).corr()\n",
    "\n",
    "# Generate a mask for the upper triangle\n",
    "mask = np.zeros_like(corr, dtype=np.bool)\n",
    "mask[np.triu_indices_from(mask)] = True\n",
    "\n",
    "# Generate a custom diverging colormap\n",
    "cmap = sns.diverging_palette(220, 10, as_cmap=True)\n",
    "\n",
    "# Draw the heatmap with the mask and correct aspect ratio\n",
    "sns.heatmap(corr, mask=mask, cmap=cmap, vmax=.3, center=0, annot = True,\n",
    "            square=True, linewidths=.5, ax = ax1,cbar_kws={\"shrink\": .5})\n",
    "\n",
    "# Graphic Title to threshold 40\n",
    "ax1.set_title('Graphic 11a - Correlation Map - Threshold 40', fontsize = font)\n",
    "\n",
    "# Compute the correlation matrix\n",
    "corr = df_rate(threshold = 120).corr()\n",
    "\n",
    "# Generate a mask for the upper triangle\n",
    "mask = np.zeros_like(corr, dtype=np.bool)\n",
    "mask[np.triu_indices_from(mask)] = True\n",
    "\n",
    "# Generate a custom diverging colormap\n",
    "cmap = sns.diverging_palette(220, 10, as_cmap=True)\n",
    "\n",
    "# Draw the heatmap with the mask and correct aspect ratio\n",
    "sns.heatmap(corr, mask=mask, cmap=cmap, vmax=.3, center=0, annot = True,\n",
    "            square=True, linewidths=.5, ax = ax2,cbar_kws={\"shrink\": .5})\n",
    "\n",
    "# Graphic Title to threshold 100\n",
    "ax2.set_title('Graphic 11b - Correlation Map - All Breeds', fontsize = font);"
   ]
  },
  {
   "cell_type": "markdown",
   "metadata": {},
   "source": [
    "Conclusion: There is no correlation between the results of the three algorithms. An analysis oblique using only the 40 breeds with the highest rate could lead us an erroneous conclusion. The Correlation Map using all breeds gave a good measure of (un)similarities between these algorithms."
   ]
  },
  {
   "cell_type": "markdown",
   "metadata": {},
   "source": [
    "#### 7. Further Analysis\n",
    "* What lead some Breed has better performance than other<br>\n",
    "Subset the df_viz taking only the breed with a rate above of the mean.\n",
    "* When the babies arrive? Is there any correlation between dogtionary term over the year?<br>\n",
    "Identify the seasons of dog's reproducibility."
   ]
  },
  {
   "cell_type": "markdown",
   "metadata": {},
   "source": [
    "### Conclusion\n",
    "This project aims to perform the Data Wrangling and the Exploratory Data Analysis in the WeRateDogs™ Twitter account.\n",
    "\n",
    "The Data Gathering process englobed three different tasks, the first one download file from URL and later loading to the Jupyter Notebook, which requires a manual step, the second downloading a file programmatically, and the third gathering data from the Twitter API.\n",
    "\n",
    "Based on the data gathered, We have assessed the most evident issues (17 issues in total) and documented it to create a record of modifications. Later, in Data Cleaning process I have fixed all identified issues to complete, and I have also merged separated data frame into one and added some missing values. The final data frame was stored as twitter_archive_master.csv.\n",
    "\n",
    "In the Data Analysis and Visualization, which we have interpreted as Exploratory Analysis, We have posed few questions to guide my analysis. Also have found strong evidence of:\n",
    "\n",
    "* Seasonality in the number of tweets along the week and along the year\n",
    "* A positive correlation between the number of retweets and the number of favourites\n",
    "* No correlation between the algorithms output used to predict the dog breed"
   ]
  }
 ],
 "metadata": {
  "extensions": {
   "jupyter_dashboards": {
    "activeView": "report_default",
    "version": 1,
    "views": {
     "grid_default": {
      "cellMargin": 10,
      "defaultCellHeight": 20,
      "maxColumns": 12,
      "name": "grid",
      "type": "grid"
     },
     "report_default": {
      "name": "report",
      "type": "report"
     }
    }
   }
  },
  "kernelspec": {
   "display_name": "Python 3",
   "language": "python",
   "name": "python3"
  },
  "language_info": {
   "codemirror_mode": {
    "name": "ipython",
    "version": 3
   },
   "file_extension": ".py",
   "mimetype": "text/x-python",
   "name": "python",
   "nbconvert_exporter": "python",
   "pygments_lexer": "ipython3",
   "version": "3.6.3"
  }
 },
 "nbformat": 4,
 "nbformat_minor": 2
}
